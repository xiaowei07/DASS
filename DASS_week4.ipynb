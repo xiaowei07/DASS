{
 "cells": [
  {
   "cell_type": "markdown",
   "metadata": {},
   "source": [
    "# Week 4 goals:\n",
    "\n",
    "1. Feature Engineering Update\n",
    "2. Check Distribution inside each variable: normal/not normal/uniform\n",
    "3. Select Features."
   ]
  },
  {
   "cell_type": "code",
   "execution_count": 1,
   "metadata": {},
   "outputs": [],
   "source": [
    "import numpy as np\n",
    "import matplotlib.pyplot as plt\n",
    "import pandas as pd\n",
    "import seaborn as sns\n",
    "from scipy import stats"
   ]
  },
  {
   "cell_type": "code",
   "execution_count": 2,
   "metadata": {},
   "outputs": [],
   "source": [
    "data = pd.read_csv('data.csv',sep='\\t')"
   ]
  },
  {
   "cell_type": "code",
   "execution_count": 3,
   "metadata": {},
   "outputs": [],
   "source": [
    "data['stress_score'] = data.apply(lambda row: row.Q1A + row.Q6A + row.Q8A + row.Q11A + row.Q12A + row.Q14A\n",
    "                                       + row.Q18A + row.Q22A + row.Q27A + row.Q29A + row.Q32A + row.Q33A + row.Q35A + row.Q39A,\n",
    "                                       axis=1)"
   ]
  },
  {
   "cell_type": "code",
   "execution_count": 4,
   "metadata": {},
   "outputs": [],
   "source": [
    "data['stress_category'] = data[\"stress_score\"]"
   ]
  },
  {
   "cell_type": "code",
   "execution_count": 5,
   "metadata": {},
   "outputs": [],
   "source": [
    "data.loc[ data['stress_category'] <= 28, 'stress_category'] = 1\n",
    "data.loc[(data['stress_category'] > 28) & (data['stress_category'] <= 32), 'stress_category'] = 2\n",
    "data.loc[(data['stress_category'] > 32) & (data['stress_category'] <= 39), 'stress_category'] = 3\n",
    "data.loc[(data['stress_category'] > 39) & (data['stress_category'] <= 47), 'stress_category'] = 4\n",
    "data.loc[ data['stress_category'] > 47, 'stress_category'] = 5 "
   ]
  },
  {
   "cell_type": "code",
   "execution_count": 6,
   "metadata": {},
   "outputs": [],
   "source": [
    "data['anxiety_score'] = data.apply(lambda row: row.Q2A + row.Q4A + row.Q7A + row.Q9A + row.Q15A + row.Q19A\n",
    "                                       + row.Q20A + row.Q23A + row.Q25A + row.Q28A + row.Q30A + row.Q36A + row.Q40A + row.Q41A,\n",
    "                                       axis=1)"
   ]
  },
  {
   "cell_type": "code",
   "execution_count": 7,
   "metadata": {},
   "outputs": [],
   "source": [
    "data['anxiety_category'] = data['anxiety_score']"
   ]
  },
  {
   "cell_type": "code",
   "execution_count": 8,
   "metadata": {},
   "outputs": [],
   "source": [
    "data.loc[ data['anxiety_category'] <= 21, 'anxiety_category'] = 1\n",
    "data.loc[(data['anxiety_category'] > 21) & (data['anxiety_category'] <= 23), 'anxiety_category'] = 2\n",
    "data.loc[(data['anxiety_category'] > 23) & (data['anxiety_category'] <= 28), 'anxiety_category'] = 3\n",
    "data.loc[(data['anxiety_category'] > 28) & (data['anxiety_category'] <= 33), 'anxiety_category'] = 4\n",
    "data.loc[ data['anxiety_category'] > 33, 'anxiety_category'] = 5 "
   ]
  },
  {
   "cell_type": "code",
   "execution_count": 9,
   "metadata": {},
   "outputs": [],
   "source": [
    "data['depression_score'] = data.apply(lambda row: row.Q3A + row.Q5A + row.Q10A + row.Q13A + row.Q16A + row.Q17A\n",
    "                                       + row.Q21A + row.Q24A + row.Q26A + row.Q31A + row.Q34A + row.Q37A + row.Q38A + row.Q42A,\n",
    "                                       axis=1)"
   ]
  },
  {
   "cell_type": "code",
   "execution_count": 10,
   "metadata": {},
   "outputs": [],
   "source": [
    "data['depression_category'] = data['depression_score']"
   ]
  },
  {
   "cell_type": "code",
   "execution_count": 11,
   "metadata": {},
   "outputs": [],
   "source": [
    "data.loc[ data['depression_category'] <= 23, 'depression_category'] = 1\n",
    "data.loc[(data['depression_category'] > 23) & (data['depression_category'] <= 27), 'depression_category'] = 2\n",
    "data.loc[(data['depression_category'] > 27) & (data['depression_category'] <= 34), 'depression_category'] = 3\n",
    "data.loc[(data['depression_category'] > 34) & (data['depression_category'] <= 41), 'depression_category'] = 4\n",
    "data.loc[ data['depression_category'] > 41, 'depression_category'] = 5 "
   ]
  },
  {
   "cell_type": "code",
   "execution_count": 12,
   "metadata": {},
   "outputs": [],
   "source": [
    "data['Extroversion'] = data.apply(lambda row: row.TIPI1 + \n",
    "                                  (7-row.TIPI6), axis=1)"
   ]
  },
  {
   "cell_type": "code",
   "execution_count": 13,
   "metadata": {},
   "outputs": [],
   "source": [
    "data['Agreeableness'] = data.apply(lambda row: row.TIPI7 + \n",
    "                                   (7-row.TIPI2), axis=1)"
   ]
  },
  {
   "cell_type": "code",
   "execution_count": 14,
   "metadata": {},
   "outputs": [],
   "source": [
    "data['Conscientiousness'] = data.apply(lambda row: row.TIPI3 + \n",
    "                                       (7-row.TIPI8), axis=1)"
   ]
  },
  {
   "cell_type": "code",
   "execution_count": 15,
   "metadata": {},
   "outputs": [],
   "source": [
    "data['Emotional_stability'] = data.apply(lambda row: row.TIPI9 + \n",
    "                                         (7-row.TIPI4), axis=1)"
   ]
  },
  {
   "cell_type": "code",
   "execution_count": 16,
   "metadata": {},
   "outputs": [],
   "source": [
    "data['Openness_to_experience'] = data.apply(lambda row: row.TIPI5 + \n",
    "                                            (7-row.TIPI10), axis=1)"
   ]
  },
  {
   "cell_type": "markdown",
   "metadata": {},
   "source": [
    "## 1. Feature Engineering Update\n",
    "\n",
    "Keep all the basic Feature Engineering from Week 3. Update with \"unknown\" for demographic variables."
   ]
  },
  {
   "cell_type": "code",
   "execution_count": 17,
   "metadata": {},
   "outputs": [],
   "source": [
    "from sklearn.preprocessing import LabelEncoder, StandardScaler, MaxAbsScaler, QuantileTransformer"
   ]
  },
  {
   "cell_type": "code",
   "execution_count": 18,
   "metadata": {},
   "outputs": [],
   "source": [
    "data = data[data.TIPI1 != 0]\n",
    "data = data[data.TIPI2 != 0]\n",
    "data = data[data.TIPI3 != 0]\n",
    "data = data[data.TIPI4 != 0]\n",
    "data = data[data.TIPI5 != 0]\n",
    "data = data[data.TIPI6 != 0]\n",
    "data = data[data.TIPI7 != 0]\n",
    "data = data[data.TIPI8 != 0]\n",
    "data = data[data.TIPI9 != 0]\n",
    "data = data[data.TIPI10 != 0]"
   ]
  },
  {
   "cell_type": "code",
   "execution_count": 19,
   "metadata": {},
   "outputs": [],
   "source": [
    "data['depression_score'] = data['depression_score']-14\n",
    "data['anxiety_score'] = data['anxiety_score']-14\n",
    "data['stress_score'] = data['stress_score']-14"
   ]
  },
  {
   "cell_type": "code",
   "execution_count": 20,
   "metadata": {},
   "outputs": [],
   "source": [
    "data.loc[data['religion']==5,'religion'] = 4\n",
    "data.loc[data['religion']==6,'religion'] = 4\n",
    "data.loc[data['religion']==7,'religion'] = 4"
   ]
  },
  {
   "cell_type": "code",
   "execution_count": 21,
   "metadata": {},
   "outputs": [],
   "source": [
    "data = data[data.VCL6 != 1]\n",
    "data = data[data.VCL9 != 1]\n",
    "data = data[data.VCL12 != 1]"
   ]
  },
  {
   "cell_type": "code",
   "execution_count": 22,
   "metadata": {},
   "outputs": [],
   "source": [
    "data['education_yrs'] = data['education']"
   ]
  },
  {
   "cell_type": "code",
   "execution_count": 23,
   "metadata": {},
   "outputs": [],
   "source": [
    "data.loc[data['education_yrs'] == 1,'education_yrs'] = 8\n",
    "data.loc[data['education_yrs'] == 2,'education_yrs'] = 12\n",
    "data.loc[data['education_yrs'] == 3,'education_yrs'] = 16\n",
    "data.loc[data['education_yrs'] == 4,'education_yrs'] = 19"
   ]
  },
  {
   "cell_type": "code",
   "execution_count": 24,
   "metadata": {},
   "outputs": [],
   "source": [
    "data.loc[data['age']==1996,'age'] = 22\n",
    "data.loc[data['age']==1998,'age'] = 20\n",
    "data.loc[data['age']==1993,'age'] = 25\n",
    "data.loc[data['age']==1991,'age'] = 27\n",
    "\n",
    "data = data[data.age != 223]\n",
    "data = data[data.age != 115]\n",
    "data = data[data.age != 117]"
   ]
  },
  {
   "cell_type": "code",
   "execution_count": 25,
   "metadata": {},
   "outputs": [],
   "source": [
    "data = data[data.familysize <= 30]"
   ]
  },
  {
   "cell_type": "code",
   "execution_count": 26,
   "metadata": {},
   "outputs": [
    {
     "data": {
      "text/plain": [
       "(33270, 184)"
      ]
     },
     "execution_count": 26,
     "metadata": {},
     "output_type": "execute_result"
    }
   ],
   "source": [
    "data.shape"
   ]
  },
  {
   "cell_type": "code",
   "execution_count": 27,
   "metadata": {},
   "outputs": [
    {
     "data": {
      "text/html": [
       "<div>\n",
       "<style scoped>\n",
       "    .dataframe tbody tr th:only-of-type {\n",
       "        vertical-align: middle;\n",
       "    }\n",
       "\n",
       "    .dataframe tbody tr th {\n",
       "        vertical-align: top;\n",
       "    }\n",
       "\n",
       "    .dataframe thead th {\n",
       "        text-align: right;\n",
       "    }\n",
       "</style>\n",
       "<table border=\"1\" class=\"dataframe\">\n",
       "  <thead>\n",
       "    <tr style=\"text-align: right;\">\n",
       "      <th></th>\n",
       "      <th>Q1A</th>\n",
       "      <th>Q1I</th>\n",
       "      <th>Q1E</th>\n",
       "      <th>Q2A</th>\n",
       "      <th>Q2I</th>\n",
       "      <th>Q2E</th>\n",
       "      <th>Q3A</th>\n",
       "      <th>Q3I</th>\n",
       "      <th>Q3E</th>\n",
       "      <th>Q4A</th>\n",
       "      <th>...</th>\n",
       "      <th>anxiety_score</th>\n",
       "      <th>anxiety_category</th>\n",
       "      <th>depression_score</th>\n",
       "      <th>depression_category</th>\n",
       "      <th>Extroversion</th>\n",
       "      <th>Agreeableness</th>\n",
       "      <th>Conscientiousness</th>\n",
       "      <th>Emotional_stability</th>\n",
       "      <th>Openness_to_experience</th>\n",
       "      <th>education_yrs</th>\n",
       "    </tr>\n",
       "  </thead>\n",
       "  <tbody>\n",
       "    <tr>\n",
       "      <th>0</th>\n",
       "      <td>4</td>\n",
       "      <td>28</td>\n",
       "      <td>3890</td>\n",
       "      <td>4</td>\n",
       "      <td>25</td>\n",
       "      <td>2122</td>\n",
       "      <td>2</td>\n",
       "      <td>16</td>\n",
       "      <td>1944</td>\n",
       "      <td>4</td>\n",
       "      <td>...</td>\n",
       "      <td>34</td>\n",
       "      <td>5</td>\n",
       "      <td>27</td>\n",
       "      <td>4</td>\n",
       "      <td>1</td>\n",
       "      <td>9</td>\n",
       "      <td>9</td>\n",
       "      <td>1</td>\n",
       "      <td>13</td>\n",
       "      <td>12</td>\n",
       "    </tr>\n",
       "    <tr>\n",
       "      <th>1</th>\n",
       "      <td>4</td>\n",
       "      <td>2</td>\n",
       "      <td>8118</td>\n",
       "      <td>1</td>\n",
       "      <td>36</td>\n",
       "      <td>2890</td>\n",
       "      <td>2</td>\n",
       "      <td>35</td>\n",
       "      <td>4777</td>\n",
       "      <td>3</td>\n",
       "      <td>...</td>\n",
       "      <td>17</td>\n",
       "      <td>4</td>\n",
       "      <td>24</td>\n",
       "      <td>4</td>\n",
       "      <td>9</td>\n",
       "      <td>9</td>\n",
       "      <td>4</td>\n",
       "      <td>1</td>\n",
       "      <td>7</td>\n",
       "      <td>12</td>\n",
       "    </tr>\n",
       "    <tr>\n",
       "      <th>2</th>\n",
       "      <td>3</td>\n",
       "      <td>7</td>\n",
       "      <td>5784</td>\n",
       "      <td>1</td>\n",
       "      <td>33</td>\n",
       "      <td>4373</td>\n",
       "      <td>4</td>\n",
       "      <td>41</td>\n",
       "      <td>3242</td>\n",
       "      <td>1</td>\n",
       "      <td>...</td>\n",
       "      <td>12</td>\n",
       "      <td>3</td>\n",
       "      <td>39</td>\n",
       "      <td>5</td>\n",
       "      <td>3</td>\n",
       "      <td>7</td>\n",
       "      <td>4</td>\n",
       "      <td>8</td>\n",
       "      <td>10</td>\n",
       "      <td>12</td>\n",
       "    </tr>\n",
       "    <tr>\n",
       "      <th>3</th>\n",
       "      <td>2</td>\n",
       "      <td>23</td>\n",
       "      <td>5081</td>\n",
       "      <td>3</td>\n",
       "      <td>11</td>\n",
       "      <td>6837</td>\n",
       "      <td>2</td>\n",
       "      <td>37</td>\n",
       "      <td>5521</td>\n",
       "      <td>1</td>\n",
       "      <td>...</td>\n",
       "      <td>17</td>\n",
       "      <td>4</td>\n",
       "      <td>16</td>\n",
       "      <td>3</td>\n",
       "      <td>4</td>\n",
       "      <td>12</td>\n",
       "      <td>13</td>\n",
       "      <td>9</td>\n",
       "      <td>12</td>\n",
       "      <td>8</td>\n",
       "    </tr>\n",
       "    <tr>\n",
       "      <th>4</th>\n",
       "      <td>2</td>\n",
       "      <td>36</td>\n",
       "      <td>3215</td>\n",
       "      <td>2</td>\n",
       "      <td>13</td>\n",
       "      <td>7731</td>\n",
       "      <td>3</td>\n",
       "      <td>5</td>\n",
       "      <td>4156</td>\n",
       "      <td>4</td>\n",
       "      <td>...</td>\n",
       "      <td>40</td>\n",
       "      <td>5</td>\n",
       "      <td>32</td>\n",
       "      <td>5</td>\n",
       "      <td>4</td>\n",
       "      <td>7</td>\n",
       "      <td>4</td>\n",
       "      <td>4</td>\n",
       "      <td>9</td>\n",
       "      <td>16</td>\n",
       "    </tr>\n",
       "  </tbody>\n",
       "</table>\n",
       "<p>5 rows × 184 columns</p>\n",
       "</div>"
      ],
      "text/plain": [
       "   Q1A  Q1I   Q1E  Q2A  Q2I   Q2E  Q3A  Q3I   Q3E  Q4A  ...  anxiety_score  \\\n",
       "0    4   28  3890    4   25  2122    2   16  1944    4  ...             34   \n",
       "1    4    2  8118    1   36  2890    2   35  4777    3  ...             17   \n",
       "2    3    7  5784    1   33  4373    4   41  3242    1  ...             12   \n",
       "3    2   23  5081    3   11  6837    2   37  5521    1  ...             17   \n",
       "4    2   36  3215    2   13  7731    3    5  4156    4  ...             40   \n",
       "\n",
       "   anxiety_category  depression_score  depression_category  Extroversion  \\\n",
       "0                 5                27                    4             1   \n",
       "1                 4                24                    4             9   \n",
       "2                 3                39                    5             3   \n",
       "3                 4                16                    3             4   \n",
       "4                 5                32                    5             4   \n",
       "\n",
       "   Agreeableness  Conscientiousness  Emotional_stability  \\\n",
       "0              9                  9                    1   \n",
       "1              9                  4                    1   \n",
       "2              7                  4                    8   \n",
       "3             12                 13                    9   \n",
       "4              7                  4                    4   \n",
       "\n",
       "   Openness_to_experience  education_yrs  \n",
       "0                      13             12  \n",
       "1                       7             12  \n",
       "2                      10             12  \n",
       "3                      12              8  \n",
       "4                       9             16  \n",
       "\n",
       "[5 rows x 184 columns]"
      ]
     },
     "execution_count": 27,
     "metadata": {},
     "output_type": "execute_result"
    }
   ],
   "source": [
    "data.head()"
   ]
  },
  {
   "cell_type": "markdown",
   "metadata": {},
   "source": [
    "Remove `unknown` demographic datas."
   ]
  },
  {
   "cell_type": "code",
   "execution_count": 28,
   "metadata": {},
   "outputs": [
    {
     "data": {
      "text/plain": [
       "(33270, 184)"
      ]
     },
     "execution_count": 28,
     "metadata": {},
     "output_type": "execute_result"
    }
   ],
   "source": [
    "data.shape"
   ]
  },
  {
   "cell_type": "code",
   "execution_count": 29,
   "metadata": {},
   "outputs": [],
   "source": [
    "data = data[data.education != 0]"
   ]
  },
  {
   "cell_type": "code",
   "execution_count": 30,
   "metadata": {},
   "outputs": [
    {
     "data": {
      "text/plain": [
       "(32870, 184)"
      ]
     },
     "execution_count": 30,
     "metadata": {},
     "output_type": "execute_result"
    }
   ],
   "source": [
    "data.shape"
   ]
  },
  {
   "cell_type": "code",
   "execution_count": 31,
   "metadata": {},
   "outputs": [],
   "source": [
    "data = data[data.urban != 0]"
   ]
  },
  {
   "cell_type": "code",
   "execution_count": 32,
   "metadata": {},
   "outputs": [],
   "source": [
    "data = data[data.gender != 0]\n",
    "data = data[data.gender != 3]"
   ]
  },
  {
   "cell_type": "code",
   "execution_count": 33,
   "metadata": {},
   "outputs": [],
   "source": [
    "data = data[data.hand != 0]"
   ]
  },
  {
   "cell_type": "code",
   "execution_count": 34,
   "metadata": {},
   "outputs": [],
   "source": [
    "data = data[data.religion != 0]"
   ]
  },
  {
   "cell_type": "code",
   "execution_count": 35,
   "metadata": {},
   "outputs": [],
   "source": [
    "data = data[data.orientation != 0]\n",
    "data = data[data.orientation != 5]"
   ]
  },
  {
   "cell_type": "code",
   "execution_count": 36,
   "metadata": {},
   "outputs": [],
   "source": [
    "data = data[data.race != 70]"
   ]
  },
  {
   "cell_type": "code",
   "execution_count": 37,
   "metadata": {},
   "outputs": [],
   "source": [
    "data = data[data.married != 0]"
   ]
  },
  {
   "cell_type": "code",
   "execution_count": 38,
   "metadata": {},
   "outputs": [],
   "source": [
    "data = data[data.familysize != 0]"
   ]
  },
  {
   "cell_type": "code",
   "execution_count": 39,
   "metadata": {},
   "outputs": [
    {
     "data": {
      "text/plain": [
       "(23150, 184)"
      ]
     },
     "execution_count": 39,
     "metadata": {},
     "output_type": "execute_result"
    }
   ],
   "source": [
    "data.shape"
   ]
  },
  {
   "cell_type": "markdown",
   "metadata": {},
   "source": [
    "## 2. Check Distribution inside Each Variables\n",
    "\n",
    "***Main Purpose***: Check the distribution for all the numerical datas, including:\n",
    "* age\n",
    "* family size\n",
    "* education years\n",
    "* stress/anxiety/depression scores\n",
    "* TIPI scores (Personality)"
   ]
  },
  {
   "cell_type": "code",
   "execution_count": 40,
   "metadata": {},
   "outputs": [
    {
     "data": {
      "text/plain": [
       "array(['Q1A', 'Q1I', 'Q1E', 'Q2A', 'Q2I', 'Q2E', 'Q3A', 'Q3I', 'Q3E',\n",
       "       'Q4A', 'Q4I', 'Q4E', 'Q5A', 'Q5I', 'Q5E', 'Q6A', 'Q6I', 'Q6E',\n",
       "       'Q7A', 'Q7I', 'Q7E', 'Q8A', 'Q8I', 'Q8E', 'Q9A', 'Q9I', 'Q9E',\n",
       "       'Q10A', 'Q10I', 'Q10E', 'Q11A', 'Q11I', 'Q11E', 'Q12A', 'Q12I',\n",
       "       'Q12E', 'Q13A', 'Q13I', 'Q13E', 'Q14A', 'Q14I', 'Q14E', 'Q15A',\n",
       "       'Q15I', 'Q15E', 'Q16A', 'Q16I', 'Q16E', 'Q17A', 'Q17I', 'Q17E',\n",
       "       'Q18A', 'Q18I', 'Q18E', 'Q19A', 'Q19I', 'Q19E', 'Q20A', 'Q20I',\n",
       "       'Q20E', 'Q21A', 'Q21I', 'Q21E', 'Q22A', 'Q22I', 'Q22E', 'Q23A',\n",
       "       'Q23I', 'Q23E', 'Q24A', 'Q24I', 'Q24E', 'Q25A', 'Q25I', 'Q25E',\n",
       "       'Q26A', 'Q26I', 'Q26E', 'Q27A', 'Q27I', 'Q27E', 'Q28A', 'Q28I',\n",
       "       'Q28E', 'Q29A', 'Q29I', 'Q29E', 'Q30A', 'Q30I', 'Q30E', 'Q31A',\n",
       "       'Q31I', 'Q31E', 'Q32A', 'Q32I', 'Q32E', 'Q33A', 'Q33I', 'Q33E',\n",
       "       'Q34A', 'Q34I', 'Q34E', 'Q35A', 'Q35I', 'Q35E', 'Q36A', 'Q36I',\n",
       "       'Q36E', 'Q37A', 'Q37I', 'Q37E', 'Q38A', 'Q38I', 'Q38E', 'Q39A',\n",
       "       'Q39I', 'Q39E', 'Q40A', 'Q40I', 'Q40E', 'Q41A', 'Q41I', 'Q41E',\n",
       "       'Q42A', 'Q42I', 'Q42E', 'country', 'source', 'introelapse',\n",
       "       'testelapse', 'surveyelapse', 'TIPI1', 'TIPI2', 'TIPI3', 'TIPI4',\n",
       "       'TIPI5', 'TIPI6', 'TIPI7', 'TIPI8', 'TIPI9', 'TIPI10', 'VCL1',\n",
       "       'VCL2', 'VCL3', 'VCL4', 'VCL5', 'VCL6', 'VCL7', 'VCL8', 'VCL9',\n",
       "       'VCL10', 'VCL11', 'VCL12', 'VCL13', 'VCL14', 'VCL15', 'VCL16',\n",
       "       'education', 'urban', 'gender', 'engnat', 'age', 'screensize',\n",
       "       'uniquenetworklocation', 'hand', 'religion', 'orientation', 'race',\n",
       "       'voted', 'married', 'familysize', 'major', 'stress_score',\n",
       "       'stress_category', 'anxiety_score', 'anxiety_category',\n",
       "       'depression_score', 'depression_category', 'Extroversion',\n",
       "       'Agreeableness', 'Conscientiousness', 'Emotional_stability',\n",
       "       'Openness_to_experience', 'education_yrs'], dtype=object)"
      ]
     },
     "execution_count": 40,
     "metadata": {},
     "output_type": "execute_result"
    }
   ],
   "source": [
    "np.array(data.columns)"
   ]
  },
  {
   "cell_type": "code",
   "execution_count": 41,
   "metadata": {},
   "outputs": [
    {
     "data": {
      "text/plain": [
       "Text(0.5, 1.0, 'Age Distribution')"
      ]
     },
     "execution_count": 41,
     "metadata": {},
     "output_type": "execute_result"
    },
    {
     "data": {
      "image/png": "[encoded data removed]",
      "text/plain": [
       "<Figure size 432x288 with 1 Axes>"
      ]
     },
     "metadata": {
      "needs_background": "light"
     },
     "output_type": "display_data"
    }
   ],
   "source": [
    "ax = sns.distplot(data.age, color=\"b\")\n",
    "ax.set_title(\"Age Distribution\")"
   ]
  },
  {
   "cell_type": "code",
   "execution_count": 42,
   "metadata": {},
   "outputs": [
    {
     "data": {
      "text/plain": [
       "count    23150.000000\n",
       "mean        23.814903\n",
       "std          8.783784\n",
       "min         13.000000\n",
       "25%         19.000000\n",
       "50%         21.000000\n",
       "75%         26.000000\n",
       "max         89.000000\n",
       "Name: age, dtype: float64"
      ]
     },
     "execution_count": 42,
     "metadata": {},
     "output_type": "execute_result"
    }
   ],
   "source": [
    "data[\"age\"].describe()"
   ]
  },
  {
   "cell_type": "code",
   "execution_count": 43,
   "metadata": {},
   "outputs": [],
   "source": [
    "ss = StandardScaler()"
   ]
  },
  {
   "cell_type": "code",
   "execution_count": 44,
   "metadata": {},
   "outputs": [],
   "source": [
    "data['age_norm'] = ss.fit_transform(data[['age']])"
   ]
  },
  {
   "cell_type": "code",
   "execution_count": 45,
   "metadata": {},
   "outputs": [
    {
     "data": {
      "text/plain": [
       "Text(0.5, 1.0, 'Family Size Distribution')"
      ]
     },
     "execution_count": 45,
     "metadata": {},
     "output_type": "execute_result"
    },
    {
     "data": {
      "image/png": "[encoded data removed]",
      "text/plain": [
       "<Figure size 432x288 with 1 Axes>"
      ]
     },
     "metadata": {
      "needs_background": "light"
     },
     "output_type": "display_data"
    }
   ],
   "source": [
    "ax = sns.distplot(data.familysize, color=\"b\")\n",
    "ax.set_title(\"Family Size Distribution\")"
   ]
  },
  {
   "cell_type": "code",
   "execution_count": 46,
   "metadata": {},
   "outputs": [
    {
     "data": {
      "text/plain": [
       "count    23150.000000\n",
       "mean         3.555724\n",
       "std          1.818491\n",
       "min          1.000000\n",
       "25%          2.000000\n",
       "50%          3.000000\n",
       "75%          4.000000\n",
       "max         21.000000\n",
       "Name: familysize, dtype: float64"
      ]
     },
     "execution_count": 46,
     "metadata": {},
     "output_type": "execute_result"
    }
   ],
   "source": [
    "data[\"familysize\"].describe()"
   ]
  },
  {
   "cell_type": "code",
   "execution_count": 47,
   "metadata": {},
   "outputs": [
    {
     "data": {
      "text/plain": [
       "Text(0.5, 1.0, 'Yrs of Education Received Distribution')"
      ]
     },
     "execution_count": 47,
     "metadata": {},
     "output_type": "execute_result"
    },
    {
     "data": {
      "image/png": "[encoded data removed]",
      "text/plain": [
       "<Figure size 432x288 with 1 Axes>"
      ]
     },
     "metadata": {
      "needs_background": "light"
     },
     "output_type": "display_data"
    }
   ],
   "source": [
    "ax = sns.distplot(data.education_yrs, kde=False,color=\"b\")\n",
    "ax.set_title(\"Yrs of Education Received Distribution\")"
   ]
  },
  {
   "cell_type": "code",
   "execution_count": 48,
   "metadata": {},
   "outputs": [
    {
     "data": {
      "text/plain": [
       "count    23150.000000\n",
       "mean        14.169503\n",
       "std          3.125321\n",
       "min          8.000000\n",
       "25%         12.000000\n",
       "50%         16.000000\n",
       "75%         16.000000\n",
       "max         19.000000\n",
       "Name: education_yrs, dtype: float64"
      ]
     },
     "execution_count": 48,
     "metadata": {},
     "output_type": "execute_result"
    }
   ],
   "source": [
    "data[\"education_yrs\"].describe()"
   ]
  },
  {
   "cell_type": "code",
   "execution_count": 49,
   "metadata": {},
   "outputs": [
    {
     "data": {
      "text/plain": [
       "Text(0.5, 1.0, 'Stress Score Distribution')"
      ]
     },
     "execution_count": 49,
     "metadata": {},
     "output_type": "execute_result"
    },
    {
     "data": {
      "image/png": "[encoded data removed]",
      "text/plain": [
       "<Figure size 432x288 with 1 Axes>"
      ]
     },
     "metadata": {
      "needs_background": "light"
     },
     "output_type": "display_data"
    }
   ],
   "source": [
    "ax = sns.distplot(data.stress_score, color=\"b\")\n",
    "ax.set_title(\"Stress Score Distribution\")"
   ]
  },
  {
   "cell_type": "code",
   "execution_count": 50,
   "metadata": {},
   "outputs": [
    {
     "data": {
      "text/plain": [
       "count    23150.000000\n",
       "mean        20.711836\n",
       "std         10.377668\n",
       "min          0.000000\n",
       "25%         13.000000\n",
       "50%         20.000000\n",
       "75%         29.000000\n",
       "max         42.000000\n",
       "Name: stress_score, dtype: float64"
      ]
     },
     "execution_count": 50,
     "metadata": {},
     "output_type": "execute_result"
    }
   ],
   "source": [
    "data[\"stress_score\"].describe()"
   ]
  },
  {
   "cell_type": "code",
   "execution_count": 51,
   "metadata": {},
   "outputs": [
    {
     "data": {
      "text/plain": [
       "Text(0.5, 1.0, 'Anxiety Score Distribution')"
      ]
     },
     "execution_count": 51,
     "metadata": {},
     "output_type": "execute_result"
    },
    {
     "data": {
      "image/png": "[encoded data removed]",
      "text/plain": [
       "<Figure size 432x288 with 1 Axes>"
      ]
     },
     "metadata": {
      "needs_background": "light"
     },
     "output_type": "display_data"
    }
   ],
   "source": [
    "ax = sns.distplot(data.anxiety_score, color=\"b\")\n",
    "ax.set_title(\"Anxiety Score Distribution\")"
   ]
  },
  {
   "cell_type": "code",
   "execution_count": 52,
   "metadata": {},
   "outputs": [
    {
     "data": {
      "text/plain": [
       "count    23150.000000\n",
       "mean        15.343585\n",
       "std          9.950344\n",
       "min          0.000000\n",
       "25%          7.000000\n",
       "50%         14.000000\n",
       "75%         22.000000\n",
       "max         42.000000\n",
       "Name: anxiety_score, dtype: float64"
      ]
     },
     "execution_count": 52,
     "metadata": {},
     "output_type": "execute_result"
    }
   ],
   "source": [
    "data[\"anxiety_score\"].describe()"
   ]
  },
  {
   "cell_type": "code",
   "execution_count": 53,
   "metadata": {},
   "outputs": [
    {
     "data": {
      "text/plain": [
       "Text(0.5, 1.0, 'Depression Score Distribution')"
      ]
     },
     "execution_count": 53,
     "metadata": {},
     "output_type": "execute_result"
    },
    {
     "data": {
      "image/png": "[encoded data removed]",
      "text/plain": [
       "<Figure size 432x288 with 1 Axes>"
      ]
     },
     "metadata": {
      "needs_background": "light"
     },
     "output_type": "display_data"
    }
   ],
   "source": [
    "ax = sns.distplot(data.depression_score, color=\"b\")\n",
    "ax.set_title(\"Depression Score Distribution\")"
   ]
  },
  {
   "cell_type": "code",
   "execution_count": 54,
   "metadata": {},
   "outputs": [
    {
     "data": {
      "text/plain": [
       "count    23150.000000\n",
       "mean        20.696501\n",
       "std         12.246185\n",
       "min          0.000000\n",
       "25%         10.000000\n",
       "50%         20.000000\n",
       "75%         31.000000\n",
       "max         42.000000\n",
       "Name: depression_score, dtype: float64"
      ]
     },
     "execution_count": 54,
     "metadata": {},
     "output_type": "execute_result"
    }
   ],
   "source": [
    "data[\"depression_score\"].describe()"
   ]
  },
  {
   "cell_type": "code",
   "execution_count": 55,
   "metadata": {},
   "outputs": [
    {
     "data": {
      "text/plain": [
       "Text(0.5, 1.0, 'Extroversion Score Distribution')"
      ]
     },
     "execution_count": 55,
     "metadata": {},
     "output_type": "execute_result"
    },
    {
     "data": {
      "image/png": "[encoded data removed]",
      "text/plain": [
       "<Figure size 432x288 with 1 Axes>"
      ]
     },
     "metadata": {
      "needs_background": "light"
     },
     "output_type": "display_data"
    }
   ],
   "source": [
    "ax = sns.distplot(data.Extroversion, color=\"b\")\n",
    "ax.set_title(\"Extroversion Score Distribution\")"
   ]
  },
  {
   "cell_type": "code",
   "execution_count": 56,
   "metadata": {},
   "outputs": [
    {
     "data": {
      "text/plain": [
       "count    23150.000000\n",
       "mean         5.916501\n",
       "std          3.143449\n",
       "min          1.000000\n",
       "25%          3.000000\n",
       "50%          6.000000\n",
       "75%          8.000000\n",
       "max         13.000000\n",
       "Name: Extroversion, dtype: float64"
      ]
     },
     "execution_count": 56,
     "metadata": {},
     "output_type": "execute_result"
    }
   ],
   "source": [
    "data[\"Extroversion\"].describe()"
   ]
  },
  {
   "cell_type": "code",
   "execution_count": 57,
   "metadata": {},
   "outputs": [
    {
     "data": {
      "text/plain": [
       "Text(0.5, 1.0, 'Agreeableness Score Distribution')"
      ]
     },
     "execution_count": 57,
     "metadata": {},
     "output_type": "execute_result"
    },
    {
     "data": {
      "image/png": "[encoded data removed]",
      "text/plain": [
       "<Figure size 432x288 with 1 Axes>"
      ]
     },
     "metadata": {
      "needs_background": "light"
     },
     "output_type": "display_data"
    }
   ],
   "source": [
    "ax = sns.distplot(data.Agreeableness, color=\"b\")\n",
    "ax.set_title(\"Agreeableness Score Distribution\")"
   ]
  },
  {
   "cell_type": "code",
   "execution_count": 58,
   "metadata": {},
   "outputs": [
    {
     "data": {
      "text/plain": [
       "count    23150.000000\n",
       "mean         8.114816\n",
       "std          2.433555\n",
       "min          1.000000\n",
       "25%          7.000000\n",
       "50%          8.000000\n",
       "75%         10.000000\n",
       "max         13.000000\n",
       "Name: Agreeableness, dtype: float64"
      ]
     },
     "execution_count": 58,
     "metadata": {},
     "output_type": "execute_result"
    }
   ],
   "source": [
    "data[\"Agreeableness\"].describe()"
   ]
  },
  {
   "cell_type": "code",
   "execution_count": 59,
   "metadata": {},
   "outputs": [
    {
     "data": {
      "text/plain": [
       "Text(0.5, 1.0, 'Conscientiousness Score Distribution')"
      ]
     },
     "execution_count": 59,
     "metadata": {},
     "output_type": "execute_result"
    },
    {
     "data": {
      "image/png": "[encoded data removed]",
      "text/plain": [
       "<Figure size 432x288 with 1 Axes>"
      ]
     },
     "metadata": {
      "needs_background": "light"
     },
     "output_type": "display_data"
    }
   ],
   "source": [
    "ax = sns.distplot(data.Conscientiousness, color=\"b\")\n",
    "ax.set_title(\"Conscientiousness Score Distribution\")"
   ]
  },
  {
   "cell_type": "code",
   "execution_count": 60,
   "metadata": {},
   "outputs": [
    {
     "data": {
      "text/plain": [
       "count    23150.000000\n",
       "mean         7.488251\n",
       "std          2.973585\n",
       "min          1.000000\n",
       "25%          5.000000\n",
       "50%          7.000000\n",
       "75%         10.000000\n",
       "max         13.000000\n",
       "Name: Conscientiousness, dtype: float64"
      ]
     },
     "execution_count": 60,
     "metadata": {},
     "output_type": "execute_result"
    }
   ],
   "source": [
    "data[\"Conscientiousness\"].describe()"
   ]
  },
  {
   "cell_type": "code",
   "execution_count": 61,
   "metadata": {},
   "outputs": [
    {
     "data": {
      "text/plain": [
       "Text(0.5, 1.0, 'Emotional Stability Score Distribution')"
      ]
     },
     "execution_count": 61,
     "metadata": {},
     "output_type": "execute_result"
    },
    {
     "data": {
      "image/png": "[encoded data removed]",
      "text/plain": [
       "<Figure size 432x288 with 1 Axes>"
      ]
     },
     "metadata": {
      "needs_background": "light"
     },
     "output_type": "display_data"
    }
   ],
   "source": [
    "ax = sns.distplot(data.Emotional_stability, color=\"b\")\n",
    "ax.set_title(\"Emotional Stability Score Distribution\")"
   ]
  },
  {
   "cell_type": "code",
   "execution_count": 62,
   "metadata": {},
   "outputs": [
    {
     "data": {
      "text/plain": [
       "count    23150.000000\n",
       "mean         5.486048\n",
       "std          3.041330\n",
       "min          1.000000\n",
       "25%          3.000000\n",
       "50%          5.000000\n",
       "75%          7.000000\n",
       "max         13.000000\n",
       "Name: Emotional_stability, dtype: float64"
      ]
     },
     "execution_count": 62,
     "metadata": {},
     "output_type": "execute_result"
    }
   ],
   "source": [
    "data[\"Emotional_stability\"].describe()"
   ]
  },
  {
   "cell_type": "code",
   "execution_count": 63,
   "metadata": {},
   "outputs": [
    {
     "data": {
      "text/plain": [
       "Text(0.5, 1.0, 'Openness to Experience Score Distribution')"
      ]
     },
     "execution_count": 63,
     "metadata": {},
     "output_type": "execute_result"
    },
    {
     "data": {
      "image/png": "[encoded data removed]",
      "text/plain": [
       "<Figure size 432x288 with 1 Axes>"
      ]
     },
     "metadata": {
      "needs_background": "light"
     },
     "output_type": "display_data"
    }
   ],
   "source": [
    "ax = sns.distplot(data.Openness_to_experience, color=\"b\")\n",
    "ax.set_title(\"Openness to Experience Score Distribution\")"
   ]
  },
  {
   "cell_type": "code",
   "execution_count": 64,
   "metadata": {},
   "outputs": [
    {
     "data": {
      "text/plain": [
       "count    23150.000000\n",
       "mean         8.178056\n",
       "std          2.660008\n",
       "min          1.000000\n",
       "25%          7.000000\n",
       "50%          8.000000\n",
       "75%         10.000000\n",
       "max         13.000000\n",
       "Name: Openness_to_experience, dtype: float64"
      ]
     },
     "execution_count": 64,
     "metadata": {},
     "output_type": "execute_result"
    }
   ],
   "source": [
    "data[\"Openness_to_experience\"].describe()"
   ]
  },
  {
   "cell_type": "markdown",
   "metadata": {},
   "source": [
    "## 3. Feature Selection\n",
    "\n",
    "***Potential Ideas (Feature):***\n",
    "* sexual orientation (heterosexual vs. LGBTQ)\n",
    "* personality\n",
    "* age\n",
    "* gender\n",
    "* family size\n",
    "* major -- STEM vs. arts \n",
    "\n",
    "***Potential Ideas (Models):***\n",
    "* multiple regression\n",
    "* random forest"
   ]
  },
  {
   "cell_type": "code",
   "execution_count": 65,
   "metadata": {},
   "outputs": [
    {
     "data": {
      "text/html": [
       "<div>\n",
       "<style scoped>\n",
       "    .dataframe tbody tr th:only-of-type {\n",
       "        vertical-align: middle;\n",
       "    }\n",
       "\n",
       "    .dataframe tbody tr th {\n",
       "        vertical-align: top;\n",
       "    }\n",
       "\n",
       "    .dataframe thead th {\n",
       "        text-align: right;\n",
       "    }\n",
       "</style>\n",
       "<table border=\"1\" class=\"dataframe\">\n",
       "  <thead>\n",
       "    <tr style=\"text-align: right;\">\n",
       "      <th></th>\n",
       "      <th>Q1A</th>\n",
       "      <th>Q1I</th>\n",
       "      <th>Q1E</th>\n",
       "      <th>Q2A</th>\n",
       "      <th>Q2I</th>\n",
       "      <th>Q2E</th>\n",
       "      <th>Q3A</th>\n",
       "      <th>Q3I</th>\n",
       "      <th>Q3E</th>\n",
       "      <th>Q4A</th>\n",
       "      <th>...</th>\n",
       "      <th>anxiety_category</th>\n",
       "      <th>depression_score</th>\n",
       "      <th>depression_category</th>\n",
       "      <th>Extroversion</th>\n",
       "      <th>Agreeableness</th>\n",
       "      <th>Conscientiousness</th>\n",
       "      <th>Emotional_stability</th>\n",
       "      <th>Openness_to_experience</th>\n",
       "      <th>education_yrs</th>\n",
       "      <th>age_norm</th>\n",
       "    </tr>\n",
       "  </thead>\n",
       "  <tbody>\n",
       "    <tr>\n",
       "      <th>0</th>\n",
       "      <td>4</td>\n",
       "      <td>28</td>\n",
       "      <td>3890</td>\n",
       "      <td>4</td>\n",
       "      <td>25</td>\n",
       "      <td>2122</td>\n",
       "      <td>2</td>\n",
       "      <td>16</td>\n",
       "      <td>1944</td>\n",
       "      <td>4</td>\n",
       "      <td>...</td>\n",
       "      <td>5</td>\n",
       "      <td>27</td>\n",
       "      <td>4</td>\n",
       "      <td>1</td>\n",
       "      <td>9</td>\n",
       "      <td>9</td>\n",
       "      <td>1</td>\n",
       "      <td>13</td>\n",
       "      <td>12</td>\n",
       "      <td>-0.889716</td>\n",
       "    </tr>\n",
       "    <tr>\n",
       "      <th>2</th>\n",
       "      <td>3</td>\n",
       "      <td>7</td>\n",
       "      <td>5784</td>\n",
       "      <td>1</td>\n",
       "      <td>33</td>\n",
       "      <td>4373</td>\n",
       "      <td>4</td>\n",
       "      <td>41</td>\n",
       "      <td>3242</td>\n",
       "      <td>1</td>\n",
       "      <td>...</td>\n",
       "      <td>3</td>\n",
       "      <td>39</td>\n",
       "      <td>5</td>\n",
       "      <td>3</td>\n",
       "      <td>7</td>\n",
       "      <td>4</td>\n",
       "      <td>8</td>\n",
       "      <td>10</td>\n",
       "      <td>12</td>\n",
       "      <td>-0.775867</td>\n",
       "    </tr>\n",
       "    <tr>\n",
       "      <th>4</th>\n",
       "      <td>2</td>\n",
       "      <td>36</td>\n",
       "      <td>3215</td>\n",
       "      <td>2</td>\n",
       "      <td>13</td>\n",
       "      <td>7731</td>\n",
       "      <td>3</td>\n",
       "      <td>5</td>\n",
       "      <td>4156</td>\n",
       "      <td>4</td>\n",
       "      <td>...</td>\n",
       "      <td>5</td>\n",
       "      <td>32</td>\n",
       "      <td>5</td>\n",
       "      <td>4</td>\n",
       "      <td>7</td>\n",
       "      <td>4</td>\n",
       "      <td>4</td>\n",
       "      <td>9</td>\n",
       "      <td>16</td>\n",
       "      <td>-0.548170</td>\n",
       "    </tr>\n",
       "    <tr>\n",
       "      <th>6</th>\n",
       "      <td>1</td>\n",
       "      <td>20</td>\n",
       "      <td>4325</td>\n",
       "      <td>1</td>\n",
       "      <td>34</td>\n",
       "      <td>4009</td>\n",
       "      <td>2</td>\n",
       "      <td>38</td>\n",
       "      <td>3604</td>\n",
       "      <td>3</td>\n",
       "      <td>...</td>\n",
       "      <td>4</td>\n",
       "      <td>31</td>\n",
       "      <td>5</td>\n",
       "      <td>7</td>\n",
       "      <td>8</td>\n",
       "      <td>10</td>\n",
       "      <td>7</td>\n",
       "      <td>5</td>\n",
       "      <td>12</td>\n",
       "      <td>-0.775867</td>\n",
       "    </tr>\n",
       "    <tr>\n",
       "      <th>9</th>\n",
       "      <td>3</td>\n",
       "      <td>38</td>\n",
       "      <td>5187</td>\n",
       "      <td>2</td>\n",
       "      <td>28</td>\n",
       "      <td>2600</td>\n",
       "      <td>4</td>\n",
       "      <td>9</td>\n",
       "      <td>2015</td>\n",
       "      <td>1</td>\n",
       "      <td>...</td>\n",
       "      <td>5</td>\n",
       "      <td>42</td>\n",
       "      <td>5</td>\n",
       "      <td>1</td>\n",
       "      <td>1</td>\n",
       "      <td>10</td>\n",
       "      <td>1</td>\n",
       "      <td>5</td>\n",
       "      <td>8</td>\n",
       "      <td>-0.662019</td>\n",
       "    </tr>\n",
       "  </tbody>\n",
       "</table>\n",
       "<p>5 rows × 185 columns</p>\n",
       "</div>"
      ],
      "text/plain": [
       "   Q1A  Q1I   Q1E  Q2A  Q2I   Q2E  Q3A  Q3I   Q3E  Q4A  ...  anxiety_category  \\\n",
       "0    4   28  3890    4   25  2122    2   16  1944    4  ...                 5   \n",
       "2    3    7  5784    1   33  4373    4   41  3242    1  ...                 3   \n",
       "4    2   36  3215    2   13  7731    3    5  4156    4  ...                 5   \n",
       "6    1   20  4325    1   34  4009    2   38  3604    3  ...                 4   \n",
       "9    3   38  5187    2   28  2600    4    9  2015    1  ...                 5   \n",
       "\n",
       "   depression_score  depression_category  Extroversion  Agreeableness  \\\n",
       "0                27                    4             1              9   \n",
       "2                39                    5             3              7   \n",
       "4                32                    5             4              7   \n",
       "6                31                    5             7              8   \n",
       "9                42                    5             1              1   \n",
       "\n",
       "   Conscientiousness  Emotional_stability  Openness_to_experience  \\\n",
       "0                  9                    1                      13   \n",
       "2                  4                    8                      10   \n",
       "4                  4                    4                       9   \n",
       "6                 10                    7                       5   \n",
       "9                 10                    1                       5   \n",
       "\n",
       "   education_yrs  age_norm  \n",
       "0             12 -0.889716  \n",
       "2             12 -0.775867  \n",
       "4             16 -0.548170  \n",
       "6             12 -0.775867  \n",
       "9              8 -0.662019  \n",
       "\n",
       "[5 rows x 185 columns]"
      ]
     },
     "execution_count": 65,
     "metadata": {},
     "output_type": "execute_result"
    }
   ],
   "source": [
    "data.head()"
   ]
  },
  {
   "cell_type": "markdown",
   "metadata": {},
   "source": [
    "### (i) Sexual Orientation"
   ]
  },
  {
   "cell_type": "code",
   "execution_count": 66,
   "metadata": {},
   "outputs": [
    {
     "data": {
      "text/plain": [
       "array([1, 3, 2, 4])"
      ]
     },
     "execution_count": 66,
     "metadata": {},
     "output_type": "execute_result"
    }
   ],
   "source": [
    "data[\"orientation\"].unique()"
   ]
  },
  {
   "cell_type": "code",
   "execution_count": 67,
   "metadata": {},
   "outputs": [
    {
     "data": {
      "image/png": "[encoded data removed]",
      "text/plain": [
       "<Figure size 432x288 with 1 Axes>"
      ]
     },
     "metadata": {
      "needs_background": "light"
     },
     "output_type": "display_data"
    }
   ],
   "source": [
    "ax = sns.countplot(y='orientation', data=data)\n",
    "ax.set_yticklabels([\"heterosexual\",\"bisexual\",\"homosexual\",\"asexual\"])\n",
    "ax.set_title('Sexual Orientation')\n",
    "plt.show()"
   ]
  },
  {
   "cell_type": "code",
   "execution_count": 68,
   "metadata": {},
   "outputs": [],
   "source": [
    "data.loc[data['orientation'] >= 2, 'orientation'] = 2"
   ]
  },
  {
   "cell_type": "code",
   "execution_count": 69,
   "metadata": {},
   "outputs": [
    {
     "data": {
      "image/png": "[encoded data removed]",
      "text/plain": [
       "<Figure size 432x288 with 1 Axes>"
      ]
     },
     "metadata": {
      "needs_background": "light"
     },
     "output_type": "display_data"
    }
   ],
   "source": [
    "ax = sns.countplot(y='orientation', data=data)\n",
    "ax.set_yticklabels([\"heterosexual\", \"LGBTQ\"])\n",
    "ax.set_title('Sexual Orientation')\n",
    "plt.show()"
   ]
  },
  {
   "cell_type": "code",
   "execution_count": 70,
   "metadata": {},
   "outputs": [],
   "source": [
    "dummy_orientation = pd.get_dummies(data[\"orientation\"])"
   ]
  },
  {
   "cell_type": "code",
   "execution_count": 71,
   "metadata": {},
   "outputs": [
    {
     "data": {
      "text/html": [
       "<div>\n",
       "<style scoped>\n",
       "    .dataframe tbody tr th:only-of-type {\n",
       "        vertical-align: middle;\n",
       "    }\n",
       "\n",
       "    .dataframe tbody tr th {\n",
       "        vertical-align: top;\n",
       "    }\n",
       "\n",
       "    .dataframe thead th {\n",
       "        text-align: right;\n",
       "    }\n",
       "</style>\n",
       "<table border=\"1\" class=\"dataframe\">\n",
       "  <thead>\n",
       "    <tr style=\"text-align: right;\">\n",
       "      <th></th>\n",
       "      <th>Q1A</th>\n",
       "      <th>Q1I</th>\n",
       "      <th>Q1E</th>\n",
       "      <th>Q2A</th>\n",
       "      <th>Q2I</th>\n",
       "      <th>Q2E</th>\n",
       "      <th>Q3A</th>\n",
       "      <th>Q3I</th>\n",
       "      <th>Q3E</th>\n",
       "      <th>Q4A</th>\n",
       "      <th>...</th>\n",
       "      <th>depression_category</th>\n",
       "      <th>Extroversion</th>\n",
       "      <th>Agreeableness</th>\n",
       "      <th>Conscientiousness</th>\n",
       "      <th>Emotional_stability</th>\n",
       "      <th>Openness_to_experience</th>\n",
       "      <th>education_yrs</th>\n",
       "      <th>age_norm</th>\n",
       "      <th>1</th>\n",
       "      <th>2</th>\n",
       "    </tr>\n",
       "  </thead>\n",
       "  <tbody>\n",
       "    <tr>\n",
       "      <th>0</th>\n",
       "      <td>4</td>\n",
       "      <td>28</td>\n",
       "      <td>3890</td>\n",
       "      <td>4</td>\n",
       "      <td>25</td>\n",
       "      <td>2122</td>\n",
       "      <td>2</td>\n",
       "      <td>16</td>\n",
       "      <td>1944</td>\n",
       "      <td>4</td>\n",
       "      <td>...</td>\n",
       "      <td>4</td>\n",
       "      <td>1</td>\n",
       "      <td>9</td>\n",
       "      <td>9</td>\n",
       "      <td>1</td>\n",
       "      <td>13</td>\n",
       "      <td>12</td>\n",
       "      <td>-0.889716</td>\n",
       "      <td>1</td>\n",
       "      <td>0</td>\n",
       "    </tr>\n",
       "    <tr>\n",
       "      <th>2</th>\n",
       "      <td>3</td>\n",
       "      <td>7</td>\n",
       "      <td>5784</td>\n",
       "      <td>1</td>\n",
       "      <td>33</td>\n",
       "      <td>4373</td>\n",
       "      <td>4</td>\n",
       "      <td>41</td>\n",
       "      <td>3242</td>\n",
       "      <td>1</td>\n",
       "      <td>...</td>\n",
       "      <td>5</td>\n",
       "      <td>3</td>\n",
       "      <td>7</td>\n",
       "      <td>4</td>\n",
       "      <td>8</td>\n",
       "      <td>10</td>\n",
       "      <td>12</td>\n",
       "      <td>-0.775867</td>\n",
       "      <td>0</td>\n",
       "      <td>1</td>\n",
       "    </tr>\n",
       "    <tr>\n",
       "      <th>4</th>\n",
       "      <td>2</td>\n",
       "      <td>36</td>\n",
       "      <td>3215</td>\n",
       "      <td>2</td>\n",
       "      <td>13</td>\n",
       "      <td>7731</td>\n",
       "      <td>3</td>\n",
       "      <td>5</td>\n",
       "      <td>4156</td>\n",
       "      <td>4</td>\n",
       "      <td>...</td>\n",
       "      <td>5</td>\n",
       "      <td>4</td>\n",
       "      <td>7</td>\n",
       "      <td>4</td>\n",
       "      <td>4</td>\n",
       "      <td>9</td>\n",
       "      <td>16</td>\n",
       "      <td>-0.548170</td>\n",
       "      <td>1</td>\n",
       "      <td>0</td>\n",
       "    </tr>\n",
       "    <tr>\n",
       "      <th>6</th>\n",
       "      <td>1</td>\n",
       "      <td>20</td>\n",
       "      <td>4325</td>\n",
       "      <td>1</td>\n",
       "      <td>34</td>\n",
       "      <td>4009</td>\n",
       "      <td>2</td>\n",
       "      <td>38</td>\n",
       "      <td>3604</td>\n",
       "      <td>3</td>\n",
       "      <td>...</td>\n",
       "      <td>5</td>\n",
       "      <td>7</td>\n",
       "      <td>8</td>\n",
       "      <td>10</td>\n",
       "      <td>7</td>\n",
       "      <td>5</td>\n",
       "      <td>12</td>\n",
       "      <td>-0.775867</td>\n",
       "      <td>0</td>\n",
       "      <td>1</td>\n",
       "    </tr>\n",
       "    <tr>\n",
       "      <th>9</th>\n",
       "      <td>3</td>\n",
       "      <td>38</td>\n",
       "      <td>5187</td>\n",
       "      <td>2</td>\n",
       "      <td>28</td>\n",
       "      <td>2600</td>\n",
       "      <td>4</td>\n",
       "      <td>9</td>\n",
       "      <td>2015</td>\n",
       "      <td>1</td>\n",
       "      <td>...</td>\n",
       "      <td>5</td>\n",
       "      <td>1</td>\n",
       "      <td>1</td>\n",
       "      <td>10</td>\n",
       "      <td>1</td>\n",
       "      <td>5</td>\n",
       "      <td>8</td>\n",
       "      <td>-0.662019</td>\n",
       "      <td>0</td>\n",
       "      <td>1</td>\n",
       "    </tr>\n",
       "  </tbody>\n",
       "</table>\n",
       "<p>5 rows × 187 columns</p>\n",
       "</div>"
      ],
      "text/plain": [
       "   Q1A  Q1I   Q1E  Q2A  Q2I   Q2E  Q3A  Q3I   Q3E  Q4A  ...  \\\n",
       "0    4   28  3890    4   25  2122    2   16  1944    4  ...   \n",
       "2    3    7  5784    1   33  4373    4   41  3242    1  ...   \n",
       "4    2   36  3215    2   13  7731    3    5  4156    4  ...   \n",
       "6    1   20  4325    1   34  4009    2   38  3604    3  ...   \n",
       "9    3   38  5187    2   28  2600    4    9  2015    1  ...   \n",
       "\n",
       "   depression_category  Extroversion  Agreeableness  Conscientiousness  \\\n",
       "0                    4             1              9                  9   \n",
       "2                    5             3              7                  4   \n",
       "4                    5             4              7                  4   \n",
       "6                    5             7              8                 10   \n",
       "9                    5             1              1                 10   \n",
       "\n",
       "   Emotional_stability  Openness_to_experience  education_yrs  age_norm  1  2  \n",
       "0                    1                      13             12 -0.889716  1  0  \n",
       "2                    8                      10             12 -0.775867  0  1  \n",
       "4                    4                       9             16 -0.548170  1  0  \n",
       "6                    7                       5             12 -0.775867  0  1  \n",
       "9                    1                       5              8 -0.662019  0  1  \n",
       "\n",
       "[5 rows x 187 columns]"
      ]
     },
     "execution_count": 71,
     "metadata": {},
     "output_type": "execute_result"
    }
   ],
   "source": [
    "data = pd.concat([data,dummy_orientation], axis=1)\n",
    "data.head()"
   ]
  },
  {
   "cell_type": "code",
   "execution_count": 72,
   "metadata": {},
   "outputs": [],
   "source": [
    "data = data.rename(columns={1:\"heterosexual\",2:\"LGBTQ\"})"
   ]
  },
  {
   "cell_type": "code",
   "execution_count": 73,
   "metadata": {},
   "outputs": [
    {
     "data": {
      "text/html": [
       "<div>\n",
       "<style scoped>\n",
       "    .dataframe tbody tr th:only-of-type {\n",
       "        vertical-align: middle;\n",
       "    }\n",
       "\n",
       "    .dataframe tbody tr th {\n",
       "        vertical-align: top;\n",
       "    }\n",
       "\n",
       "    .dataframe thead th {\n",
       "        text-align: right;\n",
       "    }\n",
       "</style>\n",
       "<table border=\"1\" class=\"dataframe\">\n",
       "  <thead>\n",
       "    <tr style=\"text-align: right;\">\n",
       "      <th></th>\n",
       "      <th>Q1A</th>\n",
       "      <th>Q1I</th>\n",
       "      <th>Q1E</th>\n",
       "      <th>Q2A</th>\n",
       "      <th>Q2I</th>\n",
       "      <th>Q2E</th>\n",
       "      <th>Q3A</th>\n",
       "      <th>Q3I</th>\n",
       "      <th>Q3E</th>\n",
       "      <th>Q4A</th>\n",
       "      <th>...</th>\n",
       "      <th>depression_category</th>\n",
       "      <th>Extroversion</th>\n",
       "      <th>Agreeableness</th>\n",
       "      <th>Conscientiousness</th>\n",
       "      <th>Emotional_stability</th>\n",
       "      <th>Openness_to_experience</th>\n",
       "      <th>education_yrs</th>\n",
       "      <th>age_norm</th>\n",
       "      <th>heterosexual</th>\n",
       "      <th>LGBTQ</th>\n",
       "    </tr>\n",
       "  </thead>\n",
       "  <tbody>\n",
       "    <tr>\n",
       "      <th>0</th>\n",
       "      <td>4</td>\n",
       "      <td>28</td>\n",
       "      <td>3890</td>\n",
       "      <td>4</td>\n",
       "      <td>25</td>\n",
       "      <td>2122</td>\n",
       "      <td>2</td>\n",
       "      <td>16</td>\n",
       "      <td>1944</td>\n",
       "      <td>4</td>\n",
       "      <td>...</td>\n",
       "      <td>4</td>\n",
       "      <td>1</td>\n",
       "      <td>9</td>\n",
       "      <td>9</td>\n",
       "      <td>1</td>\n",
       "      <td>13</td>\n",
       "      <td>12</td>\n",
       "      <td>-0.889716</td>\n",
       "      <td>1</td>\n",
       "      <td>0</td>\n",
       "    </tr>\n",
       "    <tr>\n",
       "      <th>2</th>\n",
       "      <td>3</td>\n",
       "      <td>7</td>\n",
       "      <td>5784</td>\n",
       "      <td>1</td>\n",
       "      <td>33</td>\n",
       "      <td>4373</td>\n",
       "      <td>4</td>\n",
       "      <td>41</td>\n",
       "      <td>3242</td>\n",
       "      <td>1</td>\n",
       "      <td>...</td>\n",
       "      <td>5</td>\n",
       "      <td>3</td>\n",
       "      <td>7</td>\n",
       "      <td>4</td>\n",
       "      <td>8</td>\n",
       "      <td>10</td>\n",
       "      <td>12</td>\n",
       "      <td>-0.775867</td>\n",
       "      <td>0</td>\n",
       "      <td>1</td>\n",
       "    </tr>\n",
       "    <tr>\n",
       "      <th>4</th>\n",
       "      <td>2</td>\n",
       "      <td>36</td>\n",
       "      <td>3215</td>\n",
       "      <td>2</td>\n",
       "      <td>13</td>\n",
       "      <td>7731</td>\n",
       "      <td>3</td>\n",
       "      <td>5</td>\n",
       "      <td>4156</td>\n",
       "      <td>4</td>\n",
       "      <td>...</td>\n",
       "      <td>5</td>\n",
       "      <td>4</td>\n",
       "      <td>7</td>\n",
       "      <td>4</td>\n",
       "      <td>4</td>\n",
       "      <td>9</td>\n",
       "      <td>16</td>\n",
       "      <td>-0.548170</td>\n",
       "      <td>1</td>\n",
       "      <td>0</td>\n",
       "    </tr>\n",
       "    <tr>\n",
       "      <th>6</th>\n",
       "      <td>1</td>\n",
       "      <td>20</td>\n",
       "      <td>4325</td>\n",
       "      <td>1</td>\n",
       "      <td>34</td>\n",
       "      <td>4009</td>\n",
       "      <td>2</td>\n",
       "      <td>38</td>\n",
       "      <td>3604</td>\n",
       "      <td>3</td>\n",
       "      <td>...</td>\n",
       "      <td>5</td>\n",
       "      <td>7</td>\n",
       "      <td>8</td>\n",
       "      <td>10</td>\n",
       "      <td>7</td>\n",
       "      <td>5</td>\n",
       "      <td>12</td>\n",
       "      <td>-0.775867</td>\n",
       "      <td>0</td>\n",
       "      <td>1</td>\n",
       "    </tr>\n",
       "    <tr>\n",
       "      <th>9</th>\n",
       "      <td>3</td>\n",
       "      <td>38</td>\n",
       "      <td>5187</td>\n",
       "      <td>2</td>\n",
       "      <td>28</td>\n",
       "      <td>2600</td>\n",
       "      <td>4</td>\n",
       "      <td>9</td>\n",
       "      <td>2015</td>\n",
       "      <td>1</td>\n",
       "      <td>...</td>\n",
       "      <td>5</td>\n",
       "      <td>1</td>\n",
       "      <td>1</td>\n",
       "      <td>10</td>\n",
       "      <td>1</td>\n",
       "      <td>5</td>\n",
       "      <td>8</td>\n",
       "      <td>-0.662019</td>\n",
       "      <td>0</td>\n",
       "      <td>1</td>\n",
       "    </tr>\n",
       "  </tbody>\n",
       "</table>\n",
       "<p>5 rows × 187 columns</p>\n",
       "</div>"
      ],
      "text/plain": [
       "   Q1A  Q1I   Q1E  Q2A  Q2I   Q2E  Q3A  Q3I   Q3E  Q4A  ...  \\\n",
       "0    4   28  3890    4   25  2122    2   16  1944    4  ...   \n",
       "2    3    7  5784    1   33  4373    4   41  3242    1  ...   \n",
       "4    2   36  3215    2   13  7731    3    5  4156    4  ...   \n",
       "6    1   20  4325    1   34  4009    2   38  3604    3  ...   \n",
       "9    3   38  5187    2   28  2600    4    9  2015    1  ...   \n",
       "\n",
       "   depression_category  Extroversion  Agreeableness  Conscientiousness  \\\n",
       "0                    4             1              9                  9   \n",
       "2                    5             3              7                  4   \n",
       "4                    5             4              7                  4   \n",
       "6                    5             7              8                 10   \n",
       "9                    5             1              1                 10   \n",
       "\n",
       "   Emotional_stability  Openness_to_experience  education_yrs  age_norm  \\\n",
       "0                    1                      13             12 -0.889716   \n",
       "2                    8                      10             12 -0.775867   \n",
       "4                    4                       9             16 -0.548170   \n",
       "6                    7                       5             12 -0.775867   \n",
       "9                    1                       5              8 -0.662019   \n",
       "\n",
       "   heterosexual  LGBTQ  \n",
       "0             1      0  \n",
       "2             0      1  \n",
       "4             1      0  \n",
       "6             0      1  \n",
       "9             0      1  \n",
       "\n",
       "[5 rows x 187 columns]"
      ]
     },
     "execution_count": 73,
     "metadata": {},
     "output_type": "execute_result"
    }
   ],
   "source": [
    "data.head()"
   ]
  },
  {
   "cell_type": "code",
   "execution_count": 74,
   "metadata": {},
   "outputs": [
    {
     "data": {
      "text/plain": [
       "array(['Q1A', 'Q1I', 'Q1E', 'Q2A', 'Q2I', 'Q2E', 'Q3A', 'Q3I', 'Q3E',\n",
       "       'Q4A', 'Q4I', 'Q4E', 'Q5A', 'Q5I', 'Q5E', 'Q6A', 'Q6I', 'Q6E',\n",
       "       'Q7A', 'Q7I', 'Q7E', 'Q8A', 'Q8I', 'Q8E', 'Q9A', 'Q9I', 'Q9E',\n",
       "       'Q10A', 'Q10I', 'Q10E', 'Q11A', 'Q11I', 'Q11E', 'Q12A', 'Q12I',\n",
       "       'Q12E', 'Q13A', 'Q13I', 'Q13E', 'Q14A', 'Q14I', 'Q14E', 'Q15A',\n",
       "       'Q15I', 'Q15E', 'Q16A', 'Q16I', 'Q16E', 'Q17A', 'Q17I', 'Q17E',\n",
       "       'Q18A', 'Q18I', 'Q18E', 'Q19A', 'Q19I', 'Q19E', 'Q20A', 'Q20I',\n",
       "       'Q20E', 'Q21A', 'Q21I', 'Q21E', 'Q22A', 'Q22I', 'Q22E', 'Q23A',\n",
       "       'Q23I', 'Q23E', 'Q24A', 'Q24I', 'Q24E', 'Q25A', 'Q25I', 'Q25E',\n",
       "       'Q26A', 'Q26I', 'Q26E', 'Q27A', 'Q27I', 'Q27E', 'Q28A', 'Q28I',\n",
       "       'Q28E', 'Q29A', 'Q29I', 'Q29E', 'Q30A', 'Q30I', 'Q30E', 'Q31A',\n",
       "       'Q31I', 'Q31E', 'Q32A', 'Q32I', 'Q32E', 'Q33A', 'Q33I', 'Q33E',\n",
       "       'Q34A', 'Q34I', 'Q34E', 'Q35A', 'Q35I', 'Q35E', 'Q36A', 'Q36I',\n",
       "       'Q36E', 'Q37A', 'Q37I', 'Q37E', 'Q38A', 'Q38I', 'Q38E', 'Q39A',\n",
       "       'Q39I', 'Q39E', 'Q40A', 'Q40I', 'Q40E', 'Q41A', 'Q41I', 'Q41E',\n",
       "       'Q42A', 'Q42I', 'Q42E', 'country', 'source', 'introelapse',\n",
       "       'testelapse', 'surveyelapse', 'TIPI1', 'TIPI2', 'TIPI3', 'TIPI4',\n",
       "       'TIPI5', 'TIPI6', 'TIPI7', 'TIPI8', 'TIPI9', 'TIPI10', 'VCL1',\n",
       "       'VCL2', 'VCL3', 'VCL4', 'VCL5', 'VCL6', 'VCL7', 'VCL8', 'VCL9',\n",
       "       'VCL10', 'VCL11', 'VCL12', 'VCL13', 'VCL14', 'VCL15', 'VCL16',\n",
       "       'education', 'urban', 'gender', 'engnat', 'age', 'screensize',\n",
       "       'uniquenetworklocation', 'hand', 'religion', 'orientation', 'race',\n",
       "       'voted', 'married', 'familysize', 'major', 'stress_score',\n",
       "       'stress_category', 'anxiety_score', 'anxiety_category',\n",
       "       'depression_score', 'depression_category', 'Extroversion',\n",
       "       'Agreeableness', 'Conscientiousness', 'Emotional_stability',\n",
       "       'Openness_to_experience', 'education_yrs', 'age_norm',\n",
       "       'heterosexual', 'LGBTQ'], dtype=object)"
      ]
     },
     "execution_count": 74,
     "metadata": {},
     "output_type": "execute_result"
    }
   ],
   "source": [
    "np.array(data.columns)"
   ]
  },
  {
   "cell_type": "code",
   "execution_count": 75,
   "metadata": {},
   "outputs": [],
   "source": [
    "df = data.copy()"
   ]
  },
  {
   "cell_type": "code",
   "execution_count": 76,
   "metadata": {},
   "outputs": [],
   "source": [
    "df = df[['education', 'urban', 'gender', 'age','religion','race',\n",
    "       'married', 'familysize', 'major', 'stress_score',\n",
    "       'anxiety_score', 'depression_score', 'depression_category',\n",
    "         'anxiety_category','stress_category','Extroversion',\n",
    "       'Agreeableness', 'Conscientiousness', 'Emotional_stability',\n",
    "       'Openness_to_experience', 'education_yrs', 'heterosexual', 'LGBTQ', 'age_norm']]"
   ]
  },
  {
   "cell_type": "code",
   "execution_count": 77,
   "metadata": {},
   "outputs": [
    {
     "data": {
      "text/html": [
       "<div>\n",
       "<style scoped>\n",
       "    .dataframe tbody tr th:only-of-type {\n",
       "        vertical-align: middle;\n",
       "    }\n",
       "\n",
       "    .dataframe tbody tr th {\n",
       "        vertical-align: top;\n",
       "    }\n",
       "\n",
       "    .dataframe thead th {\n",
       "        text-align: right;\n",
       "    }\n",
       "</style>\n",
       "<table border=\"1\" class=\"dataframe\">\n",
       "  <thead>\n",
       "    <tr style=\"text-align: right;\">\n",
       "      <th></th>\n",
       "      <th>education</th>\n",
       "      <th>urban</th>\n",
       "      <th>gender</th>\n",
       "      <th>age</th>\n",
       "      <th>religion</th>\n",
       "      <th>race</th>\n",
       "      <th>married</th>\n",
       "      <th>familysize</th>\n",
       "      <th>major</th>\n",
       "      <th>stress_score</th>\n",
       "      <th>...</th>\n",
       "      <th>stress_category</th>\n",
       "      <th>Extroversion</th>\n",
       "      <th>Agreeableness</th>\n",
       "      <th>Conscientiousness</th>\n",
       "      <th>Emotional_stability</th>\n",
       "      <th>Openness_to_experience</th>\n",
       "      <th>education_yrs</th>\n",
       "      <th>heterosexual</th>\n",
       "      <th>LGBTQ</th>\n",
       "      <th>age_norm</th>\n",
       "    </tr>\n",
       "  </thead>\n",
       "  <tbody>\n",
       "    <tr>\n",
       "      <th>0</th>\n",
       "      <td>2</td>\n",
       "      <td>3</td>\n",
       "      <td>2</td>\n",
       "      <td>16</td>\n",
       "      <td>12</td>\n",
       "      <td>10</td>\n",
       "      <td>1</td>\n",
       "      <td>2</td>\n",
       "      <td>NaN</td>\n",
       "      <td>40</td>\n",
       "      <td>...</td>\n",
       "      <td>5</td>\n",
       "      <td>1</td>\n",
       "      <td>9</td>\n",
       "      <td>9</td>\n",
       "      <td>1</td>\n",
       "      <td>13</td>\n",
       "      <td>12</td>\n",
       "      <td>1</td>\n",
       "      <td>0</td>\n",
       "      <td>-0.889716</td>\n",
       "    </tr>\n",
       "    <tr>\n",
       "      <th>2</th>\n",
       "      <td>2</td>\n",
       "      <td>3</td>\n",
       "      <td>2</td>\n",
       "      <td>17</td>\n",
       "      <td>4</td>\n",
       "      <td>60</td>\n",
       "      <td>1</td>\n",
       "      <td>3</td>\n",
       "      <td>NaN</td>\n",
       "      <td>17</td>\n",
       "      <td>...</td>\n",
       "      <td>2</td>\n",
       "      <td>3</td>\n",
       "      <td>7</td>\n",
       "      <td>4</td>\n",
       "      <td>8</td>\n",
       "      <td>10</td>\n",
       "      <td>12</td>\n",
       "      <td>0</td>\n",
       "      <td>1</td>\n",
       "      <td>-0.775867</td>\n",
       "    </tr>\n",
       "    <tr>\n",
       "      <th>4</th>\n",
       "      <td>3</td>\n",
       "      <td>2</td>\n",
       "      <td>2</td>\n",
       "      <td>19</td>\n",
       "      <td>10</td>\n",
       "      <td>10</td>\n",
       "      <td>1</td>\n",
       "      <td>4</td>\n",
       "      <td>Psychology</td>\n",
       "      <td>29</td>\n",
       "      <td>...</td>\n",
       "      <td>4</td>\n",
       "      <td>4</td>\n",
       "      <td>7</td>\n",
       "      <td>4</td>\n",
       "      <td>4</td>\n",
       "      <td>9</td>\n",
       "      <td>16</td>\n",
       "      <td>1</td>\n",
       "      <td>0</td>\n",
       "      <td>-0.548170</td>\n",
       "    </tr>\n",
       "    <tr>\n",
       "      <th>6</th>\n",
       "      <td>2</td>\n",
       "      <td>3</td>\n",
       "      <td>2</td>\n",
       "      <td>17</td>\n",
       "      <td>4</td>\n",
       "      <td>60</td>\n",
       "      <td>1</td>\n",
       "      <td>4</td>\n",
       "      <td>Mechatronics engeenerieng</td>\n",
       "      <td>14</td>\n",
       "      <td>...</td>\n",
       "      <td>1</td>\n",
       "      <td>7</td>\n",
       "      <td>8</td>\n",
       "      <td>10</td>\n",
       "      <td>7</td>\n",
       "      <td>5</td>\n",
       "      <td>12</td>\n",
       "      <td>0</td>\n",
       "      <td>1</td>\n",
       "      <td>-0.775867</td>\n",
       "    </tr>\n",
       "    <tr>\n",
       "      <th>9</th>\n",
       "      <td>1</td>\n",
       "      <td>1</td>\n",
       "      <td>2</td>\n",
       "      <td>18</td>\n",
       "      <td>2</td>\n",
       "      <td>60</td>\n",
       "      <td>1</td>\n",
       "      <td>3</td>\n",
       "      <td>computer programming</td>\n",
       "      <td>34</td>\n",
       "      <td>...</td>\n",
       "      <td>5</td>\n",
       "      <td>1</td>\n",
       "      <td>1</td>\n",
       "      <td>10</td>\n",
       "      <td>1</td>\n",
       "      <td>5</td>\n",
       "      <td>8</td>\n",
       "      <td>0</td>\n",
       "      <td>1</td>\n",
       "      <td>-0.662019</td>\n",
       "    </tr>\n",
       "  </tbody>\n",
       "</table>\n",
       "<p>5 rows × 24 columns</p>\n",
       "</div>"
      ],
      "text/plain": [
       "   education  urban  gender  age  religion  race  married  familysize  \\\n",
       "0          2      3       2   16        12    10        1           2   \n",
       "2          2      3       2   17         4    60        1           3   \n",
       "4          3      2       2   19        10    10        1           4   \n",
       "6          2      3       2   17         4    60        1           4   \n",
       "9          1      1       2   18         2    60        1           3   \n",
       "\n",
       "                       major  stress_score  ...  stress_category  \\\n",
       "0                        NaN            40  ...                5   \n",
       "2                        NaN            17  ...                2   \n",
       "4                 Psychology            29  ...                4   \n",
       "6  Mechatronics engeenerieng            14  ...                1   \n",
       "9       computer programming            34  ...                5   \n",
       "\n",
       "   Extroversion  Agreeableness  Conscientiousness  Emotional_stability  \\\n",
       "0             1              9                  9                    1   \n",
       "2             3              7                  4                    8   \n",
       "4             4              7                  4                    4   \n",
       "6             7              8                 10                    7   \n",
       "9             1              1                 10                    1   \n",
       "\n",
       "   Openness_to_experience  education_yrs  heterosexual  LGBTQ  age_norm  \n",
       "0                      13             12             1      0 -0.889716  \n",
       "2                      10             12             0      1 -0.775867  \n",
       "4                       9             16             1      0 -0.548170  \n",
       "6                       5             12             0      1 -0.775867  \n",
       "9                       5              8             0      1 -0.662019  \n",
       "\n",
       "[5 rows x 24 columns]"
      ]
     },
     "execution_count": 77,
     "metadata": {},
     "output_type": "execute_result"
    }
   ],
   "source": [
    "df.head()"
   ]
  },
  {
   "cell_type": "code",
   "execution_count": 78,
   "metadata": {},
   "outputs": [
    {
     "data": {
      "text/plain": [
       "(23150, 24)"
      ]
     },
     "execution_count": 78,
     "metadata": {},
     "output_type": "execute_result"
    }
   ],
   "source": [
    "df.shape"
   ]
  },
  {
   "cell_type": "markdown",
   "metadata": {},
   "source": [
    "### (ii) Major\n",
    "\n",
    "* `.strip()` removes leading and ending spaces.\n",
    "* `.split()` removes duplicate spaces in the middle of 2 words."
   ]
  },
  {
   "cell_type": "code",
   "execution_count": 79,
   "metadata": {},
   "outputs": [
    {
     "data": {
      "text/plain": [
       "3692"
      ]
     },
     "execution_count": 79,
     "metadata": {},
     "output_type": "execute_result"
    }
   ],
   "source": [
    "df[\"major\"].nunique()"
   ]
  },
  {
   "cell_type": "code",
   "execution_count": 80,
   "metadata": {},
   "outputs": [],
   "source": [
    "df['major'] = df['major'].str.strip()"
   ]
  },
  {
   "cell_type": "code",
   "execution_count": 81,
   "metadata": {},
   "outputs": [
    {
     "data": {
      "text/plain": [
       "3208"
      ]
     },
     "execution_count": 81,
     "metadata": {},
     "output_type": "execute_result"
    }
   ],
   "source": [
    "df[\"major\"].nunique()"
   ]
  },
  {
   "cell_type": "code",
   "execution_count": 82,
   "metadata": {},
   "outputs": [],
   "source": [
    "df['major'] = df['major'].str.lower()"
   ]
  },
  {
   "cell_type": "code",
   "execution_count": 83,
   "metadata": {},
   "outputs": [
    {
     "data": {
      "text/plain": [
       "2420"
      ]
     },
     "execution_count": 83,
     "metadata": {},
     "output_type": "execute_result"
    }
   ],
   "source": [
    "df[\"major\"].nunique()"
   ]
  },
  {
   "cell_type": "code",
   "execution_count": 84,
   "metadata": {},
   "outputs": [
    {
     "data": {
      "text/html": [
       "<div>\n",
       "<style scoped>\n",
       "    .dataframe tbody tr th:only-of-type {\n",
       "        vertical-align: middle;\n",
       "    }\n",
       "\n",
       "    .dataframe tbody tr th {\n",
       "        vertical-align: top;\n",
       "    }\n",
       "\n",
       "    .dataframe thead th {\n",
       "        text-align: right;\n",
       "    }\n",
       "</style>\n",
       "<table border=\"1\" class=\"dataframe\">\n",
       "  <thead>\n",
       "    <tr style=\"text-align: right;\">\n",
       "      <th></th>\n",
       "      <th>education</th>\n",
       "      <th>urban</th>\n",
       "      <th>gender</th>\n",
       "      <th>age</th>\n",
       "      <th>religion</th>\n",
       "      <th>race</th>\n",
       "      <th>married</th>\n",
       "      <th>familysize</th>\n",
       "      <th>major</th>\n",
       "      <th>stress_score</th>\n",
       "      <th>...</th>\n",
       "      <th>stress_category</th>\n",
       "      <th>Extroversion</th>\n",
       "      <th>Agreeableness</th>\n",
       "      <th>Conscientiousness</th>\n",
       "      <th>Emotional_stability</th>\n",
       "      <th>Openness_to_experience</th>\n",
       "      <th>education_yrs</th>\n",
       "      <th>heterosexual</th>\n",
       "      <th>LGBTQ</th>\n",
       "      <th>age_norm</th>\n",
       "    </tr>\n",
       "  </thead>\n",
       "  <tbody>\n",
       "    <tr>\n",
       "      <th>0</th>\n",
       "      <td>2</td>\n",
       "      <td>3</td>\n",
       "      <td>2</td>\n",
       "      <td>16</td>\n",
       "      <td>12</td>\n",
       "      <td>10</td>\n",
       "      <td>1</td>\n",
       "      <td>2</td>\n",
       "      <td>NaN</td>\n",
       "      <td>40</td>\n",
       "      <td>...</td>\n",
       "      <td>5</td>\n",
       "      <td>1</td>\n",
       "      <td>9</td>\n",
       "      <td>9</td>\n",
       "      <td>1</td>\n",
       "      <td>13</td>\n",
       "      <td>12</td>\n",
       "      <td>1</td>\n",
       "      <td>0</td>\n",
       "      <td>-0.889716</td>\n",
       "    </tr>\n",
       "    <tr>\n",
       "      <th>2</th>\n",
       "      <td>2</td>\n",
       "      <td>3</td>\n",
       "      <td>2</td>\n",
       "      <td>17</td>\n",
       "      <td>4</td>\n",
       "      <td>60</td>\n",
       "      <td>1</td>\n",
       "      <td>3</td>\n",
       "      <td>NaN</td>\n",
       "      <td>17</td>\n",
       "      <td>...</td>\n",
       "      <td>2</td>\n",
       "      <td>3</td>\n",
       "      <td>7</td>\n",
       "      <td>4</td>\n",
       "      <td>8</td>\n",
       "      <td>10</td>\n",
       "      <td>12</td>\n",
       "      <td>0</td>\n",
       "      <td>1</td>\n",
       "      <td>-0.775867</td>\n",
       "    </tr>\n",
       "    <tr>\n",
       "      <th>4</th>\n",
       "      <td>3</td>\n",
       "      <td>2</td>\n",
       "      <td>2</td>\n",
       "      <td>19</td>\n",
       "      <td>10</td>\n",
       "      <td>10</td>\n",
       "      <td>1</td>\n",
       "      <td>4</td>\n",
       "      <td>psychology</td>\n",
       "      <td>29</td>\n",
       "      <td>...</td>\n",
       "      <td>4</td>\n",
       "      <td>4</td>\n",
       "      <td>7</td>\n",
       "      <td>4</td>\n",
       "      <td>4</td>\n",
       "      <td>9</td>\n",
       "      <td>16</td>\n",
       "      <td>1</td>\n",
       "      <td>0</td>\n",
       "      <td>-0.548170</td>\n",
       "    </tr>\n",
       "    <tr>\n",
       "      <th>6</th>\n",
       "      <td>2</td>\n",
       "      <td>3</td>\n",
       "      <td>2</td>\n",
       "      <td>17</td>\n",
       "      <td>4</td>\n",
       "      <td>60</td>\n",
       "      <td>1</td>\n",
       "      <td>4</td>\n",
       "      <td>mechatronics engeenerieng</td>\n",
       "      <td>14</td>\n",
       "      <td>...</td>\n",
       "      <td>1</td>\n",
       "      <td>7</td>\n",
       "      <td>8</td>\n",
       "      <td>10</td>\n",
       "      <td>7</td>\n",
       "      <td>5</td>\n",
       "      <td>12</td>\n",
       "      <td>0</td>\n",
       "      <td>1</td>\n",
       "      <td>-0.775867</td>\n",
       "    </tr>\n",
       "    <tr>\n",
       "      <th>9</th>\n",
       "      <td>1</td>\n",
       "      <td>1</td>\n",
       "      <td>2</td>\n",
       "      <td>18</td>\n",
       "      <td>2</td>\n",
       "      <td>60</td>\n",
       "      <td>1</td>\n",
       "      <td>3</td>\n",
       "      <td>computer programming</td>\n",
       "      <td>34</td>\n",
       "      <td>...</td>\n",
       "      <td>5</td>\n",
       "      <td>1</td>\n",
       "      <td>1</td>\n",
       "      <td>10</td>\n",
       "      <td>1</td>\n",
       "      <td>5</td>\n",
       "      <td>8</td>\n",
       "      <td>0</td>\n",
       "      <td>1</td>\n",
       "      <td>-0.662019</td>\n",
       "    </tr>\n",
       "  </tbody>\n",
       "</table>\n",
       "<p>5 rows × 24 columns</p>\n",
       "</div>"
      ],
      "text/plain": [
       "   education  urban  gender  age  religion  race  married  familysize  \\\n",
       "0          2      3       2   16        12    10        1           2   \n",
       "2          2      3       2   17         4    60        1           3   \n",
       "4          3      2       2   19        10    10        1           4   \n",
       "6          2      3       2   17         4    60        1           4   \n",
       "9          1      1       2   18         2    60        1           3   \n",
       "\n",
       "                       major  stress_score  ...  stress_category  \\\n",
       "0                        NaN            40  ...                5   \n",
       "2                        NaN            17  ...                2   \n",
       "4                 psychology            29  ...                4   \n",
       "6  mechatronics engeenerieng            14  ...                1   \n",
       "9       computer programming            34  ...                5   \n",
       "\n",
       "   Extroversion  Agreeableness  Conscientiousness  Emotional_stability  \\\n",
       "0             1              9                  9                    1   \n",
       "2             3              7                  4                    8   \n",
       "4             4              7                  4                    4   \n",
       "6             7              8                 10                    7   \n",
       "9             1              1                 10                    1   \n",
       "\n",
       "   Openness_to_experience  education_yrs  heterosexual  LGBTQ  age_norm  \n",
       "0                      13             12             1      0 -0.889716  \n",
       "2                      10             12             0      1 -0.775867  \n",
       "4                       9             16             1      0 -0.548170  \n",
       "6                       5             12             0      1 -0.775867  \n",
       "9                       5              8             0      1 -0.662019  \n",
       "\n",
       "[5 rows x 24 columns]"
      ]
     },
     "execution_count": 84,
     "metadata": {},
     "output_type": "execute_result"
    }
   ],
   "source": [
    "df.head()"
   ]
  },
  {
   "cell_type": "code",
   "execution_count": 85,
   "metadata": {},
   "outputs": [],
   "source": [
    "spec_chars = [\"!\",'\"',\"#\",\"%\",\"&\",\"'\",\"(\",\")\",\n",
    "              \"*\",\"+\",\",\",\"-\",\".\",\"/\",\":\",\";\",\"<\",\n",
    "              \"=\",\">\",\"?\",\"@\",\"[\",\"\\\\\",\"]\",\"^\",\"_\",\n",
    "              \"`\",\"{\",\"|\",\"}\",\"~\",\"–\"]\n",
    "for char in spec_chars:\n",
    "    df['major'] = df['major'].str.replace(char, '')"
   ]
  },
  {
   "cell_type": "code",
   "execution_count": 86,
   "metadata": {},
   "outputs": [],
   "source": [
    "df['major'] = df['major'].str.replace('  ', ' ')"
   ]
  },
  {
   "cell_type": "code",
   "execution_count": 87,
   "metadata": {},
   "outputs": [
    {
     "data": {
      "text/plain": [
       "2391"
      ]
     },
     "execution_count": 87,
     "metadata": {},
     "output_type": "execute_result"
    }
   ],
   "source": [
    "df[\"major\"].nunique()"
   ]
  },
  {
   "cell_type": "code",
   "execution_count": 88,
   "metadata": {},
   "outputs": [],
   "source": [
    "list_major = list(df[\"major\"].unique())"
   ]
  },
  {
   "cell_type": "code",
   "execution_count": 89,
   "metadata": {},
   "outputs": [
    {
     "name": "stdout",
     "output_type": "stream",
     "text": [
      "[nan, 'psychology', 'mechatronics engeenerieng', 'computer programming', 'art', 'criminal justice sociology', 'computer science', 'business', 'civil engineering', 'hospitality', 'statistics', 'biologyst', 'biology', 'education', 'architecture', 'computer science engineering', 'psychologyphilosophy', 'marketing', 'medical technology', 'nutrition', 'classics and philosophy', 'english', 'accounting', 'literature', 'microbiology', 'sociology', 't', 'undecided', 'professional writing', 'nursing', 'philosophy', 'italianhistory of art', 'telecom', 'medicine', 'geography', 'theatre', 'logistics', 'food science', 'history', 'real estate', 'it', 'criminal justice', 'communication', 'educationcommunity studies', 'marketing computer science', 'general engineering', 'science', 'librarianship', 'mechanical engineering', 'biochemistry and cell biology', 'pharmacy', 'international relations', 'economics', 'public relations', 'physics', 'engineering', 'law', 'fine arts', 'economy', 'medical', 'maths computer', 'metallurgical engineeting', 'special inclusive education', 'culinary arts', 'fine art', 'environmental studies', 'business and design', 'finance', 'art and design', 'english and psychology', 'journalism', 'management', 'fermentation science', 'arts', 'financial management', 'chemical engineering', 'visual communication design animation', 'spacial engineering', 'criminology', 'ethnic studies', 'undeclared', 'landscape architecture', 'astronomy', 'speech pathology', 'political science', 'music', 'biomedical sciences', 'linguistics', 'architecture design', 'human rights', 'general fine arts masters in art teaching', 'robotics', '', 'sowtware eng', 'development studies', 'occupational therapy', 'film and video production', 'aerospace engineering', 'mbbs', 'geology', 'chemistry', 'business studies', 'studio art', 'urban and regional planning', 'quality', 'general studies', 'not there yet', 'communications', 'neuroscience', 'english american literature', 'furniture restoration', 'mba', 'biochemistry', 'legal studiesmusic', 'biochemestry', 'electrical engineering', 'public health', 'portuguese', 'materials science', 'environmental policy', 'humanity', 'math', 'international business', 'drama', 'humanities', 'pedagogics', 'mathematics', 'trained teachers certificate', 'teaching', 'justice', 'system dynamics', 'finance accounting', 'administrative assistant', 'liberal arts', 'religious studies', 'advertising', 'information technology', 'mortuary science', 'human resources', 'nurse', 'hr mgmt', 'agriculture', 'sciences', 'mathematice', 'tv production', 'electrical and electronic engineering', 'medical assisting', 'marine', 'anthropology', 'human resource', 'health science studies', 'environmental science', '304lahiyat', 'juridic', 'computing', 'translation', 'zoology', 'commerce', 'biotechnology', 'bba', 'applied maths', 'healthcare', 'biological anthropology', 'bs in psychology', 'math education french lit', 'statistician', 'industrial engineering', 'business economics', 'law and psychology', 'accounting business management', 'massage therapy', 'im about to major in psychology', 'japanese literature', 'biotechnologies', 'gender studies', 'scandinavian studies', 'renewable energies engineering', 'creative writing', 'philosophy and omputer science', 'zoology and animal science', 'cinema', 'game programming', 'korean studies', 'game development', 'stastistics', 'tourism management', 'physiotherapy', 'psychology sociology and literature', 'aquaculture', 'sound engineering', 'electronics', 'social welare', 'business administration', 'chinese mandarin', 'communication and public relations', 'english german', 'global health', 'social anthropology', 'technology', 'operations research', 'exercise science', 'economicsapplied mathematics', 'life science', 'electric engineering', 'web design', 'genetic engineering', 'italian language and literature', 'business information system', 'art design', 'theology', 'horticulture', 'video production', 'design', 'astrophysics', 'health sciences', 'ecology', 'graphic designer', 'library science', 'molecular biology', 'software engineering', 'linguistic', 'information systems', 'teaching education', 'biomed', 'psychology and creative writing', 'no', 'health services', 'journalism mass communication', 'computer information systems', 'it engineering', 'phsyics and philosophy', 'political sciencelaw', 'navigation', 'medical lab science', 'engineering and sociology', 'agricultural engineering', 'registered nursing', 'veterinary medicine', 'graphic design', 'mathematic', 'i dont know maybe education', 'social work', 'nil', 'graphic arts', 'biomedical engineering', 'biological sciences', 'biology music', 'english literature', 'forensics', 'digital arts', 'network security', 'physical education', 'entrepreneurship', 'event and sport management', 'social sciences', 'media', 'msc hr', 'art restoration and conservation', 'chemistry psychotherapy', 'welding', 'visual arts', 'electronic engineering', 'radio and tv production', 'commercial law', 'arts sociology', 'piano performance', 'primary teacher', 'social science', 'human services', 'engineering japanese language psychology', 'culinary management', 'human resource managament', 'biology education', 'medicine and surgery', 'econony', 'accounting technology', 'game design', 'policy', 'criminal justicde', 'i will not awnser', 'informatics', 'bussiness management', 'animal science', 'don’t know', 'history of art', 'graphics', 'public administration', 'environmental engineering', 'law enforcement', 'administration', 'na', 'english and history', 'law enoforcement', 'maths', 'design engineering', 'biblical studies', 'none', 'noe', 'hotel and restaurant management', 'paramedic', 'script writing', 'science geomatic', 'pastry arts', 'hr', 'pharmacology', 'manufacturing engineering', 'english lit', 'english department', 'dentistry', 'medical school', 'business management', 'ba', 'business administration and management', 'building', 'computer engineering', 'neurologist', 'science computer', 'business and psychology', 'aviation engineering', 'film', 'physical anthropology and genetics', 'communism', 'dance', 'computer sciencemath', 'pyschology', 'sociology illustration', 'physics and chemistry', 'engish lit', 'yes', 'healthservice', 'hairdressing', 'generals', 'envisci', 'computer', 'medical management', 'animation film', 'sustainability studies', 'art photography', 'physical therapy', 'geomatics', 'biological animal science', 'psych', 'human services currently in school', 'international studies', 'soft eng', 'computer animation', 'ingeneer sciences informatic mechanic ma', 'bahasa malaysia', 'government', 'accounts', 'veterinarian', 'pedagogy', 'mission work', 'speech and hearing science', 'actuaries sciences', 'philosophy psychology', 'metallurgical engineering', 'artificial intelligence', 'mass communication', 'italian logistics', 'cognitive science', 'geophysics', 'electronics and communication engineering and', 'film direction', 'applied linguistics english with chinese', 'civil', 'hod', 'cs', 'biomedical technology', 'teacher', 'environmental sciences', 'pre pharmacy', 'aeronautical engineering', 'educational clinical counseling', 'industrial and organisational psychology', 'culinary', 'social service administration', 'medical doctor', 'diagnostic technician cars', 'urban planning', 'recreation therapy', 'teaching criminal justice', 'kinesiology', 'applied linguistics english and romanian', 'event management', 'computer science psychology', 'computer science math economics', 'tesol japanese', 'health science', 'creative arts', 'finance dc degree', 'acting', 'tesl', 'pharmacy tech', 'electronics communication engineering', 'pol sci', 'crime scene tech', 'psychology theology', 'comuter science', 'animation', 'accountant', 'cyber security', 'swedish philology', 'writing', 'bookkeeping', 'theology attending right now', 'cis', 'office administration', 'psychologyvocal music', 'biomedical science', 'spanish', 'social behavior', 'archaeology', 'human resource management', 'human science', 'interface design', 'radiology', 'journalismpublic relations', 'behavioral science', 'paeleobiology', '2 majors computer science and industrial eng', 'computers', 'bio premed', 'australian literature', 'counseling', 'forensic', 'radiologic sciences', 'defence', 'american studies', 'law and commerce', 'doctor', 'counseling and human services', 'mechanical', 'logistic', 'physiology', 'wildlife resources', 'biotechnology engineering', 'interdisciplinary science', 'economic', 'french', 'ciclvil', '159316041605 160616011587', 'bioengineering', 'librial arts', 'graphic communication', 'polymer technology', 'interior design', 'engineerinh', 'communication engineering', 'bachelor of medicine and surgery', 'education administration', 'nope', 'european studies', 'aerospace', 'sociology of law', 'human resource managment', 'education in geography', 'multimedia', 'health care', 'medical and surgical', 'preschool', 'health', 'creative multimedia', 'counselling', 'business admin', 'creative writing english prose', 'graphics multimedia software', 'optical engineering', 'dietetics', 'banking', 'information management', 'multimedia computing', 'secretarial', 'corporate', 'botany', 'education malay language and moralistic', 'biomedicine', 'teaching english as second language tesl', 'accountancy', 'sociology anthropology', 'english education', 'quantity surveying', 'archeology', 'business computing', 'therapy', 'account', 'construction', 'medical laboratory', 'english as a second language', 'technology engineering', 'secretary', 'mechanichal engineering', 'accouting', 'culinary art', 'islamic studies', 'information technology and communication', 'language', 'foundation in tesl', 'networking', 'religius studies', 'secratarial science', 'aircraft engineering', 'food technology', 'biocomposite', 'building surveying', 'information communication and technology', 'bachelor of mechanical engineering honour', 'telecommunication engineering', 'hotel tourism', 'biomedical', 'industrial logistics', 'international relations and strategic studies', 'medical laboratory technology', 'media and design', 'computer mathematics', 'forestry', 'actuary', 'pure science', 'statistic', 'animation and screen technology', 'arabic', 'banking and finance', 'comparative religion', 'library', 'fashion and design', 'skill', 'science microbiology', 'japanese education', 'arabic language', 'bioprocess technology', 'technical engineering', 'marketing management', 'malay language', 'physical therapy and rehabilitation', 'materials engineering', 'busines', 'internation studies', 'statistical scienc', 'infomation management', 'traditional complementary medicine', 'allied health', 'communication media studies', 'bio engineering', 'medicinal', 'agricultural biotechnology', 'tourism', 'maritime', 'food biotechnology', 'international trade', 'medical imaging', 'no attention to continue my studies', 'internal auditing', 'faculty of engineering technology', 'surveying', 'physics science', 'science computer and mathematics', 'business school', 'designer', 'resource center management', 'phychology', 'islamic banking and finance', 'agribusiness', 'technology textile', 'educational psychology', 'geoscience', 'islamic lecture', 'hotel management', 'bioscience', 'bussiness', 'business marketing', 'electrical and electronics engineering', 'cost engineering', 'businesswoman', 'corporate administration', 'applied science', 'politics', 'analytical chemistry', 'medic', 'science mathematics', 'paramedic computering', 'property management', 'remedial', 'medical science', 'food service and management', 'early childhood education', 'bachelor of arts in psychology', 'islamic finance', 'natural resources science', 'environmental', 'administration science', 'bs hrm', 'sciene', 'health admin', 'english learning', 'hotel', 'maths n statistic', 'beauty', 'pastry', 'education in tesl', 'chemical gas engineering', 'teaching english as a second language', 'computet science', 'pharmaceutical', 'agrotechnology', 'not decided', 'media studies', 'food tech', 'syariah compliment', 'masscommunication', 'science actuary', 'communication and media', 'laws', 'public relations and entertainment management', 'marine biology', 'multimedia design', 'office management', 'computer studies', 'business it', 'environmentat science', 'psycholody', 'chemical industry', 'shariah psychology', 'tourism and recreation', 'hotel restaurant management', 'biochemical engineering', 'dermatologist', 'electronics engineering', 'public relation', 'forensic science', 'medical assistant', 'hospitalitu', 'apply arts and design', 'food science and technology', 'computer scienc', 'actuarial', 'fashion', 'it expert', 'religions', 'mech engineering', 'aviation management', 'ict', 'urban design', 'integrated marketing communication', 'real estate valuatiob', 'english business', 'computer sciences', 'pilot academy', 'mechatronics', 'aircraft maintenance engineering', 'hospitaly and tourism', 'human resources development', 'fisheries', 'american cultural studies', 'korean literature', 'information system', 'media communication', 'diploma in pharmacy', 'management entrepreneurship', 'project management', 'bioprocess engineering', 'theology and comparative religion', 'land administration', 'radiography', 'service sector related course', 'electrical power engineering', 'im a high school student', 'audiology', 'social psychology', 'computer security', 'arts degree', 'environment', 'pharmacy technology', 'early child education', 'medical health', 'landscape design', 'education in arts', 'io psychology', 'aquatic science and management', 'malay literature', 'english psychology', 'business marketig', 'development', 'industrial design', 'business and accountancy', 'theater', 'teaching english as second language', 'english applied linguistics', 'interactive digital media', 'dentist', 'english linguistics', 'englsih', 'petroleum engineering', 'language art', 'science technical', 'doctoring', 'science agriculture', 'interior architecture', 'optometry', 'biosystems engineering', 'computer network', 'foodservice', 'sciences technology', 'human resource deveploment management', 'business study', 'medical line', 'medical school or pharmacy', 'arts or pastry and banking', 'landscape', 'financial', 'mandarin', 'construction management', 'administrative', 'material science', 'idk', 'software development', 'hoteliers', 'biomolecular science', 'english commerce', 'science in biology', 'planning', 'bachelor of nursing', 'business adminsitration', 'engineering entrepreneurship', 'pre school study', 'english communication', 'new media communication', 'childhood education', 'administrative science', 'sociology and antropology', 'special education', 'bachelor of law', 'quantity surveyor', 'veterinary', 'bio', 'ultrasonography', 'industry design', 'mechatronics engineering', 'land surveying', 'science and technology', 'language and communication', 'designing or english', 'language studies', 'material engineering', 'psychology or arts', 'food science with nutrition', 'teaching english', 'psycology', 'finance and banking', 'mechanical engineeringt', 'food science technology', 'animal resource and science management', 'i dont know', 'fashion design', 'petroleum geoscience', 'media arts', 'textile technology', 'pharmacists', 'english for professional', 'new media', 'occupational safety and health', 'actuarial science', 'filming', 'electrical eng', 'food', 'medical electronics', 'plant science', 'communicatiom', 'medi', 'masscomm', 'plantation', 'psycholgy', 'electronic engineeringq', 'communication broadcasting', 'english as second language', 'aquatic science', 'medical laboraty', 'education english', 'englis', 'survey', 'finance and marketing', 'modern language', 'asia pacific studies', 'media and communication', 'programming', 'malay', 'network engineering', 'applied chemistry', 'businesss', 'software engineer', 'graphic designcosmetology', 'manager assistant', 'education on islamic studies', 'welding engineering', 'management bisnis', 'pharmacy technician', 'healtcare', 'french language for teaching', 'medical sciences', 'architectural', 'science stream', 'educationteaching', 'qs', 'surveryor', 'international relation', 'psychology science', 'civil engineering technology', 'science technology', 'technology management', 'bakery and confectionary', 'foundation of science', 'psych but i had to leave after a year', 'operation management', 'busuness management', 'science food technology', 'political', 'electronic physics', 'building technology', 'food service', 'media interactive', 'plantation management', 'estate management', 'enginerring', 'admin science', 'mathematical science', 'international trade and finance', 'earth science', 'professional', 'performing arts', 'aircraft engineering and maintenance', 'liberal studies', 'cinematography', 'food business and technollogy', 'economic business', 'i studied at the university and majored in fr', 'informatics engineering', 'communication advertising', 'bs biology', 'history civilization', 'acconting degree', 'speech science', 'accountinf', 'business and management', 'chinese language', 'agriculture engineering', 'agronomy', 'computer science and mathematics', 'petroleum', 'food sciencr', 'medication', 'civil eng', 'chem engineering', 'interior designing', 'businesses', 'investment', 'biochemistry physical therapy', 'advertising arts', 'polymer engineering', 'comunnication', 'building engineering', 'psychology art', 'property', 'human resource development', 'teaching english as a second languange', 'religious', 'physics mathematics', 'pure sciene', 'biochemicalbiotechnology engineering', 'conservation biology', 'marine science and technology', 'communicatiob', 'clinical psychology', 'bussines', 'it computing', 'animal health', 'public management', 'psychology english education', 'g', 'sport', 'sociology and anthropology', 'industrial chemistry', 'english in professional communication', 'art in photography', 'businee', 'marine science', 'government and public policy', 'laboratory technology', 'french and arabic', 'anthropology and sociology', 'quantitative sciene', 'applied sciences for television and radio', 'medical biotechnologies', 'engineering social studies', 'sports science', 'biochemisty and spanish', 'financw', 'communication and media studies', 'offshore banking', 'archaeology and history', 'media production and design', 'science foundation', 'religion', 'languages', 'none yet', 'econ', 'foreign language', 'eng', 'chemitry', 'network computer', 'engineerng', 'sculpture', 'mechanical engineering with mechatronics', 'foundation science', 'scienc', 'creative art and design', 'psychology liberal studies', 'cad cam engineering', 'mathematics education', 'architect', 'anthropology biology', 'police sciences', 'none yet but hopefully engineering', 'graphic engineering and design', 'graphic design and art', 'special education and literacy', 'electrical electronic engineering', 'animal biology', 'graphic art and design', 'tourism planning and hospitality management', 'production engineering', 'computer hardware engineering', 'ancient history', 'sports management', 'economics and finance', 'environmental management', 'lecturer', 'escenics arts', 'english ergonomics', 'jurnalism', 'not decide yet', 'painting', 'audio engineering', 'nutrition and food sciences', 'cosmetology', 'media production', 'medical labortories', 'child youth work college diploma', 'eet', 'humanities english and history', 'pediatric', 'industrial and mechanical engineering', 'art management', 'dance psychology', 'dental hygiene', 'german', 'phylosophy', 'mechanical pure', 'industrial designer', 'foreign languages', 'bible', 'english and chinese', 'islamic revealed knowledge', 'theology and religion', 'bachelor of occupational safety and health', 'syariah law', 'retail management', 'chemical engineering process', 'never', 'politic study', 'art and designs', 'environmental consultant', 'i have not attended university yet', 'mechanical engineer', 'safety engineering', 'investment analysis', 'medical degree', 'history and philosophy ba msc social work', 'film media studies and publishing', 'pre medical course bs physical therapy', 'economics ba', 'psychologycriminology', 'performing arts communication', 'economics management', 'english and french', 'doctor of medicine', 'english teaching', 'literatures', 'industrial psychology', 'sociology demographics', 'paralegal', 'maths and physics', 'mass communications', 'drawing', 'automotive engineering', 'hrm', 'litterature and writingnfrench', 'television production', 'german native language', 'accounting and finance', 'engineer', 'still in school', 'child and family studies', 'conflict mediation', 'art history', 'supply chain management', 'physics engineering', 'design graphic', 'chemisty', 'clinical scientist', 'biology spanish', 'linguistics theology', 'psy', 'psychologie', 'computer networking', 'computer scientist', 'psychology spanish', 'business information systems', 'electromechanical engineering', 'general', 'communication sciences', 'theater arts', 'bioinformatics', 'mechanic and energetic', 'dental hygienist', 'biomed science', 'psychotherapg', 'languages history', 'english socioeconomics', 'social studies', 'secondary education', 'elementary education', 'psychsoc', 'neurobiology', 'biology conflict development', 'philosophy prelaw', 'general management', 'musicology', 'i don’t know', 'medical laboratory scientist', 'rhetoric and communication', 'english psychology journalism or digital a', 'civil mechanical engineering', 'art film and media', 'arts and accounting', 'east asian studies', 'german language', 'tesol education', 'in college currently', 'gerontology', 'french literature', 'nursingbusiness', 'designing', 'engereering', 'pharmacy microbiology', 'foreign languages and literature', 'histoty', 'security studies', 'landscape architect', 'embedded systems engineering', 'governmentfrench lang', 'economic administration', 'industrial relations', 'no answer', 'speech hearing and language sciences', 'criminalnjustice', 'sociology and criminal justice', 'early childhood', 'film directing', 'international business administration', 'medicql', 'telecommunications', 'bachelor of mechanical engineering', 'fashion and arts', 'premed', 'nanotechnology', 'elem ed', 'software engineeeing', 'media arts and animation', 'education science', 'speech therapy', 'socio', 'cultural studies', 'associate in science', 'classical studies', 'psychology marketing performing arts', 'oceanography', 'chinese', 'technology and engineering teaching', 'exercise physiology', 'sciene administrative', 'molecular biotech', 'neuroscience and chemistry', 'psychology culinary', 'agriculture economics', 'molecular and cell biology', 'physical sciences', 'sociology and communications', 'child development', 'software', 'computer sc', 'russian studies', 'arts for health and wellbeing', 'coding or englishnot sure', 'healthcare management', 'visual arts and culture', 'pet grooming', 'actuarial sciencd', 'psychology journalist writer', 'communication business', 'stem', 'human development', 'english makeup', 'it management', 'physics and computer science', 'palaeontology', 'communication arts', 'music education', 'communication management', 'biochemisty', 'aliied science', 'museology', 'history and spanish language', 'knowledge management', 'transformative studies', 'business management operations and supply c', 'industrial management', 'psychiatry', 'polish philology', 'hospitality and hotel administration', 'nuclear medicine', 'organizational communication', 'microbiology environmental psychology for ge', 'medcal assstant', 'psychology or language', 'classic languages', 'afrikaans', 'arabic literature', 'machine technology', 'psychology education', 'geomatics engineering', 'pharmacist', 'im in last year of medicine', 'sports science health', 'fisiotherapy', 'psychology and neuroscience', 'managemrma', 'business administrationaccounting', 'bachelor of english', 'genetics', 'med', 'culture', 'lawyer', 'arsitechture', 'illustration', 'bba law', 'englidh', 'legal science', 'thiê769t kê769 273ô768 ho803a', 'bba llb', 'creative media', 'ppe', 'printing technology', 'international communication', 'dentistry or food technology', 'medical lab', 'cinema production', 'japanese', 'comp science', 'veterinary science', 'guidance and counselling', 'english and french languages', 'i do not know', 'applied psychology', 'college it', 'software eng', 'art and communication', 'english occupational therapy', 'environmental infrastructure engineering', 'chem eng', 'politicial science', 'pre law', 'psychology sociology', 'screen studies', 'early education', 'che engineering', 'insurance', 'medical billing', 'esl', 'ceramics', 'computer systems', 'dance and dietetics', 'photography', 'biology premed', 'social work studies', 'health education', 'coding', 'primary education', 'therapeutic recreation', 'comminications', 'psychologysociologyeducation', 'medical and communications', 'industrial physics', 'human computer interaction', 'poli sci', 'masters in physicd', 'neuroscience biology', 'money enginering', 'communication designer', 'islamic knowledge', 'polsci econ law chemeng', 'family and human services', 'international studies and tesol', 'science biology', 'biology and chemistry', 'animal care', 'public health and science', 'foreign language education', '2d animation', 'redseal electrician', 'mathematics business economics', 'public policy', 'ceit', 'computer science and engineering', '2d art', 'electrical engoneering', 'librarian', 'psuchology', 'speech communication', 'fashion designer', 'psychology computer science', 'hs', 'mechanic', 'music and art', 'art and music', 'right', 'antropology and sosiology', 'government politics', 'marh', 'biochem', 'mechatronics programming electronics mec', 'teacher at kindergarden', 'criminal justicetheatre', 'marine engineering', 'psychology pharmacology art creative writi', 'neurobio', 'fashion communication', 'finance project management', 'art theatre 2 degrees', 'product design', 'computergraphic design', 'homeland security', 'process engineering', 'comunication', 'conputet science', 'telecomunication engineering', 'doctor of chiropractic', 'radio broadcasting', 'films', 'acc', 'mass comm', 'foundatin in agricultural science', 'acca', 'town planner', 'office systems management', 'business or economics', 'physiotheraphy', 'office technology and management', 'human sciences', 'veterinar', 'special kids', 'physic', 'science social', 'arabic and literature', 'anthropology sociology', 'eletrical engineering', 'business or tourism', 'office systems', 'applied english language studies', 'businesman', 'applied physics', 'medical and surgery', 'med tech', 'humanitarian', 'pharmacy diploma', 'computer sciencw', 'applied science 128300', 'taxation', 'bio medicine', 'mechatronic engineering', 'music business', 'quantity serveyors', 'science physical', 'retailing management', 'agrotech', 'vocational education', 'drop out', 'fashion design art', 'dietetic', 'mass communication and media studies', 'automotive', 'safety and health', 'operations management', 'architect or psychology or analyst', 'general science', 'chemical engineering technology', 'halal', 'medicinrme', 'enhlish', 'biologyy', 'language literature', 'instructional multimedia', 'marine technology', 'accounting information systems', 'medical engineering', 'risk management', 'bachelor of nursing science', 'safety health officer', 'english studies', 'broadcasting', 'medical physics', 'entreprenuer', 'nuclear science', 'quantity survey', 'netcentric computing', 'social engineering', 'nautical studies', 'languange', 'chargeman', 'science administration', 'quantum physics', 'agro technology', 'broadcast communications', 'chemical', 'medical student', 'professional communication skill', 'valuer', 'chemical lab technology', 'english languange', 'certificate in illustration', 'digital media', 'records management', 'game art', 'biodiversity and conservation', 'planting', 'design communication', 'media comm', 'food safety', 'information system engineering', 'antropology sociology', 'masscom', 'policy studies', 'sc comp', '18', 'pharmacy business', 'industrial mathematics', 'education in science', 'degree economic', 'sociocultural', 'information and computer technology', 'serving', 'english linguistic and literature', 'conputer science', 'metallurgy engineering', 'medica school', 'public admin', 'bankig', 'biologists', 'sustainable science', 'computer system', 'businesd', 'foundation', 'pure physics', 'history and civilizations', 'business international', 'manajement', 'occupational theraphy', 'microelectronics engineering', 'musician', 'applied linguistics', 'language linguistics', 'induatrial biology', 'surgery', 'business transport', 'agricultural', 'accounting finance', 'genetic', 'education of history', 'islamic banking', 'games design and animation', 'household economy teaching', 'zakat', 'applied mathematics', 'aviation managment', 'biodiversity conservation', 'international relation and diplomacy', 'education of children', 'english major', 'accountancy and finance', 'aircraft maintenance', 'computer engineerinng', 'office system', 'psychology or english', 'hospitality and tourism', 'korean', 'travel', 'early child edu', 'planting management', 'teaching esl', 'admin', 'textile', 'education of sport recreation', 'egineering', 'mineral resources engineering', 'nutritionist', 'nutritional science', 'math education', 'electronic electrical engineering', 'engineering mechanical', 'korean language and literature', 'avionics maintenance', 'safety enginneering', 'network', 'system networking', 'applied sciences', 'sport science', 'customer service management', 'real estate management', 'dental sugery assistance', 'admintration', 'french language', 'economics and management', 'history and southeast asian studies', 'transportstion managament', 'paychology', 'fashion desigb', 'engineeribg', 'food science and nutrition', 'information of system engineering', 'corporate conmunication', 'dental surgery assistant', 'information and communication technology', 'communicatiin', 'psychology journalism communicative english', 'building surveyor', 'electical engineering', 'financial economics', 'occupation therapy', 'photography art', 'audiovisual communication', 'mining engineering', 'banking financial', 'business ict', 'system computer networking', 'food estate management', 'actuaril science', 'health administration', 'financial math', 'publishing', 'mechanicalchemical engineering', 'science politic', 'am majoring in english', 'nursing english', 'food act', 'land development science', 'investment management', 'architechture', 'medical bachelor', 'engineering technology energy and environment', 'architectural design', 'dropped out of college from engineering unive', 'civil engineer', 'communication media', 'theology and philosophy', 'security network', 'robotics engineering', 'english tesl', 'company secretary', 'dancing', 'safety health', 'politic science', 'eee', 'bachelor in english', 'english childhood education', 'petrochemical engineering', 'events', 'information security', 'islamic studies and it', 'office managenent', 'foos science with nutrition', 'filem', 'psychology in children', 'plant biotechnology science and technology', 'wellness', 'engineeting', 'planning and surveying', 'town planning and regional', 'pastry bakery', 'information', 'automotive technology', 'entertainment arts', 'biology in education', 'science or psychology', 'internet technology', 'financing', 'engliah', 'beautician', 'medic science', 'mathematic education', 'information system management', 'languange and communicatiob', 'forestry conservations', 'dietitian', 'educational', 'record management', 'business management majoring tourism manageme', 'production technology', 'chemical enginering', 'environmental health', 'accountantcy', 'electrical in engineering', 'anatomy', 'criminal psychology', 'organisation', 'survey engineering', 'building construction', 'pyshology', 'mechanical engineering technology', 'religious subjects', 'conmunication', 'physics with electronics', 'computer science with miultimedia interactive', 'psychologu', 'halal management', 'islamic', 'psychology or programming', 'business computer', 'logistic and supply chain', 'business in entreprenuership', 'engineerinv', 'science physic', 'chemical engibeering', 'chef', 'music or account', 'accountacy', 'heritage studies', 'eearly childhood education', 'medical lab technologies', 'occupational safety health', 'mathematic engineering', 'tourism in management', 'caunselor', 'construction technology', 'flight attendance', 'hm i dont know yet', 'businesslanguage', 'infornation system engineering', 'hotelier', 'international relationship', 'muamalat', 'mining', 'englisj', 'international studies and economics', 'aquculture', 'mathematical sciences', 'secretary science', 'library science and information management', 'mathematical computer', 'english language studies', 'computer network engineering', 'environmental health and safety', 'foundation studies', 'bs', 'human resources management', 'office system management', 'communication studies', 'applied arts and design', 'constructio', 'pychology', 'diploma in science', 'photograph', 'tesol', 'foundation in law', 'english language literature', 'philosophy and poetry', 'banking business', 'corporate communication', 'radiation', 'sociologyanthropology', 'i finished pre university programme', 'farmasy', 'legal', 'sciencr', 'science of architecture', 'communications engineering', 'banking studies', 'cullinary arts', 'quran', 'sains math', 'applied sciences in biotechnology', 'cullinary art', 'ecinomic', 'management with multimedia', 'film and television', 'economic management', 'mass media and communication', 'pastry abd culinary', 'mechanic engineering', 'medic psychology', 'film production', 'creative writing film', 'religion education', 'foreign languagesdesignliterature', 'english and theatre', 'science education', 'nutrition sciences', 'policies', 'accaountant', 'musical theatre', 'criminal justice fire protection', 'film media', 'genetic science', 'industrial technology', 'politic', 'finance economics', 'civil e', 'accontant', 'biocomposite technology', 'aviation', 'bank', 'foundation in engineering', 'gaming', 'food and process engineering', 'counting', 'merketing', 'community health', 'educationtesl', 'electrical engeneering', 'psychological science', 'human genetics', 'science sosial', 'aircratf maintenance', 'finance accounting and management', 'classics', 'economycs', 'science and technology studies', 'business account', 'biology marine', 'culinary or accountancy', 'it programming', 'marketinf', 'sociology and economy', 'science health', 'english language and linguistics', 'emc', 'biotechnology resource', 'cullinary', 'biomolecule science', 'plant science and environmental management', 'environmental assessment', 'account and finance', 'paramedic and civil proteccion', 'law school', 'gastronomy', 'computation', 'syariah and law', 'technology and livelihood education', 'aquatic biology', 'electronics and communication engineering', 'none what you class for university we class', 'techies graphic', 'interactive media design', 'broadcast and film studies', 'town planning', 'medical lab tech', 'bs information technology', 'cooking', 'enginering', 'games programming', 'managementeducationcomputer programming', 'economincs', 'data analyst', 'psyhology', 'health science optometry', 'information trchnology', 'technical graphics', 'dental surgery', 'diploma in software engineering', 'accontancy', 'childhood studies', 'communicationadvertising', 'entrepreneurhsip', 'leadership', 'psychology and special education', 'engish', 'political sciencemathmusic', 'biological science', 'environmental healthcare', 'adminstration', 'molecular genetics', 'medical or sport science', 'sport study', 'theatre psychology literature', 'malaysian studies', 'engg', 'psychology and english', 'information technologies', 'library and information sciences', 'literature and culture', 'comparative literature', 'patient care technician', 'tesl education', 'molecular science', 'electrical engineerinh', 'advertising design', 'english for international commucation', 'bahasa melayu', 'cabin crew', 'database management', 'information communication technology', 'buisness', 'bi', 'hotel and tourism', 'doctor of veterinary medicine', 'mathemathic', 'development study', 'culinary arts and management', 'geospatial science', '3d animation architecture', 'forensic pathology', 'cinematic arts', 'foundation in arts leading to psychology', 'financial economic', 'sciences computer', 'built environment', 'geography education', 'legal and secretarial', 'entrepreneurs', 'interpersonal communication', 'nursing science', 'chemical and bioprocess engineering', 'electrical electronics engineering', 'social', 'pharmaceutics', 'system', 'englisha', 'mass media', 'hospitality industry', 'science physics', 'architecture arts performing arts', 'stpm', 'baking and pastry arts', 'communications studies', 'networking data communication', 'halal food', 'enginnering', 'entrepreneur', 'technical engineering computer', 'food science and tech', 'surgical technology', 'sports sciences', 'business administrative', 'analytical and environmental chemistry', 'dentalworks', 'baking', 'mathematics and philosophy', 'health and human services', 'medecine', 'social pedagogy', 'evolutionary biology', 'political science english', 'operation', 'translationinterpreting', 'allied health science', 'interior designer', 'islamic education', 'counseling psychology', 'manufacturing engineering’', 'masters of work psychology', 'diploma hotel and tourism management', 'dip auto engineering', 'cell and molecular biology', 'social welfare', 'engineering technology', 'merchandising', 'paediatrician', 'resource planning', 'film marketing', 'bachelor of business financial management an', 'media science', 'social sciences history', 'teologi', 'syariah islamiyah', 'pre medical', 'computing technology', 'relion comparison', 'science policy', 'business mgt', 'chemical and gas engineering', 'civik engineering', 'businesa', 'theoretical physics', 'oriental lenguages', 'creative photomedia', 'pharmasy', 'biohealth science', 'human resource development management', 'ece', 'production', 'hospitality management', 'biology and archaeology', 'electronic engineering computer', 'microelectronic engineering', 'management sciences', 'life sciences', 'electronic telecommunications', 'pure math', 'english and psychology then industrial relat', 'geo', 'instrument engineering', 'biology administrative', 'currently psychology and neuroscience', 'japanese and korean language', 'viral immunology', 'graphic communications', 'pr and marketing', 'graphic designing', 'mandarin and international trade', 'safety', 'english professional communication', 'induatrial psychology', 'human geography', 'biology science', 'hospitality culinary arts', 'computer information technology', 'electrical', 'chemical technology', 'master of science', 'business and marketing', 'multimedia arts', 'games art and design', 'filmmaking', 'chartered accountancy', 'childhood', 'english language', 'arabic language and literature', 'biology and french doublemajor', 'businessman', 'music technology', 'lwa', 'international affairs', 'hospitality still attending', 'psychology or economics', 'ethical hacking', 'mlt', 'skils', 'business administration psychology', 'wood technology', 'culinary science enrolled', 'english child development', 'hvac', 'agriculture business', 'games art', 'architetecture', 'aechitecture', 'political science and economics', 'resiratory therapist', 'islamic financebanking', 'applied biochemistry', 'international relatiom', 'psychology with criminology', 'management in tourism', 'biology sociology', 'event management business', 'neurobiology psychology', 'danish', 'plant sciences', 'english and american literature', 'computer engg', 'english literature major', 'behavior analysis', 'mental health', 'psychology and philosophy', 'nutritiondietetics', 'i plan to study psychology', 'design technology', 'kiin', 'nutrition science', 'bs psychology', 'electronic', 'technology management and business', 'chemistry science', 'interdisciplinary studies', 'theoretical linguistics spanish language li', 'arts and education', 'maintenance', 'psyhcology', 'power plant technology', 'billing and coding', 'respiratory therapy', 'psychologie artthérapie', 'family social science', 'sport management', 'wildlife biology', 'speech and language pathology', 'office management and technology', 'computer science math physics electrical e', 'mathenatics', 'banking finance', 'comp science engg', 'geography in education', 'park and amenity management', 'mascomm', 'forensic anthropology', 'information tech', 'office add', 'customer service', 'agricultural psychology', 'bachelor of science in office administration', 'mathematic computer', 'russian philology', 'bachelor of science office admintration', 'elecytronic sytems engineeeing', 'couselling', 'general medicine and surgery', 'molecular and cellular biology', 'emglisj', 'public accounting', 'medical bsc', 'caunselling', 'industrial education', 'biophysics', 'architecturebusiness', 'communication science', 'nursingbiology', 'foundation in business', 'business managment', 'planting industry management', 'bisness', 'international finance', 'chinese language education', 'bioindustry technology', 'technologi in computer', 'islamic banking and financial', 'chemical engine', 'petro', 'dental', 'records and archive', 'shipbuilding', 'detective', 'electronic telecommunication engineering', 'art therapy', 'polymer', 'logistics supply chain', 'science secreterial', 'neurology', 'bachelor business administration', 'design and fashion design', 'operation researchmanagement science', 'chinese literature', 'biosciences', 'translation studies education', 'i can decide until now actually but i graduat', 'mechaninal engineering', 'internation relations', 'construction building', 'information and library science', 'rular development', 'music production', 'communication design design strategy', 'aeronautics and astronautics', 'laboratory medicine and genetics and molecula', 'psychology and sociology', 'no only currently in college', 'fashion merchandising', 'geography and development', 'psychology business administration', 'dental medicine', 'speech language therapy', 'pharmaceuticals', 'bcom', 'nuclear engineering', 'ot', 'studying', 'sosiology', 'medical practitioner', 'electronic computer engineering', 'arts and science', 'speech languaga pathology', 'administrial', 'laboratory', 'optometrist', 'psychlogy', 'food technolgy', 'sociology abd anthropology', 'mechanical enngineering', 'b education', 'inheritance', 'education chemistry', 'technopreneur', 'social sciene', 'human resources business management', 'engingeering technology', 'database', 'entrepreneaurship', 'science management', 'healthadministration', 'english literatute', 'land survey', 'sastera', 'nuclear physics', 'nautical science', 'biotech', 'actuarial and financial mathematics', 'secretaries', 'syariah', 'history education', 'science comp multimedia', 'husbandry', 'business ecommerce', 'music performance', 'geomatic', 'practical', 'bio psych', 'actuarial sciences', 'management accounting', 'educational sciences', '0', 'political science and legal management', 'ir', 'energy engineering', 'electric and electric engineering', 'siciology', 'ai computer', 'info mgmt', 'economists', 'event experience design', 'psychologyrelated', 'physics instrumentation', 'technological engineering', 'mechanical eng', 'deaf education', 'plant pathology', 'statisctics', 'biology and psychology', 'kaw', 'audiology mba', 'environental healthcare', '3d animation', 'nanoscience', 'geomatic engineering', 'classics philosophy', 'sports manegment', 'environmental biology', 'university of suffolk', 'business studie', 'bcomm', 'early ed', 'nutritional sciences', 'english and spanish', 'theatre premed medicine', 'psychoeducation', 'law business', 'design arts', 'never been', 'general chem', 'enforcement', 'dermatology', 'biomedical electronic engineering', 'criminlogy', 'medicine psychology', 'interaction design ux designer', 'historical', 'biotech engineering', 'railway engineering', 'tourisn', 'applied sciencechemistry', 'food nutrition', 'business finance', 'phichology', 'mass communication and broadcasting', 'soldier', 'governance', 'electronic engeneering', 'speech language pathology', 'fisheries science', 'behavioral sciences and clinical psychology', 'islamic astronomy', 'multimedia technology', 'medicine drop out', 'bahasa mandarin', 'photographer', 'data science and analytics', 'policing', 'busniess', 'ecommerce', 'travel tourism', 'home science', 'international law', 'vet', 'mass communication in broadcasting', 'health related dental ', 'accountancy and financing', 'international affair', 'sign language enterpreter', 'islamic study', 'surveying real estate', 'record', 'korea', 'md', 'forestry science', 'education tesol', 'electrically engineering', 'sport communication', 'fiqh and usul fiqh', 'tesl teaching english as second language', 'architecture engineering', 'medical bioscience', 'baking and pastry', 'environmental and occupational health', 'digital technology', 'crime investigation', 'math sociology minor', 'statistical industries', 'business adminstration', 'mechanical enginearing', 'information system studies', 'library management', 'technology of engineering', 'informatiob technology', 'creative', 'policing law', 'information system technology', 'business accountingfinance', 'performance', 'naval architecture and offshore engineering', 'foundation in allied science', 'science economics', 'arts and design', 'jewish studies', 'computer science philosophy theology', 'business psychology', 'imaging', 'food security', 'diploma in environmental health', 'electronic communication', 'fire academy', 'geographical information system', 'technology environment', 'computer and electronic systems', 'life science engineering agriculture biolog', 'arts administration', 'business managenement', 'english language and linguistic', 'communication design', 'film animation', 'acouunting', 'computer studies business studies', 'telecommunications engineering', 'econs', 'international development', 'psychology still in college', 'doctor or science commputer', 'medicine surgery', 'marketng', 'psychology or kaunseling', 'english translation', 'conflict resolution', 'human management', 'secretarial science', 'business information technology', 'accounts and finance', 'computer technology', 'social administration', 'ship design technology', 'pharmaceutical technology', 'prau', 'hotel catering', 'socioculture', 'health nursing', 'englishbusiness admin', 'anthropology sociology speech therapy', 'music educations', 'human health', 'liberal arts or pyschology', 'electrical engineer', 'graphic design digital media', 'singer', 'psychology journalism computer sciences ec', 'visual communications', 'b sc human development', 'accounting finance and economics', 'music vocals', 'avionics', 'unknown', 'health and social care', 'aircraft mechanic', 'phschology', 'animal sciences', 'metal art', 'administrative management', 'industrial biology', 'geologic engineering', 'science and mathematics', 'hotel business', 'philosophy comp sci', 'information techology', 'social science and humanities', 'engineering or maths', 'engineering electronics', 'chemical sciences', 'food beverage entrepreneurship', 'wine science', 'elecctronic engineering', 'computor science', 'psychology history rhetoric', 'remote sensing', 'engr', 'esthetician', 'env health', 'communications media and journalism', 'nutritiondietetics field', 'sociologu', 'physiological science', 'information management system', 'mediacolour science', 'comp sciences', 'law and business', 'photomedia', 'forensic investigation', 'engineering accounting', 'electrical enfineering', 'cosmetic scientist or business', 'fine art photography', 'english sec education', 'biochemical', 'ancient greek', 'bsc hons physics', 'emglish', 'photomedia creative', 'preuniversity science stream', 'mechatronic', 'polisci', 'engineeing', 'national treasury', 'environmental science and technology', 'computer electronic', 'cognitive sciences', 'language and multimedia', 'biomedical electrical engineering', 'halal industri management', 'film studies psychology', 'comparative study', 'computer programming computer system manage', 'english and linguistics', 'textile design', 'islamic sciences', 'college diploma', 'game art design', 'chemistry education', 'psychology or human resoureces', 'histiry', 'english linguistics and literature', 'biopsychology', 'planning management', 'paramedic science', 'antropology and sociology', 'sport psychology', 'occupational in safety and health', 'businesss in hospitality', 'computer science and math', 'science pure', 'interactive media', 'literal', 'architecture photography design', 'bioprocessing', 'i would like to do psych in uni', 'jounalism', 'astrophysic', 'materials technology', 'asian studies', 'international marketing', 'politics and hr', 'transportation and logistics', 'master degree in project management', 'business management information system', 'business and finance', 'physical activity', 'beauty spa', 'leadership and management', 'engineering and business', 'transport', 'valuation', 'music or psychology', 'sofver engineering', 'economics and mathematics', 'food service and nutrition', 'animal', 'bachelor in psychology with human resource de', 'i did not', 'preuniversity', 'medicinepharmacy', 'administr', 'fotography', 'philosophy pending', 'administraton', 'bakery and pastry', 'technology creative', 'linguistics and literature', 'comics', 'developmental psychology', 'technical', 'tourism studies', 'technician', 'graphic', 'english with communication', 'kaunseling', 'indonesia literature', 'mehchatronics engineering', 'human resource management psychology', 'digital animation', 'doctors', 'biologist', 'chemistry and art', 'communication engr', 'bachelor in law', 'planning to go for psychology or languages e', 'engineering tecnology', 'natural science', 'nutrisionist', 'aplied science', 'rehab and mental health', 'shipping management', 'psychologydoctor', 'literaturre', 'chemical process engineering', 'health science biology', 'business engineering', 'developmental economics', 'political sciences', 'geomatic science', 'sports', 'computing and engineering', 'banking management', 'psychiatric rehabilitation', 'network engineer', 'foundation in medicine', 'water engineering', 'journalism and communication studies', 'medical laboratory science', 'english and communication', 'criminal justice and criminology', 'fashion business', 'aviation engeneering', 'philosophy and theology', 'computeroffice', 'human biology', 'psychology english', 'psychology or art', 'retail', 'geological science', 'pastry and bakery', 'psych undergrad', 'art education', 'history media and communications', 'psychiology', 'geologist', 'business management psychology', 'biochemistrybiotechnology', 'mental health counseling', 'archules', 'economics and psychology', 'strategic communication', 'art physical education', 'human resource management and etreprenuershi', 'professional accounting', 'aesthetic', 'creative and cultural industries', 'emergency medical care', 'diagnostic imaging and radiotherapy', 'bioilogy', 'englisu', 'psychology english and journalism', 'double major in math and physics', 'civil engineer g', 'psychotherapy', 'clinical osychology', 'marriage and family therapy', 'dropped out', 'legal management', 'game dev', 'networking engineering', 'literature and arts', '2281023186396363537335336']\n"
     ]
    }
   ],
   "source": [
    "print(list_major)"
   ]
  },
  {
   "cell_type": "markdown",
   "metadata": {},
   "source": [
    "### (iii) Gender"
   ]
  },
  {
   "cell_type": "code",
   "execution_count": 90,
   "metadata": {},
   "outputs": [],
   "source": [
    "dummy_gender = pd.get_dummies(df[\"gender\"])"
   ]
  },
  {
   "cell_type": "code",
   "execution_count": 91,
   "metadata": {},
   "outputs": [],
   "source": [
    "df = pd.concat([df,dummy_gender], axis=1)"
   ]
  },
  {
   "cell_type": "code",
   "execution_count": 92,
   "metadata": {},
   "outputs": [],
   "source": [
    "df = df.rename(columns={1:\"Male\",2:\"Female\"})"
   ]
  },
  {
   "cell_type": "code",
   "execution_count": 93,
   "metadata": {},
   "outputs": [
    {
     "data": {
      "text/html": [
       "<div>\n",
       "<style scoped>\n",
       "    .dataframe tbody tr th:only-of-type {\n",
       "        vertical-align: middle;\n",
       "    }\n",
       "\n",
       "    .dataframe tbody tr th {\n",
       "        vertical-align: top;\n",
       "    }\n",
       "\n",
       "    .dataframe thead th {\n",
       "        text-align: right;\n",
       "    }\n",
       "</style>\n",
       "<table border=\"1\" class=\"dataframe\">\n",
       "  <thead>\n",
       "    <tr style=\"text-align: right;\">\n",
       "      <th></th>\n",
       "      <th>education</th>\n",
       "      <th>urban</th>\n",
       "      <th>gender</th>\n",
       "      <th>age</th>\n",
       "      <th>religion</th>\n",
       "      <th>race</th>\n",
       "      <th>married</th>\n",
       "      <th>familysize</th>\n",
       "      <th>major</th>\n",
       "      <th>stress_score</th>\n",
       "      <th>...</th>\n",
       "      <th>Agreeableness</th>\n",
       "      <th>Conscientiousness</th>\n",
       "      <th>Emotional_stability</th>\n",
       "      <th>Openness_to_experience</th>\n",
       "      <th>education_yrs</th>\n",
       "      <th>heterosexual</th>\n",
       "      <th>LGBTQ</th>\n",
       "      <th>age_norm</th>\n",
       "      <th>Male</th>\n",
       "      <th>Female</th>\n",
       "    </tr>\n",
       "  </thead>\n",
       "  <tbody>\n",
       "    <tr>\n",
       "      <th>0</th>\n",
       "      <td>2</td>\n",
       "      <td>3</td>\n",
       "      <td>2</td>\n",
       "      <td>16</td>\n",
       "      <td>12</td>\n",
       "      <td>10</td>\n",
       "      <td>1</td>\n",
       "      <td>2</td>\n",
       "      <td>NaN</td>\n",
       "      <td>40</td>\n",
       "      <td>...</td>\n",
       "      <td>9</td>\n",
       "      <td>9</td>\n",
       "      <td>1</td>\n",
       "      <td>13</td>\n",
       "      <td>12</td>\n",
       "      <td>1</td>\n",
       "      <td>0</td>\n",
       "      <td>-0.889716</td>\n",
       "      <td>0</td>\n",
       "      <td>1</td>\n",
       "    </tr>\n",
       "    <tr>\n",
       "      <th>2</th>\n",
       "      <td>2</td>\n",
       "      <td>3</td>\n",
       "      <td>2</td>\n",
       "      <td>17</td>\n",
       "      <td>4</td>\n",
       "      <td>60</td>\n",
       "      <td>1</td>\n",
       "      <td>3</td>\n",
       "      <td>NaN</td>\n",
       "      <td>17</td>\n",
       "      <td>...</td>\n",
       "      <td>7</td>\n",
       "      <td>4</td>\n",
       "      <td>8</td>\n",
       "      <td>10</td>\n",
       "      <td>12</td>\n",
       "      <td>0</td>\n",
       "      <td>1</td>\n",
       "      <td>-0.775867</td>\n",
       "      <td>0</td>\n",
       "      <td>1</td>\n",
       "    </tr>\n",
       "    <tr>\n",
       "      <th>4</th>\n",
       "      <td>3</td>\n",
       "      <td>2</td>\n",
       "      <td>2</td>\n",
       "      <td>19</td>\n",
       "      <td>10</td>\n",
       "      <td>10</td>\n",
       "      <td>1</td>\n",
       "      <td>4</td>\n",
       "      <td>psychology</td>\n",
       "      <td>29</td>\n",
       "      <td>...</td>\n",
       "      <td>7</td>\n",
       "      <td>4</td>\n",
       "      <td>4</td>\n",
       "      <td>9</td>\n",
       "      <td>16</td>\n",
       "      <td>1</td>\n",
       "      <td>0</td>\n",
       "      <td>-0.548170</td>\n",
       "      <td>0</td>\n",
       "      <td>1</td>\n",
       "    </tr>\n",
       "    <tr>\n",
       "      <th>6</th>\n",
       "      <td>2</td>\n",
       "      <td>3</td>\n",
       "      <td>2</td>\n",
       "      <td>17</td>\n",
       "      <td>4</td>\n",
       "      <td>60</td>\n",
       "      <td>1</td>\n",
       "      <td>4</td>\n",
       "      <td>mechatronics engeenerieng</td>\n",
       "      <td>14</td>\n",
       "      <td>...</td>\n",
       "      <td>8</td>\n",
       "      <td>10</td>\n",
       "      <td>7</td>\n",
       "      <td>5</td>\n",
       "      <td>12</td>\n",
       "      <td>0</td>\n",
       "      <td>1</td>\n",
       "      <td>-0.775867</td>\n",
       "      <td>0</td>\n",
       "      <td>1</td>\n",
       "    </tr>\n",
       "    <tr>\n",
       "      <th>9</th>\n",
       "      <td>1</td>\n",
       "      <td>1</td>\n",
       "      <td>2</td>\n",
       "      <td>18</td>\n",
       "      <td>2</td>\n",
       "      <td>60</td>\n",
       "      <td>1</td>\n",
       "      <td>3</td>\n",
       "      <td>computer programming</td>\n",
       "      <td>34</td>\n",
       "      <td>...</td>\n",
       "      <td>1</td>\n",
       "      <td>10</td>\n",
       "      <td>1</td>\n",
       "      <td>5</td>\n",
       "      <td>8</td>\n",
       "      <td>0</td>\n",
       "      <td>1</td>\n",
       "      <td>-0.662019</td>\n",
       "      <td>0</td>\n",
       "      <td>1</td>\n",
       "    </tr>\n",
       "  </tbody>\n",
       "</table>\n",
       "<p>5 rows × 26 columns</p>\n",
       "</div>"
      ],
      "text/plain": [
       "   education  urban  gender  age  religion  race  married  familysize  \\\n",
       "0          2      3       2   16        12    10        1           2   \n",
       "2          2      3       2   17         4    60        1           3   \n",
       "4          3      2       2   19        10    10        1           4   \n",
       "6          2      3       2   17         4    60        1           4   \n",
       "9          1      1       2   18         2    60        1           3   \n",
       "\n",
       "                       major  stress_score  ...  Agreeableness  \\\n",
       "0                        NaN            40  ...              9   \n",
       "2                        NaN            17  ...              7   \n",
       "4                 psychology            29  ...              7   \n",
       "6  mechatronics engeenerieng            14  ...              8   \n",
       "9       computer programming            34  ...              1   \n",
       "\n",
       "   Conscientiousness  Emotional_stability  Openness_to_experience  \\\n",
       "0                  9                    1                      13   \n",
       "2                  4                    8                      10   \n",
       "4                  4                    4                       9   \n",
       "6                 10                    7                       5   \n",
       "9                 10                    1                       5   \n",
       "\n",
       "   education_yrs  heterosexual  LGBTQ  age_norm  Male  Female  \n",
       "0             12             1      0 -0.889716     0       1  \n",
       "2             12             0      1 -0.775867     0       1  \n",
       "4             16             1      0 -0.548170     0       1  \n",
       "6             12             0      1 -0.775867     0       1  \n",
       "9              8             0      1 -0.662019     0       1  \n",
       "\n",
       "[5 rows x 26 columns]"
      ]
     },
     "execution_count": 93,
     "metadata": {},
     "output_type": "execute_result"
    }
   ],
   "source": [
    "df.head()"
   ]
  },
  {
   "cell_type": "code",
   "execution_count": 94,
   "metadata": {},
   "outputs": [],
   "source": [
    "df.drop('gender',axis=1,inplace=True)"
   ]
  },
  {
   "cell_type": "code",
   "execution_count": 95,
   "metadata": {},
   "outputs": [
    {
     "data": {
      "text/html": [
       "<div>\n",
       "<style scoped>\n",
       "    .dataframe tbody tr th:only-of-type {\n",
       "        vertical-align: middle;\n",
       "    }\n",
       "\n",
       "    .dataframe tbody tr th {\n",
       "        vertical-align: top;\n",
       "    }\n",
       "\n",
       "    .dataframe thead th {\n",
       "        text-align: right;\n",
       "    }\n",
       "</style>\n",
       "<table border=\"1\" class=\"dataframe\">\n",
       "  <thead>\n",
       "    <tr style=\"text-align: right;\">\n",
       "      <th></th>\n",
       "      <th>education</th>\n",
       "      <th>urban</th>\n",
       "      <th>age</th>\n",
       "      <th>religion</th>\n",
       "      <th>race</th>\n",
       "      <th>married</th>\n",
       "      <th>familysize</th>\n",
       "      <th>major</th>\n",
       "      <th>stress_score</th>\n",
       "      <th>anxiety_score</th>\n",
       "      <th>...</th>\n",
       "      <th>Agreeableness</th>\n",
       "      <th>Conscientiousness</th>\n",
       "      <th>Emotional_stability</th>\n",
       "      <th>Openness_to_experience</th>\n",
       "      <th>education_yrs</th>\n",
       "      <th>heterosexual</th>\n",
       "      <th>LGBTQ</th>\n",
       "      <th>age_norm</th>\n",
       "      <th>Male</th>\n",
       "      <th>Female</th>\n",
       "    </tr>\n",
       "  </thead>\n",
       "  <tbody>\n",
       "    <tr>\n",
       "      <th>0</th>\n",
       "      <td>2</td>\n",
       "      <td>3</td>\n",
       "      <td>16</td>\n",
       "      <td>12</td>\n",
       "      <td>10</td>\n",
       "      <td>1</td>\n",
       "      <td>2</td>\n",
       "      <td>NaN</td>\n",
       "      <td>40</td>\n",
       "      <td>34</td>\n",
       "      <td>...</td>\n",
       "      <td>9</td>\n",
       "      <td>9</td>\n",
       "      <td>1</td>\n",
       "      <td>13</td>\n",
       "      <td>12</td>\n",
       "      <td>1</td>\n",
       "      <td>0</td>\n",
       "      <td>-0.889716</td>\n",
       "      <td>0</td>\n",
       "      <td>1</td>\n",
       "    </tr>\n",
       "    <tr>\n",
       "      <th>2</th>\n",
       "      <td>2</td>\n",
       "      <td>3</td>\n",
       "      <td>17</td>\n",
       "      <td>4</td>\n",
       "      <td>60</td>\n",
       "      <td>1</td>\n",
       "      <td>3</td>\n",
       "      <td>NaN</td>\n",
       "      <td>17</td>\n",
       "      <td>12</td>\n",
       "      <td>...</td>\n",
       "      <td>7</td>\n",
       "      <td>4</td>\n",
       "      <td>8</td>\n",
       "      <td>10</td>\n",
       "      <td>12</td>\n",
       "      <td>0</td>\n",
       "      <td>1</td>\n",
       "      <td>-0.775867</td>\n",
       "      <td>0</td>\n",
       "      <td>1</td>\n",
       "    </tr>\n",
       "    <tr>\n",
       "      <th>4</th>\n",
       "      <td>3</td>\n",
       "      <td>2</td>\n",
       "      <td>19</td>\n",
       "      <td>10</td>\n",
       "      <td>10</td>\n",
       "      <td>1</td>\n",
       "      <td>4</td>\n",
       "      <td>psychology</td>\n",
       "      <td>29</td>\n",
       "      <td>40</td>\n",
       "      <td>...</td>\n",
       "      <td>7</td>\n",
       "      <td>4</td>\n",
       "      <td>4</td>\n",
       "      <td>9</td>\n",
       "      <td>16</td>\n",
       "      <td>1</td>\n",
       "      <td>0</td>\n",
       "      <td>-0.548170</td>\n",
       "      <td>0</td>\n",
       "      <td>1</td>\n",
       "    </tr>\n",
       "    <tr>\n",
       "      <th>6</th>\n",
       "      <td>2</td>\n",
       "      <td>3</td>\n",
       "      <td>17</td>\n",
       "      <td>4</td>\n",
       "      <td>60</td>\n",
       "      <td>1</td>\n",
       "      <td>4</td>\n",
       "      <td>mechatronics engeenerieng</td>\n",
       "      <td>14</td>\n",
       "      <td>19</td>\n",
       "      <td>...</td>\n",
       "      <td>8</td>\n",
       "      <td>10</td>\n",
       "      <td>7</td>\n",
       "      <td>5</td>\n",
       "      <td>12</td>\n",
       "      <td>0</td>\n",
       "      <td>1</td>\n",
       "      <td>-0.775867</td>\n",
       "      <td>0</td>\n",
       "      <td>1</td>\n",
       "    </tr>\n",
       "    <tr>\n",
       "      <th>9</th>\n",
       "      <td>1</td>\n",
       "      <td>1</td>\n",
       "      <td>18</td>\n",
       "      <td>2</td>\n",
       "      <td>60</td>\n",
       "      <td>1</td>\n",
       "      <td>3</td>\n",
       "      <td>computer programming</td>\n",
       "      <td>34</td>\n",
       "      <td>28</td>\n",
       "      <td>...</td>\n",
       "      <td>1</td>\n",
       "      <td>10</td>\n",
       "      <td>1</td>\n",
       "      <td>5</td>\n",
       "      <td>8</td>\n",
       "      <td>0</td>\n",
       "      <td>1</td>\n",
       "      <td>-0.662019</td>\n",
       "      <td>0</td>\n",
       "      <td>1</td>\n",
       "    </tr>\n",
       "  </tbody>\n",
       "</table>\n",
       "<p>5 rows × 25 columns</p>\n",
       "</div>"
      ],
      "text/plain": [
       "   education  urban  age  religion  race  married  familysize  \\\n",
       "0          2      3   16        12    10        1           2   \n",
       "2          2      3   17         4    60        1           3   \n",
       "4          3      2   19        10    10        1           4   \n",
       "6          2      3   17         4    60        1           4   \n",
       "9          1      1   18         2    60        1           3   \n",
       "\n",
       "                       major  stress_score  anxiety_score  ...  Agreeableness  \\\n",
       "0                        NaN            40             34  ...              9   \n",
       "2                        NaN            17             12  ...              7   \n",
       "4                 psychology            29             40  ...              7   \n",
       "6  mechatronics engeenerieng            14             19  ...              8   \n",
       "9       computer programming            34             28  ...              1   \n",
       "\n",
       "   Conscientiousness  Emotional_stability  Openness_to_experience  \\\n",
       "0                  9                    1                      13   \n",
       "2                  4                    8                      10   \n",
       "4                  4                    4                       9   \n",
       "6                 10                    7                       5   \n",
       "9                 10                    1                       5   \n",
       "\n",
       "   education_yrs  heterosexual  LGBTQ  age_norm  Male  Female  \n",
       "0             12             1      0 -0.889716     0       1  \n",
       "2             12             0      1 -0.775867     0       1  \n",
       "4             16             1      0 -0.548170     0       1  \n",
       "6             12             0      1 -0.775867     0       1  \n",
       "9              8             0      1 -0.662019     0       1  \n",
       "\n",
       "[5 rows x 25 columns]"
      ]
     },
     "execution_count": 95,
     "metadata": {},
     "output_type": "execute_result"
    }
   ],
   "source": [
    "df.head()"
   ]
  },
  {
   "cell_type": "code",
   "execution_count": 96,
   "metadata": {},
   "outputs": [],
   "source": [
    "df.drop('major',axis=1,inplace=True)"
   ]
  },
  {
   "cell_type": "code",
   "execution_count": 97,
   "metadata": {},
   "outputs": [
    {
     "data": {
      "text/plain": [
       "(23150, 24)"
      ]
     },
     "execution_count": 97,
     "metadata": {},
     "output_type": "execute_result"
    }
   ],
   "source": [
    "df.shape"
   ]
  },
  {
   "cell_type": "markdown",
   "metadata": {},
   "source": [
    "## Basic Machine Learning Algorithms"
   ]
  },
  {
   "cell_type": "code",
   "execution_count": 224,
   "metadata": {},
   "outputs": [],
   "source": [
    "from sklearn.model_selection import train_test_split\n",
    "from sklearn.model_selection import cross_val_score, GridSearchCV\n",
    "from sklearn.metrics import mean_squared_error\n",
    "from sklearn.metrics import r2_score\n",
    "\n",
    "from sklearn.linear_model import LinearRegression\n",
    "from sklearn.linear_model import LogisticRegression\n",
    "from sklearn.svm import SVC, LinearSVC\n",
    "from sklearn.ensemble import RandomForestClassifier, RandomForestRegressor\n",
    "from sklearn.neighbors import KNeighborsClassifier\n",
    "from sklearn.naive_bayes import GaussianNB\n",
    "from sklearn.linear_model import Perceptron\n",
    "from sklearn.linear_model import SGDClassifier\n",
    "from sklearn.tree import DecisionTreeClassifier\n",
    "from sklearn.preprocessing import MinMaxScaler"
   ]
  },
  {
   "cell_type": "markdown",
   "metadata": {},
   "source": [
    "## Select Features for Prediction\n",
    "\n",
    "* education vs. education_yrs\n",
    "* orientation\n",
    "* age\n",
    "* religion\n",
    "* race\n",
    "* family size\n",
    "* personality\n",
    "\n",
    "***Methods:***\n",
    "\n",
    "* Linear Regression (Single/Multiple)\n",
    "* Random Forest: contributioon"
   ]
  },
  {
   "cell_type": "markdown",
   "metadata": {},
   "source": [
    "### (i) Personality"
   ]
  },
  {
   "cell_type": "code",
   "execution_count": 99,
   "metadata": {},
   "outputs": [],
   "source": [
    "df_p = df.copy()"
   ]
  },
  {
   "cell_type": "code",
   "execution_count": 100,
   "metadata": {},
   "outputs": [
    {
     "data": {
      "text/html": [
       "<div>\n",
       "<style scoped>\n",
       "    .dataframe tbody tr th:only-of-type {\n",
       "        vertical-align: middle;\n",
       "    }\n",
       "\n",
       "    .dataframe tbody tr th {\n",
       "        vertical-align: top;\n",
       "    }\n",
       "\n",
       "    .dataframe thead th {\n",
       "        text-align: right;\n",
       "    }\n",
       "</style>\n",
       "<table border=\"1\" class=\"dataframe\">\n",
       "  <thead>\n",
       "    <tr style=\"text-align: right;\">\n",
       "      <th></th>\n",
       "      <th>education</th>\n",
       "      <th>urban</th>\n",
       "      <th>age</th>\n",
       "      <th>religion</th>\n",
       "      <th>race</th>\n",
       "      <th>married</th>\n",
       "      <th>familysize</th>\n",
       "      <th>stress_score</th>\n",
       "      <th>anxiety_score</th>\n",
       "      <th>depression_score</th>\n",
       "      <th>...</th>\n",
       "      <th>Agreeableness</th>\n",
       "      <th>Conscientiousness</th>\n",
       "      <th>Emotional_stability</th>\n",
       "      <th>Openness_to_experience</th>\n",
       "      <th>education_yrs</th>\n",
       "      <th>heterosexual</th>\n",
       "      <th>LGBTQ</th>\n",
       "      <th>age_norm</th>\n",
       "      <th>Male</th>\n",
       "      <th>Female</th>\n",
       "    </tr>\n",
       "  </thead>\n",
       "  <tbody>\n",
       "    <tr>\n",
       "      <th>0</th>\n",
       "      <td>2</td>\n",
       "      <td>3</td>\n",
       "      <td>16</td>\n",
       "      <td>12</td>\n",
       "      <td>10</td>\n",
       "      <td>1</td>\n",
       "      <td>2</td>\n",
       "      <td>40</td>\n",
       "      <td>34</td>\n",
       "      <td>27</td>\n",
       "      <td>...</td>\n",
       "      <td>9</td>\n",
       "      <td>9</td>\n",
       "      <td>1</td>\n",
       "      <td>13</td>\n",
       "      <td>12</td>\n",
       "      <td>1</td>\n",
       "      <td>0</td>\n",
       "      <td>-0.889716</td>\n",
       "      <td>0</td>\n",
       "      <td>1</td>\n",
       "    </tr>\n",
       "    <tr>\n",
       "      <th>2</th>\n",
       "      <td>2</td>\n",
       "      <td>3</td>\n",
       "      <td>17</td>\n",
       "      <td>4</td>\n",
       "      <td>60</td>\n",
       "      <td>1</td>\n",
       "      <td>3</td>\n",
       "      <td>17</td>\n",
       "      <td>12</td>\n",
       "      <td>39</td>\n",
       "      <td>...</td>\n",
       "      <td>7</td>\n",
       "      <td>4</td>\n",
       "      <td>8</td>\n",
       "      <td>10</td>\n",
       "      <td>12</td>\n",
       "      <td>0</td>\n",
       "      <td>1</td>\n",
       "      <td>-0.775867</td>\n",
       "      <td>0</td>\n",
       "      <td>1</td>\n",
       "    </tr>\n",
       "    <tr>\n",
       "      <th>4</th>\n",
       "      <td>3</td>\n",
       "      <td>2</td>\n",
       "      <td>19</td>\n",
       "      <td>10</td>\n",
       "      <td>10</td>\n",
       "      <td>1</td>\n",
       "      <td>4</td>\n",
       "      <td>29</td>\n",
       "      <td>40</td>\n",
       "      <td>32</td>\n",
       "      <td>...</td>\n",
       "      <td>7</td>\n",
       "      <td>4</td>\n",
       "      <td>4</td>\n",
       "      <td>9</td>\n",
       "      <td>16</td>\n",
       "      <td>1</td>\n",
       "      <td>0</td>\n",
       "      <td>-0.548170</td>\n",
       "      <td>0</td>\n",
       "      <td>1</td>\n",
       "    </tr>\n",
       "    <tr>\n",
       "      <th>6</th>\n",
       "      <td>2</td>\n",
       "      <td>3</td>\n",
       "      <td>17</td>\n",
       "      <td>4</td>\n",
       "      <td>60</td>\n",
       "      <td>1</td>\n",
       "      <td>4</td>\n",
       "      <td>14</td>\n",
       "      <td>19</td>\n",
       "      <td>31</td>\n",
       "      <td>...</td>\n",
       "      <td>8</td>\n",
       "      <td>10</td>\n",
       "      <td>7</td>\n",
       "      <td>5</td>\n",
       "      <td>12</td>\n",
       "      <td>0</td>\n",
       "      <td>1</td>\n",
       "      <td>-0.775867</td>\n",
       "      <td>0</td>\n",
       "      <td>1</td>\n",
       "    </tr>\n",
       "    <tr>\n",
       "      <th>9</th>\n",
       "      <td>1</td>\n",
       "      <td>1</td>\n",
       "      <td>18</td>\n",
       "      <td>2</td>\n",
       "      <td>60</td>\n",
       "      <td>1</td>\n",
       "      <td>3</td>\n",
       "      <td>34</td>\n",
       "      <td>28</td>\n",
       "      <td>42</td>\n",
       "      <td>...</td>\n",
       "      <td>1</td>\n",
       "      <td>10</td>\n",
       "      <td>1</td>\n",
       "      <td>5</td>\n",
       "      <td>8</td>\n",
       "      <td>0</td>\n",
       "      <td>1</td>\n",
       "      <td>-0.662019</td>\n",
       "      <td>0</td>\n",
       "      <td>1</td>\n",
       "    </tr>\n",
       "  </tbody>\n",
       "</table>\n",
       "<p>5 rows × 24 columns</p>\n",
       "</div>"
      ],
      "text/plain": [
       "   education  urban  age  religion  race  married  familysize  stress_score  \\\n",
       "0          2      3   16        12    10        1           2            40   \n",
       "2          2      3   17         4    60        1           3            17   \n",
       "4          3      2   19        10    10        1           4            29   \n",
       "6          2      3   17         4    60        1           4            14   \n",
       "9          1      1   18         2    60        1           3            34   \n",
       "\n",
       "   anxiety_score  depression_score  ...  Agreeableness  Conscientiousness  \\\n",
       "0             34                27  ...              9                  9   \n",
       "2             12                39  ...              7                  4   \n",
       "4             40                32  ...              7                  4   \n",
       "6             19                31  ...              8                 10   \n",
       "9             28                42  ...              1                 10   \n",
       "\n",
       "   Emotional_stability  Openness_to_experience  education_yrs  heterosexual  \\\n",
       "0                    1                      13             12             1   \n",
       "2                    8                      10             12             0   \n",
       "4                    4                       9             16             1   \n",
       "6                    7                       5             12             0   \n",
       "9                    1                       5              8             0   \n",
       "\n",
       "   LGBTQ  age_norm  Male  Female  \n",
       "0      0 -0.889716     0       1  \n",
       "2      1 -0.775867     0       1  \n",
       "4      0 -0.548170     0       1  \n",
       "6      1 -0.775867     0       1  \n",
       "9      1 -0.662019     0       1  \n",
       "\n",
       "[5 rows x 24 columns]"
      ]
     },
     "execution_count": 100,
     "metadata": {},
     "output_type": "execute_result"
    }
   ],
   "source": [
    "df_p.head()"
   ]
  },
  {
   "cell_type": "code",
   "execution_count": 101,
   "metadata": {},
   "outputs": [
    {
     "data": {
      "text/plain": [
       "Index(['education', 'urban', 'age', 'religion', 'race', 'married',\n",
       "       'familysize', 'stress_score', 'anxiety_score', 'depression_score',\n",
       "       'depression_category', 'anxiety_category', 'stress_category',\n",
       "       'Extroversion', 'Agreeableness', 'Conscientiousness',\n",
       "       'Emotional_stability', 'Openness_to_experience', 'education_yrs',\n",
       "       'heterosexual', 'LGBTQ', 'age_norm', 'Male', 'Female'],\n",
       "      dtype='object')"
      ]
     },
     "execution_count": 101,
     "metadata": {},
     "output_type": "execute_result"
    }
   ],
   "source": [
    "df_p.columns"
   ]
  },
  {
   "cell_type": "markdown",
   "metadata": {},
   "source": [
    "#### Depression"
   ]
  },
  {
   "cell_type": "code",
   "execution_count": 217,
   "metadata": {},
   "outputs": [],
   "source": [
    "X_train,X_test,y_train,y_test = train_test_split(df_p[['Extroversion', 'Agreeableness', 'Conscientiousness',\n",
    "                                                       'Emotional_stability', 'Openness_to_experience']],\n",
    "                                                df_p['depression_category'],\n",
    "                                                test_size = 0.3)"
   ]
  },
  {
   "cell_type": "code",
   "execution_count": 103,
   "metadata": {},
   "outputs": [],
   "source": [
    "lin_reg = LinearRegression()"
   ]
  },
  {
   "cell_type": "code",
   "execution_count": 104,
   "metadata": {},
   "outputs": [
    {
     "data": {
      "text/plain": [
       "LinearRegression(copy_X=True, fit_intercept=True, n_jobs=None, normalize=False)"
      ]
     },
     "execution_count": 104,
     "metadata": {},
     "output_type": "execute_result"
    }
   ],
   "source": [
    "lin_reg.fit(X_train,y_train)"
   ]
  },
  {
   "cell_type": "code",
   "execution_count": 105,
   "metadata": {},
   "outputs": [],
   "source": [
    "y_pred = lin_reg.predict(X_test)"
   ]
  },
  {
   "cell_type": "code",
   "execution_count": 106,
   "metadata": {},
   "outputs": [
    {
     "data": {
      "text/plain": [
       "1.652972934072689"
      ]
     },
     "execution_count": 106,
     "metadata": {},
     "output_type": "execute_result"
    }
   ],
   "source": [
    "mean_squared_error(y_test,y_pred)"
   ]
  },
  {
   "cell_type": "code",
   "execution_count": 107,
   "metadata": {},
   "outputs": [
    {
     "data": {
      "text/plain": [
       "0.3177479236716264"
      ]
     },
     "execution_count": 107,
     "metadata": {},
     "output_type": "execute_result"
    }
   ],
   "source": [
    "r2_score(y_test,y_pred)"
   ]
  },
  {
   "cell_type": "code",
   "execution_count": 108,
   "metadata": {},
   "outputs": [
    {
     "data": {
      "text/html": [
       "<div>\n",
       "<style scoped>\n",
       "    .dataframe tbody tr th:only-of-type {\n",
       "        vertical-align: middle;\n",
       "    }\n",
       "\n",
       "    .dataframe tbody tr th {\n",
       "        vertical-align: top;\n",
       "    }\n",
       "\n",
       "    .dataframe thead th {\n",
       "        text-align: right;\n",
       "    }\n",
       "</style>\n",
       "<table border=\"1\" class=\"dataframe\">\n",
       "  <thead>\n",
       "    <tr style=\"text-align: right;\">\n",
       "      <th></th>\n",
       "      <th>Coefficient</th>\n",
       "    </tr>\n",
       "  </thead>\n",
       "  <tbody>\n",
       "    <tr>\n",
       "      <th>Extroversion</th>\n",
       "      <td>-0.086150</td>\n",
       "    </tr>\n",
       "    <tr>\n",
       "      <th>Agreeableness</th>\n",
       "      <td>-0.020526</td>\n",
       "    </tr>\n",
       "    <tr>\n",
       "      <th>Conscientiousness</th>\n",
       "      <td>-0.071936</td>\n",
       "    </tr>\n",
       "    <tr>\n",
       "      <th>Emotional_stability</th>\n",
       "      <td>-0.215798</td>\n",
       "    </tr>\n",
       "    <tr>\n",
       "      <th>Openness_to_experience</th>\n",
       "      <td>-0.029077</td>\n",
       "    </tr>\n",
       "  </tbody>\n",
       "</table>\n",
       "</div>"
      ],
      "text/plain": [
       "                        Coefficient\n",
       "Extroversion              -0.086150\n",
       "Agreeableness             -0.020526\n",
       "Conscientiousness         -0.071936\n",
       "Emotional_stability       -0.215798\n",
       "Openness_to_experience    -0.029077"
      ]
     },
     "execution_count": 108,
     "metadata": {},
     "output_type": "execute_result"
    }
   ],
   "source": [
    "coeff_df = pd.DataFrame(lin_reg.coef_, X_train.columns, columns=['Coefficient'])  \n",
    "coeff_df"
   ]
  },
  {
   "cell_type": "code",
   "execution_count": 109,
   "metadata": {},
   "outputs": [
    {
     "data": {
      "text/html": [
       "<div>\n",
       "<style scoped>\n",
       "    .dataframe tbody tr th:only-of-type {\n",
       "        vertical-align: middle;\n",
       "    }\n",
       "\n",
       "    .dataframe tbody tr th {\n",
       "        vertical-align: top;\n",
       "    }\n",
       "\n",
       "    .dataframe thead th {\n",
       "        text-align: right;\n",
       "    }\n",
       "</style>\n",
       "<table border=\"1\" class=\"dataframe\">\n",
       "  <thead>\n",
       "    <tr style=\"text-align: right;\">\n",
       "      <th></th>\n",
       "      <th>Actual</th>\n",
       "      <th>Predicted</th>\n",
       "    </tr>\n",
       "  </thead>\n",
       "  <tbody>\n",
       "    <tr>\n",
       "      <th>12786</th>\n",
       "      <td>3</td>\n",
       "      <td>3.559193</td>\n",
       "    </tr>\n",
       "    <tr>\n",
       "      <th>13973</th>\n",
       "      <td>3</td>\n",
       "      <td>4.004287</td>\n",
       "    </tr>\n",
       "    <tr>\n",
       "      <th>12728</th>\n",
       "      <td>5</td>\n",
       "      <td>4.004195</td>\n",
       "    </tr>\n",
       "    <tr>\n",
       "      <th>17941</th>\n",
       "      <td>5</td>\n",
       "      <td>3.318005</td>\n",
       "    </tr>\n",
       "    <tr>\n",
       "      <th>11736</th>\n",
       "      <td>3</td>\n",
       "      <td>3.047452</td>\n",
       "    </tr>\n",
       "  </tbody>\n",
       "</table>\n",
       "</div>"
      ],
      "text/plain": [
       "       Actual  Predicted\n",
       "12786       3   3.559193\n",
       "13973       3   4.004287\n",
       "12728       5   4.004195\n",
       "17941       5   3.318005\n",
       "11736       3   3.047452"
      ]
     },
     "execution_count": 109,
     "metadata": {},
     "output_type": "execute_result"
    }
   ],
   "source": [
    "def1 = pd.DataFrame({'Actual': y_test, 'Predicted': y_pred})\n",
    "def1.head()"
   ]
  },
  {
   "cell_type": "code",
   "execution_count": 110,
   "metadata": {},
   "outputs": [
    {
     "data": {
      "text/plain": [
       "<matplotlib.axes._subplots.AxesSubplot at 0x1a1f9d6ef0>"
      ]
     },
     "execution_count": 110,
     "metadata": {},
     "output_type": "execute_result"
    },
    {
     "data": {
      "image/png": "[encoded data removed]",
      "text/plain": [
       "<Figure size 1152x864 with 1 Axes>"
      ]
     },
     "metadata": {
      "needs_background": "light"
     },
     "output_type": "display_data"
    }
   ],
   "source": [
    "def11 = def1.head(50)\n",
    "def11.plot(kind='bar',figsize=(16,12))"
   ]
  },
  {
   "cell_type": "code",
   "execution_count": 225,
   "metadata": {},
   "outputs": [],
   "source": [
    "rf = RandomForestRegressor()"
   ]
  },
  {
   "cell_type": "code",
   "execution_count": 226,
   "metadata": {},
   "outputs": [
    {
     "data": {
      "text/plain": [
       "RandomForestRegressor(bootstrap=True, ccp_alpha=0.0, criterion='mse',\n",
       "                      max_depth=None, max_features='auto', max_leaf_nodes=None,\n",
       "                      max_samples=None, min_impurity_decrease=0.0,\n",
       "                      min_impurity_split=None, min_samples_leaf=1,\n",
       "                      min_samples_split=2, min_weight_fraction_leaf=0.0,\n",
       "                      n_estimators=100, n_jobs=None, oob_score=False,\n",
       "                      random_state=None, verbose=0, warm_start=False)"
      ]
     },
     "execution_count": 226,
     "metadata": {},
     "output_type": "execute_result"
    }
   ],
   "source": [
    "rf.fit(X_train,y_train)"
   ]
  },
  {
   "cell_type": "code",
   "execution_count": 227,
   "metadata": {},
   "outputs": [],
   "source": [
    "y_pred2 = rf.predict(X_test)"
   ]
  },
  {
   "cell_type": "code",
   "execution_count": 228,
   "metadata": {},
   "outputs": [
    {
     "data": {
      "text/plain": [
       "1.9534135938744925"
      ]
     },
     "execution_count": 228,
     "metadata": {},
     "output_type": "execute_result"
    }
   ],
   "source": [
    "mean_squared_error(y_pred2,y_test)"
   ]
  },
  {
   "cell_type": "code",
   "execution_count": 229,
   "metadata": {},
   "outputs": [
    {
     "name": "stdout",
     "output_type": "stream",
     "text": [
      "Variable: Emotional_stability  Importance: 0.31\n",
      "Variable: Agreeableness        Importance: 0.18\n",
      "Variable: Openness_to_experience Importance: 0.18\n",
      "Variable: Conscientiousness    Importance: 0.17\n",
      "Variable: Extroversion         Importance: 0.16\n"
     ]
    }
   ],
   "source": [
    "# Get numerical feature importances\n",
    "importances = list(rf.feature_importances_)\n",
    "\n",
    "# List of tuples with variable and importance\n",
    "feature_list = list(X_train.columns)\n",
    "feature_importances = [(feature, round(importance, 2)) for feature, importance in zip(feature_list, importances)]\n",
    "\n",
    "# Sort the feature importances by most important first\n",
    "feature_importances = sorted(feature_importances, key = lambda x: x[1], reverse = True)\n",
    "\n",
    "# Print out the feature and importances \n",
    "[print('Variable: {:20} Importance: {}'.format(*pair)) for pair in feature_importances];"
   ]
  },
  {
   "cell_type": "markdown",
   "metadata": {},
   "source": [
    "#### Anxiety"
   ]
  },
  {
   "cell_type": "code",
   "execution_count": 230,
   "metadata": {},
   "outputs": [],
   "source": [
    "X_train,X_test,y_train,y_test = train_test_split(df_p[['Extroversion', 'Agreeableness', 'Conscientiousness',\n",
    "                                                       'Emotional_stability', 'Openness_to_experience']],\n",
    "                                                df_p['anxiety_category'],\n",
    "                                                test_size = 0.3)"
   ]
  },
  {
   "cell_type": "code",
   "execution_count": 118,
   "metadata": {},
   "outputs": [],
   "source": [
    "lin_reg = LinearRegression()"
   ]
  },
  {
   "cell_type": "code",
   "execution_count": 119,
   "metadata": {},
   "outputs": [
    {
     "data": {
      "text/plain": [
       "LinearRegression(copy_X=True, fit_intercept=True, n_jobs=None, normalize=False)"
      ]
     },
     "execution_count": 119,
     "metadata": {},
     "output_type": "execute_result"
    }
   ],
   "source": [
    "lin_reg.fit(X_train,y_train)"
   ]
  },
  {
   "cell_type": "code",
   "execution_count": 120,
   "metadata": {},
   "outputs": [],
   "source": [
    "y_pred = lin_reg.predict(X_test)"
   ]
  },
  {
   "cell_type": "code",
   "execution_count": 121,
   "metadata": {},
   "outputs": [
    {
     "data": {
      "text/plain": [
       "1.755768250040531"
      ]
     },
     "execution_count": 121,
     "metadata": {},
     "output_type": "execute_result"
    }
   ],
   "source": [
    "mean_squared_error(y_test,y_pred)"
   ]
  },
  {
   "cell_type": "code",
   "execution_count": 122,
   "metadata": {},
   "outputs": [
    {
     "data": {
      "text/plain": [
       "0.3052424732706661"
      ]
     },
     "execution_count": 122,
     "metadata": {},
     "output_type": "execute_result"
    }
   ],
   "source": [
    "r2_score(y_test,y_pred)"
   ]
  },
  {
   "cell_type": "code",
   "execution_count": 123,
   "metadata": {},
   "outputs": [
    {
     "data": {
      "text/html": [
       "<div>\n",
       "<style scoped>\n",
       "    .dataframe tbody tr th:only-of-type {\n",
       "        vertical-align: middle;\n",
       "    }\n",
       "\n",
       "    .dataframe tbody tr th {\n",
       "        vertical-align: top;\n",
       "    }\n",
       "\n",
       "    .dataframe thead th {\n",
       "        text-align: right;\n",
       "    }\n",
       "</style>\n",
       "<table border=\"1\" class=\"dataframe\">\n",
       "  <thead>\n",
       "    <tr style=\"text-align: right;\">\n",
       "      <th></th>\n",
       "      <th>Coefficient</th>\n",
       "    </tr>\n",
       "  </thead>\n",
       "  <tbody>\n",
       "    <tr>\n",
       "      <th>Extroversion</th>\n",
       "      <td>-0.025410</td>\n",
       "    </tr>\n",
       "    <tr>\n",
       "      <th>Agreeableness</th>\n",
       "      <td>0.012928</td>\n",
       "    </tr>\n",
       "    <tr>\n",
       "      <th>Conscientiousness</th>\n",
       "      <td>-0.036400</td>\n",
       "    </tr>\n",
       "    <tr>\n",
       "      <th>Emotional_stability</th>\n",
       "      <td>-0.261172</td>\n",
       "    </tr>\n",
       "    <tr>\n",
       "      <th>Openness_to_experience</th>\n",
       "      <td>-0.030083</td>\n",
       "    </tr>\n",
       "  </tbody>\n",
       "</table>\n",
       "</div>"
      ],
      "text/plain": [
       "                        Coefficient\n",
       "Extroversion              -0.025410\n",
       "Agreeableness              0.012928\n",
       "Conscientiousness         -0.036400\n",
       "Emotional_stability       -0.261172\n",
       "Openness_to_experience    -0.030083"
      ]
     },
     "execution_count": 123,
     "metadata": {},
     "output_type": "execute_result"
    }
   ],
   "source": [
    "coeff_df = pd.DataFrame(lin_reg.coef_, X_train.columns, columns=['Coefficient'])  \n",
    "coeff_df"
   ]
  },
  {
   "cell_type": "code",
   "execution_count": 124,
   "metadata": {},
   "outputs": [
    {
     "data": {
      "text/html": [
       "<div>\n",
       "<style scoped>\n",
       "    .dataframe tbody tr th:only-of-type {\n",
       "        vertical-align: middle;\n",
       "    }\n",
       "\n",
       "    .dataframe tbody tr th {\n",
       "        vertical-align: top;\n",
       "    }\n",
       "\n",
       "    .dataframe thead th {\n",
       "        text-align: right;\n",
       "    }\n",
       "</style>\n",
       "<table border=\"1\" class=\"dataframe\">\n",
       "  <thead>\n",
       "    <tr style=\"text-align: right;\">\n",
       "      <th></th>\n",
       "      <th>Actual</th>\n",
       "      <th>Predicted</th>\n",
       "    </tr>\n",
       "  </thead>\n",
       "  <tbody>\n",
       "    <tr>\n",
       "      <th>32426</th>\n",
       "      <td>5</td>\n",
       "      <td>3.367957</td>\n",
       "    </tr>\n",
       "    <tr>\n",
       "      <th>31646</th>\n",
       "      <td>5</td>\n",
       "      <td>3.786571</td>\n",
       "    </tr>\n",
       "    <tr>\n",
       "      <th>15015</th>\n",
       "      <td>3</td>\n",
       "      <td>3.291322</td>\n",
       "    </tr>\n",
       "    <tr>\n",
       "      <th>24346</th>\n",
       "      <td>3</td>\n",
       "      <td>3.757475</td>\n",
       "    </tr>\n",
       "    <tr>\n",
       "      <th>37712</th>\n",
       "      <td>1</td>\n",
       "      <td>3.339517</td>\n",
       "    </tr>\n",
       "  </tbody>\n",
       "</table>\n",
       "</div>"
      ],
      "text/plain": [
       "       Actual  Predicted\n",
       "32426       5   3.367957\n",
       "31646       5   3.786571\n",
       "15015       3   3.291322\n",
       "24346       3   3.757475\n",
       "37712       1   3.339517"
      ]
     },
     "execution_count": 124,
     "metadata": {},
     "output_type": "execute_result"
    }
   ],
   "source": [
    "def1 = pd.DataFrame({'Actual': y_test, 'Predicted': y_pred})\n",
    "def1.head()"
   ]
  },
  {
   "cell_type": "code",
   "execution_count": 125,
   "metadata": {},
   "outputs": [
    {
     "data": {
      "text/plain": [
       "<matplotlib.axes._subplots.AxesSubplot at 0x1a1fa1fa58>"
      ]
     },
     "execution_count": 125,
     "metadata": {},
     "output_type": "execute_result"
    },
    {
     "data": {
      "image/png": "[encoded data removed]",
      "text/plain": [
       "<Figure size 1152x864 with 1 Axes>"
      ]
     },
     "metadata": {
      "needs_background": "light"
     },
     "output_type": "display_data"
    }
   ],
   "source": [
    "def11 = def1.head(50)\n",
    "def11.plot(kind='bar',figsize=(16,12))"
   ]
  },
  {
   "cell_type": "code",
   "execution_count": 231,
   "metadata": {},
   "outputs": [],
   "source": [
    "rf = RandomForestRegressor()"
   ]
  },
  {
   "cell_type": "code",
   "execution_count": 232,
   "metadata": {},
   "outputs": [
    {
     "data": {
      "text/plain": [
       "RandomForestRegressor(bootstrap=True, ccp_alpha=0.0, criterion='mse',\n",
       "                      max_depth=None, max_features='auto', max_leaf_nodes=None,\n",
       "                      max_samples=None, min_impurity_decrease=0.0,\n",
       "                      min_impurity_split=None, min_samples_leaf=1,\n",
       "                      min_samples_split=2, min_weight_fraction_leaf=0.0,\n",
       "                      n_estimators=100, n_jobs=None, oob_score=False,\n",
       "                      random_state=None, verbose=0, warm_start=False)"
      ]
     },
     "execution_count": 232,
     "metadata": {},
     "output_type": "execute_result"
    }
   ],
   "source": [
    "rf.fit(X_train,y_train)"
   ]
  },
  {
   "cell_type": "code",
   "execution_count": 233,
   "metadata": {},
   "outputs": [],
   "source": [
    "y_pred2 = rf.predict(X_test)"
   ]
  },
  {
   "cell_type": "code",
   "execution_count": 234,
   "metadata": {},
   "outputs": [
    {
     "data": {
      "text/plain": [
       "2.124388759724034"
      ]
     },
     "execution_count": 234,
     "metadata": {},
     "output_type": "execute_result"
    }
   ],
   "source": [
    "mean_squared_error(y_test,y_pred2)"
   ]
  },
  {
   "cell_type": "code",
   "execution_count": 235,
   "metadata": {},
   "outputs": [
    {
     "data": {
      "text/plain": [
       "0.17072921887772852"
      ]
     },
     "execution_count": 235,
     "metadata": {},
     "output_type": "execute_result"
    }
   ],
   "source": [
    "r2_score(y_test,y_pred2)"
   ]
  },
  {
   "cell_type": "code",
   "execution_count": 236,
   "metadata": {},
   "outputs": [
    {
     "name": "stdout",
     "output_type": "stream",
     "text": [
      "Variable: Emotional_stability  Importance: 0.32\n",
      "Variable: Extroversion         Importance: 0.17\n",
      "Variable: Agreeableness        Importance: 0.17\n",
      "Variable: Openness_to_experience Importance: 0.17\n",
      "Variable: Conscientiousness    Importance: 0.16\n"
     ]
    }
   ],
   "source": [
    "# Get numerical feature importances\n",
    "importances = list(rf.feature_importances_)\n",
    "\n",
    "# List of tuples with variable and importance\n",
    "feature_list = list(X_train.columns)\n",
    "feature_importances = [(feature, round(importance, 2)) for feature, importance in zip(feature_list, importances)]\n",
    "\n",
    "# Sort the feature importances by most important first\n",
    "feature_importances = sorted(feature_importances, key = lambda x: x[1], reverse = True)\n",
    "\n",
    "# Print out the feature and importances \n",
    "[print('Variable: {:20} Importance: {}'.format(*pair)) for pair in feature_importances];"
   ]
  },
  {
   "cell_type": "markdown",
   "metadata": {},
   "source": [
    "#### Stress"
   ]
  },
  {
   "cell_type": "code",
   "execution_count": 237,
   "metadata": {},
   "outputs": [],
   "source": [
    "X_train,X_test,y_train,y_test = train_test_split(df_p[['Extroversion', 'Agreeableness', 'Conscientiousness',\n",
    "                                                       'Emotional_stability', 'Openness_to_experience']],\n",
    "                                                df_p['stress_category'],\n",
    "                                                test_size = 0.3)"
   ]
  },
  {
   "cell_type": "code",
   "execution_count": 133,
   "metadata": {},
   "outputs": [],
   "source": [
    "lin_reg = LinearRegression()"
   ]
  },
  {
   "cell_type": "code",
   "execution_count": 134,
   "metadata": {},
   "outputs": [
    {
     "data": {
      "text/plain": [
       "LinearRegression(copy_X=True, fit_intercept=True, n_jobs=None, normalize=False)"
      ]
     },
     "execution_count": 134,
     "metadata": {},
     "output_type": "execute_result"
    }
   ],
   "source": [
    "lin_reg.fit(X_train,y_train)"
   ]
  },
  {
   "cell_type": "code",
   "execution_count": 135,
   "metadata": {},
   "outputs": [],
   "source": [
    "y_pred = lin_reg.predict(X_test)"
   ]
  },
  {
   "cell_type": "code",
   "execution_count": 136,
   "metadata": {},
   "outputs": [
    {
     "data": {
      "text/plain": [
       "1.2186192706506591"
      ]
     },
     "execution_count": 136,
     "metadata": {},
     "output_type": "execute_result"
    }
   ],
   "source": [
    "mean_squared_error(y_test,y_pred)"
   ]
  },
  {
   "cell_type": "code",
   "execution_count": 137,
   "metadata": {},
   "outputs": [
    {
     "data": {
      "text/plain": [
       "0.39308279975658134"
      ]
     },
     "execution_count": 137,
     "metadata": {},
     "output_type": "execute_result"
    }
   ],
   "source": [
    "r2_score(y_test,y_pred)"
   ]
  },
  {
   "cell_type": "code",
   "execution_count": 138,
   "metadata": {},
   "outputs": [
    {
     "data": {
      "text/html": [
       "<div>\n",
       "<style scoped>\n",
       "    .dataframe tbody tr th:only-of-type {\n",
       "        vertical-align: middle;\n",
       "    }\n",
       "\n",
       "    .dataframe tbody tr th {\n",
       "        vertical-align: top;\n",
       "    }\n",
       "\n",
       "    .dataframe thead th {\n",
       "        text-align: right;\n",
       "    }\n",
       "</style>\n",
       "<table border=\"1\" class=\"dataframe\">\n",
       "  <thead>\n",
       "    <tr style=\"text-align: right;\">\n",
       "      <th></th>\n",
       "      <th>Coefficient</th>\n",
       "    </tr>\n",
       "  </thead>\n",
       "  <tbody>\n",
       "    <tr>\n",
       "      <th>Extroversion</th>\n",
       "      <td>-0.017950</td>\n",
       "    </tr>\n",
       "    <tr>\n",
       "      <th>Agreeableness</th>\n",
       "      <td>-0.034603</td>\n",
       "    </tr>\n",
       "    <tr>\n",
       "      <th>Conscientiousness</th>\n",
       "      <td>-0.016205</td>\n",
       "    </tr>\n",
       "    <tr>\n",
       "      <th>Emotional_stability</th>\n",
       "      <td>-0.268807</td>\n",
       "    </tr>\n",
       "    <tr>\n",
       "      <th>Openness_to_experience</th>\n",
       "      <td>-0.015316</td>\n",
       "    </tr>\n",
       "  </tbody>\n",
       "</table>\n",
       "</div>"
      ],
      "text/plain": [
       "                        Coefficient\n",
       "Extroversion              -0.017950\n",
       "Agreeableness             -0.034603\n",
       "Conscientiousness         -0.016205\n",
       "Emotional_stability       -0.268807\n",
       "Openness_to_experience    -0.015316"
      ]
     },
     "execution_count": 138,
     "metadata": {},
     "output_type": "execute_result"
    }
   ],
   "source": [
    "coeff_df = pd.DataFrame(lin_reg.coef_, X_train.columns, columns=['Coefficient'])  \n",
    "coeff_df"
   ]
  },
  {
   "cell_type": "code",
   "execution_count": 139,
   "metadata": {},
   "outputs": [
    {
     "data": {
      "text/html": [
       "<div>\n",
       "<style scoped>\n",
       "    .dataframe tbody tr th:only-of-type {\n",
       "        vertical-align: middle;\n",
       "    }\n",
       "\n",
       "    .dataframe tbody tr th {\n",
       "        vertical-align: top;\n",
       "    }\n",
       "\n",
       "    .dataframe thead th {\n",
       "        text-align: right;\n",
       "    }\n",
       "</style>\n",
       "<table border=\"1\" class=\"dataframe\">\n",
       "  <thead>\n",
       "    <tr style=\"text-align: right;\">\n",
       "      <th></th>\n",
       "      <th>Actual</th>\n",
       "      <th>Predicted</th>\n",
       "    </tr>\n",
       "  </thead>\n",
       "  <tbody>\n",
       "    <tr>\n",
       "      <th>14715</th>\n",
       "      <td>4</td>\n",
       "      <td>3.710594</td>\n",
       "    </tr>\n",
       "    <tr>\n",
       "      <th>34131</th>\n",
       "      <td>1</td>\n",
       "      <td>2.915967</td>\n",
       "    </tr>\n",
       "    <tr>\n",
       "      <th>24282</th>\n",
       "      <td>1</td>\n",
       "      <td>1.946635</td>\n",
       "    </tr>\n",
       "    <tr>\n",
       "      <th>36152</th>\n",
       "      <td>2</td>\n",
       "      <td>2.574078</td>\n",
       "    </tr>\n",
       "    <tr>\n",
       "      <th>34612</th>\n",
       "      <td>5</td>\n",
       "      <td>2.932653</td>\n",
       "    </tr>\n",
       "  </tbody>\n",
       "</table>\n",
       "</div>"
      ],
      "text/plain": [
       "       Actual  Predicted\n",
       "14715       4   3.710594\n",
       "34131       1   2.915967\n",
       "24282       1   1.946635\n",
       "36152       2   2.574078\n",
       "34612       5   2.932653"
      ]
     },
     "execution_count": 139,
     "metadata": {},
     "output_type": "execute_result"
    }
   ],
   "source": [
    "def1 = pd.DataFrame({'Actual': y_test, 'Predicted': y_pred})\n",
    "def1.head()"
   ]
  },
  {
   "cell_type": "code",
   "execution_count": 140,
   "metadata": {},
   "outputs": [
    {
     "data": {
      "text/plain": [
       "<matplotlib.axes._subplots.AxesSubplot at 0x1a211330f0>"
      ]
     },
     "execution_count": 140,
     "metadata": {},
     "output_type": "execute_result"
    },
    {
     "data": {
      "image/png": "[encoded data removed]",
      "text/plain": [
       "<Figure size 1152x864 with 1 Axes>"
      ]
     },
     "metadata": {
      "needs_background": "light"
     },
     "output_type": "display_data"
    }
   ],
   "source": [
    "def11 = def1.head(50)\n",
    "def11.plot(kind='bar',figsize=(16,12))"
   ]
  },
  {
   "cell_type": "code",
   "execution_count": 238,
   "metadata": {},
   "outputs": [],
   "source": [
    "rf = RandomForestRegressor()"
   ]
  },
  {
   "cell_type": "code",
   "execution_count": 239,
   "metadata": {},
   "outputs": [
    {
     "data": {
      "text/plain": [
       "RandomForestRegressor(bootstrap=True, ccp_alpha=0.0, criterion='mse',\n",
       "                      max_depth=None, max_features='auto', max_leaf_nodes=None,\n",
       "                      max_samples=None, min_impurity_decrease=0.0,\n",
       "                      min_impurity_split=None, min_samples_leaf=1,\n",
       "                      min_samples_split=2, min_weight_fraction_leaf=0.0,\n",
       "                      n_estimators=100, n_jobs=None, oob_score=False,\n",
       "                      random_state=None, verbose=0, warm_start=False)"
      ]
     },
     "execution_count": 239,
     "metadata": {},
     "output_type": "execute_result"
    }
   ],
   "source": [
    "rf.fit(X_train,y_train)"
   ]
  },
  {
   "cell_type": "code",
   "execution_count": 240,
   "metadata": {},
   "outputs": [],
   "source": [
    "y_pred2 = rf.predict(X_test)"
   ]
  },
  {
   "cell_type": "code",
   "execution_count": 241,
   "metadata": {},
   "outputs": [
    {
     "data": {
      "text/plain": [
       "1.4245781002614604"
      ]
     },
     "execution_count": 241,
     "metadata": {},
     "output_type": "execute_result"
    }
   ],
   "source": [
    "mean_squared_error(y_test,y_pred2)"
   ]
  },
  {
   "cell_type": "code",
   "execution_count": 242,
   "metadata": {},
   "outputs": [
    {
     "data": {
      "text/plain": [
       "0.2844286967838884"
      ]
     },
     "execution_count": 242,
     "metadata": {},
     "output_type": "execute_result"
    }
   ],
   "source": [
    "r2_score(y_test,y_pred2)"
   ]
  },
  {
   "cell_type": "code",
   "execution_count": 243,
   "metadata": {},
   "outputs": [
    {
     "name": "stdout",
     "output_type": "stream",
     "text": [
      "Variable: Emotional_stability  Importance: 0.42\n",
      "Variable: Extroversion         Importance: 0.15\n",
      "Variable: Conscientiousness    Importance: 0.15\n",
      "Variable: Openness_to_experience Importance: 0.15\n",
      "Variable: Agreeableness        Importance: 0.14\n"
     ]
    }
   ],
   "source": [
    "# Get numerical feature importances\n",
    "importances = list(rf.feature_importances_)\n",
    "\n",
    "# List of tuples with variable and importance\n",
    "feature_list = list(X_train.columns)\n",
    "feature_importances = [(feature, round(importance, 2)) for feature, importance in zip(feature_list, importances)]\n",
    "\n",
    "# Sort the feature importances by most important first\n",
    "feature_importances = sorted(feature_importances, key = lambda x: x[1], reverse = True)\n",
    "\n",
    "# Print out the feature and importances \n",
    "[print('Variable: {:20} Importance: {}'.format(*pair)) for pair in feature_importances];"
   ]
  },
  {
   "cell_type": "markdown",
   "metadata": {},
   "source": [
    "### (ii) Orientation + everything"
   ]
  },
  {
   "cell_type": "code",
   "execution_count": 147,
   "metadata": {},
   "outputs": [],
   "source": [
    "df_o = df.copy()"
   ]
  },
  {
   "cell_type": "code",
   "execution_count": 148,
   "metadata": {},
   "outputs": [
    {
     "data": {
      "text/html": [
       "<div>\n",
       "<style scoped>\n",
       "    .dataframe tbody tr th:only-of-type {\n",
       "        vertical-align: middle;\n",
       "    }\n",
       "\n",
       "    .dataframe tbody tr th {\n",
       "        vertical-align: top;\n",
       "    }\n",
       "\n",
       "    .dataframe thead th {\n",
       "        text-align: right;\n",
       "    }\n",
       "</style>\n",
       "<table border=\"1\" class=\"dataframe\">\n",
       "  <thead>\n",
       "    <tr style=\"text-align: right;\">\n",
       "      <th></th>\n",
       "      <th>education</th>\n",
       "      <th>urban</th>\n",
       "      <th>age</th>\n",
       "      <th>religion</th>\n",
       "      <th>race</th>\n",
       "      <th>married</th>\n",
       "      <th>familysize</th>\n",
       "      <th>stress_score</th>\n",
       "      <th>anxiety_score</th>\n",
       "      <th>depression_score</th>\n",
       "      <th>...</th>\n",
       "      <th>Agreeableness</th>\n",
       "      <th>Conscientiousness</th>\n",
       "      <th>Emotional_stability</th>\n",
       "      <th>Openness_to_experience</th>\n",
       "      <th>education_yrs</th>\n",
       "      <th>heterosexual</th>\n",
       "      <th>LGBTQ</th>\n",
       "      <th>age_norm</th>\n",
       "      <th>Male</th>\n",
       "      <th>Female</th>\n",
       "    </tr>\n",
       "  </thead>\n",
       "  <tbody>\n",
       "    <tr>\n",
       "      <th>0</th>\n",
       "      <td>2</td>\n",
       "      <td>3</td>\n",
       "      <td>16</td>\n",
       "      <td>12</td>\n",
       "      <td>10</td>\n",
       "      <td>1</td>\n",
       "      <td>2</td>\n",
       "      <td>40</td>\n",
       "      <td>34</td>\n",
       "      <td>27</td>\n",
       "      <td>...</td>\n",
       "      <td>9</td>\n",
       "      <td>9</td>\n",
       "      <td>1</td>\n",
       "      <td>13</td>\n",
       "      <td>12</td>\n",
       "      <td>1</td>\n",
       "      <td>0</td>\n",
       "      <td>-0.889716</td>\n",
       "      <td>0</td>\n",
       "      <td>1</td>\n",
       "    </tr>\n",
       "    <tr>\n",
       "      <th>2</th>\n",
       "      <td>2</td>\n",
       "      <td>3</td>\n",
       "      <td>17</td>\n",
       "      <td>4</td>\n",
       "      <td>60</td>\n",
       "      <td>1</td>\n",
       "      <td>3</td>\n",
       "      <td>17</td>\n",
       "      <td>12</td>\n",
       "      <td>39</td>\n",
       "      <td>...</td>\n",
       "      <td>7</td>\n",
       "      <td>4</td>\n",
       "      <td>8</td>\n",
       "      <td>10</td>\n",
       "      <td>12</td>\n",
       "      <td>0</td>\n",
       "      <td>1</td>\n",
       "      <td>-0.775867</td>\n",
       "      <td>0</td>\n",
       "      <td>1</td>\n",
       "    </tr>\n",
       "    <tr>\n",
       "      <th>4</th>\n",
       "      <td>3</td>\n",
       "      <td>2</td>\n",
       "      <td>19</td>\n",
       "      <td>10</td>\n",
       "      <td>10</td>\n",
       "      <td>1</td>\n",
       "      <td>4</td>\n",
       "      <td>29</td>\n",
       "      <td>40</td>\n",
       "      <td>32</td>\n",
       "      <td>...</td>\n",
       "      <td>7</td>\n",
       "      <td>4</td>\n",
       "      <td>4</td>\n",
       "      <td>9</td>\n",
       "      <td>16</td>\n",
       "      <td>1</td>\n",
       "      <td>0</td>\n",
       "      <td>-0.548170</td>\n",
       "      <td>0</td>\n",
       "      <td>1</td>\n",
       "    </tr>\n",
       "    <tr>\n",
       "      <th>6</th>\n",
       "      <td>2</td>\n",
       "      <td>3</td>\n",
       "      <td>17</td>\n",
       "      <td>4</td>\n",
       "      <td>60</td>\n",
       "      <td>1</td>\n",
       "      <td>4</td>\n",
       "      <td>14</td>\n",
       "      <td>19</td>\n",
       "      <td>31</td>\n",
       "      <td>...</td>\n",
       "      <td>8</td>\n",
       "      <td>10</td>\n",
       "      <td>7</td>\n",
       "      <td>5</td>\n",
       "      <td>12</td>\n",
       "      <td>0</td>\n",
       "      <td>1</td>\n",
       "      <td>-0.775867</td>\n",
       "      <td>0</td>\n",
       "      <td>1</td>\n",
       "    </tr>\n",
       "    <tr>\n",
       "      <th>9</th>\n",
       "      <td>1</td>\n",
       "      <td>1</td>\n",
       "      <td>18</td>\n",
       "      <td>2</td>\n",
       "      <td>60</td>\n",
       "      <td>1</td>\n",
       "      <td>3</td>\n",
       "      <td>34</td>\n",
       "      <td>28</td>\n",
       "      <td>42</td>\n",
       "      <td>...</td>\n",
       "      <td>1</td>\n",
       "      <td>10</td>\n",
       "      <td>1</td>\n",
       "      <td>5</td>\n",
       "      <td>8</td>\n",
       "      <td>0</td>\n",
       "      <td>1</td>\n",
       "      <td>-0.662019</td>\n",
       "      <td>0</td>\n",
       "      <td>1</td>\n",
       "    </tr>\n",
       "  </tbody>\n",
       "</table>\n",
       "<p>5 rows × 24 columns</p>\n",
       "</div>"
      ],
      "text/plain": [
       "   education  urban  age  religion  race  married  familysize  stress_score  \\\n",
       "0          2      3   16        12    10        1           2            40   \n",
       "2          2      3   17         4    60        1           3            17   \n",
       "4          3      2   19        10    10        1           4            29   \n",
       "6          2      3   17         4    60        1           4            14   \n",
       "9          1      1   18         2    60        1           3            34   \n",
       "\n",
       "   anxiety_score  depression_score  ...  Agreeableness  Conscientiousness  \\\n",
       "0             34                27  ...              9                  9   \n",
       "2             12                39  ...              7                  4   \n",
       "4             40                32  ...              7                  4   \n",
       "6             19                31  ...              8                 10   \n",
       "9             28                42  ...              1                 10   \n",
       "\n",
       "   Emotional_stability  Openness_to_experience  education_yrs  heterosexual  \\\n",
       "0                    1                      13             12             1   \n",
       "2                    8                      10             12             0   \n",
       "4                    4                       9             16             1   \n",
       "6                    7                       5             12             0   \n",
       "9                    1                       5              8             0   \n",
       "\n",
       "   LGBTQ  age_norm  Male  Female  \n",
       "0      0 -0.889716     0       1  \n",
       "2      1 -0.775867     0       1  \n",
       "4      0 -0.548170     0       1  \n",
       "6      1 -0.775867     0       1  \n",
       "9      1 -0.662019     0       1  \n",
       "\n",
       "[5 rows x 24 columns]"
      ]
     },
     "execution_count": 148,
     "metadata": {},
     "output_type": "execute_result"
    }
   ],
   "source": [
    "df_o.head()"
   ]
  },
  {
   "cell_type": "code",
   "execution_count": 244,
   "metadata": {},
   "outputs": [],
   "source": [
    "X_train,X_test,y_train,y_split = train_test_split(df_o[['age_norm',\n",
    "                                                   'familysize','Extroversion', 'Agreeableness', 'Conscientiousness',\n",
    "                                                   'Emotional_stability', 'Openness_to_experience', 'education_yrs',\n",
    "                                                   'heterosexual', 'LGBTQ', 'Male', 'Female']],\n",
    "                                                 df_o['depression_category'],\n",
    "                                                 test_size=0.3)"
   ]
  },
  {
   "cell_type": "code",
   "execution_count": 150,
   "metadata": {},
   "outputs": [],
   "source": [
    "lin_reg = LinearRegression()"
   ]
  },
  {
   "cell_type": "code",
   "execution_count": 151,
   "metadata": {},
   "outputs": [
    {
     "data": {
      "text/plain": [
       "LinearRegression(copy_X=True, fit_intercept=True, n_jobs=None, normalize=False)"
      ]
     },
     "execution_count": 151,
     "metadata": {},
     "output_type": "execute_result"
    }
   ],
   "source": [
    "lin_reg.fit(X_train,y_train)"
   ]
  },
  {
   "cell_type": "code",
   "execution_count": 152,
   "metadata": {},
   "outputs": [],
   "source": [
    "y_pred = lin_reg.predict(X_test)"
   ]
  },
  {
   "cell_type": "code",
   "execution_count": 153,
   "metadata": {},
   "outputs": [
    {
     "data": {
      "text/plain": [
       "3.1259299063541914"
      ]
     },
     "execution_count": 153,
     "metadata": {},
     "output_type": "execute_result"
    }
   ],
   "source": [
    "mean_squared_error(y_test,y_pred)"
   ]
  },
  {
   "cell_type": "code",
   "execution_count": 154,
   "metadata": {},
   "outputs": [
    {
     "data": {
      "text/plain": [
       "-0.5568280205422103"
      ]
     },
     "execution_count": 154,
     "metadata": {},
     "output_type": "execute_result"
    }
   ],
   "source": [
    "r2_score(y_test,y_pred)"
   ]
  },
  {
   "cell_type": "code",
   "execution_count": 155,
   "metadata": {},
   "outputs": [
    {
     "data": {
      "text/html": [
       "<div>\n",
       "<style scoped>\n",
       "    .dataframe tbody tr th:only-of-type {\n",
       "        vertical-align: middle;\n",
       "    }\n",
       "\n",
       "    .dataframe tbody tr th {\n",
       "        vertical-align: top;\n",
       "    }\n",
       "\n",
       "    .dataframe thead th {\n",
       "        text-align: right;\n",
       "    }\n",
       "</style>\n",
       "<table border=\"1\" class=\"dataframe\">\n",
       "  <thead>\n",
       "    <tr style=\"text-align: right;\">\n",
       "      <th></th>\n",
       "      <th>Coefficient</th>\n",
       "    </tr>\n",
       "  </thead>\n",
       "  <tbody>\n",
       "    <tr>\n",
       "      <th>age_norm</th>\n",
       "      <td>-0.002960</td>\n",
       "    </tr>\n",
       "    <tr>\n",
       "      <th>familysize</th>\n",
       "      <td>-0.007126</td>\n",
       "    </tr>\n",
       "    <tr>\n",
       "      <th>Extroversion</th>\n",
       "      <td>-0.083518</td>\n",
       "    </tr>\n",
       "    <tr>\n",
       "      <th>Agreeableness</th>\n",
       "      <td>-0.021713</td>\n",
       "    </tr>\n",
       "    <tr>\n",
       "      <th>Conscientiousness</th>\n",
       "      <td>-0.067461</td>\n",
       "    </tr>\n",
       "    <tr>\n",
       "      <th>Emotional_stability</th>\n",
       "      <td>-0.214415</td>\n",
       "    </tr>\n",
       "    <tr>\n",
       "      <th>Openness_to_experience</th>\n",
       "      <td>-0.030079</td>\n",
       "    </tr>\n",
       "    <tr>\n",
       "      <th>education_yrs</th>\n",
       "      <td>-0.010905</td>\n",
       "    </tr>\n",
       "    <tr>\n",
       "      <th>heterosexual</th>\n",
       "      <td>-0.082552</td>\n",
       "    </tr>\n",
       "    <tr>\n",
       "      <th>LGBTQ</th>\n",
       "      <td>0.082552</td>\n",
       "    </tr>\n",
       "    <tr>\n",
       "      <th>Male</th>\n",
       "      <td>0.037892</td>\n",
       "    </tr>\n",
       "    <tr>\n",
       "      <th>Female</th>\n",
       "      <td>-0.037892</td>\n",
       "    </tr>\n",
       "  </tbody>\n",
       "</table>\n",
       "</div>"
      ],
      "text/plain": [
       "                        Coefficient\n",
       "age_norm                  -0.002960\n",
       "familysize                -0.007126\n",
       "Extroversion              -0.083518\n",
       "Agreeableness             -0.021713\n",
       "Conscientiousness         -0.067461\n",
       "Emotional_stability       -0.214415\n",
       "Openness_to_experience    -0.030079\n",
       "education_yrs             -0.010905\n",
       "heterosexual              -0.082552\n",
       "LGBTQ                      0.082552\n",
       "Male                       0.037892\n",
       "Female                    -0.037892"
      ]
     },
     "execution_count": 155,
     "metadata": {},
     "output_type": "execute_result"
    }
   ],
   "source": [
    "coeff_df = pd.DataFrame(lin_reg.coef_, X_train.columns, columns=['Coefficient'])  \n",
    "coeff_df"
   ]
  },
  {
   "cell_type": "code",
   "execution_count": 156,
   "metadata": {},
   "outputs": [
    {
     "data": {
      "text/html": [
       "<div>\n",
       "<style scoped>\n",
       "    .dataframe tbody tr th:only-of-type {\n",
       "        vertical-align: middle;\n",
       "    }\n",
       "\n",
       "    .dataframe tbody tr th {\n",
       "        vertical-align: top;\n",
       "    }\n",
       "\n",
       "    .dataframe thead th {\n",
       "        text-align: right;\n",
       "    }\n",
       "</style>\n",
       "<table border=\"1\" class=\"dataframe\">\n",
       "  <thead>\n",
       "    <tr style=\"text-align: right;\">\n",
       "      <th></th>\n",
       "      <th>Actual</th>\n",
       "      <th>Predicted</th>\n",
       "    </tr>\n",
       "  </thead>\n",
       "  <tbody>\n",
       "    <tr>\n",
       "      <th>14715</th>\n",
       "      <td>4</td>\n",
       "      <td>4.227098</td>\n",
       "    </tr>\n",
       "    <tr>\n",
       "      <th>34131</th>\n",
       "      <td>1</td>\n",
       "      <td>2.463955</td>\n",
       "    </tr>\n",
       "    <tr>\n",
       "      <th>24282</th>\n",
       "      <td>1</td>\n",
       "      <td>0.976858</td>\n",
       "    </tr>\n",
       "    <tr>\n",
       "      <th>36152</th>\n",
       "      <td>2</td>\n",
       "      <td>2.450684</td>\n",
       "    </tr>\n",
       "    <tr>\n",
       "      <th>34612</th>\n",
       "      <td>5</td>\n",
       "      <td>4.060879</td>\n",
       "    </tr>\n",
       "  </tbody>\n",
       "</table>\n",
       "</div>"
      ],
      "text/plain": [
       "       Actual  Predicted\n",
       "14715       4   4.227098\n",
       "34131       1   2.463955\n",
       "24282       1   0.976858\n",
       "36152       2   2.450684\n",
       "34612       5   4.060879"
      ]
     },
     "execution_count": 156,
     "metadata": {},
     "output_type": "execute_result"
    }
   ],
   "source": [
    "def1 = pd.DataFrame({'Actual': y_test, 'Predicted': y_pred})\n",
    "def1.head()"
   ]
  },
  {
   "cell_type": "code",
   "execution_count": 157,
   "metadata": {},
   "outputs": [
    {
     "data": {
      "text/plain": [
       "<matplotlib.axes._subplots.AxesSubplot at 0x1a1f9a6748>"
      ]
     },
     "execution_count": 157,
     "metadata": {},
     "output_type": "execute_result"
    },
    {
     "data": {
      "image/png": "[encoded data removed]",
      "text/plain": [
       "<Figure size 1152x864 with 1 Axes>"
      ]
     },
     "metadata": {
      "needs_background": "light"
     },
     "output_type": "display_data"
    }
   ],
   "source": [
    "def11 = def1.head(50)\n",
    "def11.plot(kind='bar',figsize=(16,12))"
   ]
  },
  {
   "cell_type": "code",
   "execution_count": 245,
   "metadata": {},
   "outputs": [],
   "source": [
    "rf = RandomForestRegressor()"
   ]
  },
  {
   "cell_type": "code",
   "execution_count": 246,
   "metadata": {},
   "outputs": [
    {
     "data": {
      "text/plain": [
       "RandomForestRegressor(bootstrap=True, ccp_alpha=0.0, criterion='mse',\n",
       "                      max_depth=None, max_features='auto', max_leaf_nodes=None,\n",
       "                      max_samples=None, min_impurity_decrease=0.0,\n",
       "                      min_impurity_split=None, min_samples_leaf=1,\n",
       "                      min_samples_split=2, min_weight_fraction_leaf=0.0,\n",
       "                      n_estimators=100, n_jobs=None, oob_score=False,\n",
       "                      random_state=None, verbose=0, warm_start=False)"
      ]
     },
     "execution_count": 246,
     "metadata": {},
     "output_type": "execute_result"
    }
   ],
   "source": [
    "rf.fit(X_train,y_train)"
   ]
  },
  {
   "cell_type": "code",
   "execution_count": 247,
   "metadata": {},
   "outputs": [],
   "source": [
    "y_pred2 = rf.predict(X_test)"
   ]
  },
  {
   "cell_type": "code",
   "execution_count": 248,
   "metadata": {},
   "outputs": [
    {
     "data": {
      "text/plain": [
       "3.0472372205330513"
      ]
     },
     "execution_count": 248,
     "metadata": {},
     "output_type": "execute_result"
    }
   ],
   "source": [
    "mean_squared_error(y_pred2,y_test)"
   ]
  },
  {
   "cell_type": "code",
   "execution_count": 249,
   "metadata": {},
   "outputs": [
    {
     "data": {
      "text/plain": [
       "-2.7535770545993152"
      ]
     },
     "execution_count": 249,
     "metadata": {},
     "output_type": "execute_result"
    }
   ],
   "source": [
    "r2_score(y_pred2,y_test)"
   ]
  },
  {
   "cell_type": "code",
   "execution_count": 250,
   "metadata": {},
   "outputs": [
    {
     "name": "stdout",
     "output_type": "stream",
     "text": [
      "Variable: Emotional_stability  Importance: 0.29\n",
      "Variable: age_norm             Importance: 0.14\n",
      "Variable: Extroversion         Importance: 0.11\n",
      "Variable: Agreeableness        Importance: 0.1\n",
      "Variable: Conscientiousness    Importance: 0.1\n",
      "Variable: Openness_to_experience Importance: 0.1\n",
      "Variable: familysize           Importance: 0.08\n",
      "Variable: education_yrs        Importance: 0.04\n",
      "Variable: heterosexual         Importance: 0.01\n",
      "Variable: LGBTQ                Importance: 0.01\n",
      "Variable: Male                 Importance: 0.01\n",
      "Variable: Female               Importance: 0.01\n"
     ]
    }
   ],
   "source": [
    "# Get numerical feature importances\n",
    "importances = list(rf.feature_importances_)\n",
    "\n",
    "# List of tuples with variable and importance\n",
    "feature_list = list(X_train.columns)\n",
    "feature_importances = [(feature, round(importance, 2)) for feature, importance in zip(feature_list, importances)]\n",
    "\n",
    "# Sort the feature importances by most important first\n",
    "feature_importances = sorted(feature_importances, key = lambda x: x[1], reverse = True)\n",
    "\n",
    "# Print out the feature and importances \n",
    "[print('Variable: {:20} Importance: {}'.format(*pair)) for pair in feature_importances];"
   ]
  },
  {
   "cell_type": "markdown",
   "metadata": {},
   "source": [
    "### (iii) age, orientation, familysize, and gender"
   ]
  },
  {
   "cell_type": "code",
   "execution_count": 164,
   "metadata": {},
   "outputs": [],
   "source": [
    "df_aof = df.copy()"
   ]
  },
  {
   "cell_type": "code",
   "execution_count": 165,
   "metadata": {},
   "outputs": [],
   "source": [
    "X_train,X_test,y_train,y_test = train_test_split(df_aof[['age','LGBTQ','heterosexual','familysize','Male','Female']],\n",
    "                                                df_aof['depression_category'],\n",
    "                                                test_size=0.3)"
   ]
  },
  {
   "cell_type": "code",
   "execution_count": 166,
   "metadata": {},
   "outputs": [],
   "source": [
    "lin_reg = LinearRegression()"
   ]
  },
  {
   "cell_type": "code",
   "execution_count": 167,
   "metadata": {},
   "outputs": [
    {
     "data": {
      "text/plain": [
       "LinearRegression(copy_X=True, fit_intercept=True, n_jobs=None, normalize=False)"
      ]
     },
     "execution_count": 167,
     "metadata": {},
     "output_type": "execute_result"
    }
   ],
   "source": [
    "lin_reg.fit(X_train,y_train)"
   ]
  },
  {
   "cell_type": "code",
   "execution_count": 168,
   "metadata": {},
   "outputs": [],
   "source": [
    "y_pred = lin_reg.predict(X_test)"
   ]
  },
  {
   "cell_type": "code",
   "execution_count": 169,
   "metadata": {},
   "outputs": [
    {
     "data": {
      "text/plain": [
       "2.335943132795389"
      ]
     },
     "execution_count": 169,
     "metadata": {},
     "output_type": "execute_result"
    }
   ],
   "source": [
    "mean_squared_error(y_test,y_pred)"
   ]
  },
  {
   "cell_type": "code",
   "execution_count": 170,
   "metadata": {},
   "outputs": [
    {
     "data": {
      "text/plain": [
       "0.02128988624582384"
      ]
     },
     "execution_count": 170,
     "metadata": {},
     "output_type": "execute_result"
    }
   ],
   "source": [
    "r2_score(y_test,y_pred)"
   ]
  },
  {
   "cell_type": "code",
   "execution_count": 171,
   "metadata": {},
   "outputs": [
    {
     "data": {
      "text/html": [
       "<div>\n",
       "<style scoped>\n",
       "    .dataframe tbody tr th:only-of-type {\n",
       "        vertical-align: middle;\n",
       "    }\n",
       "\n",
       "    .dataframe tbody tr th {\n",
       "        vertical-align: top;\n",
       "    }\n",
       "\n",
       "    .dataframe thead th {\n",
       "        text-align: right;\n",
       "    }\n",
       "</style>\n",
       "<table border=\"1\" class=\"dataframe\">\n",
       "  <thead>\n",
       "    <tr style=\"text-align: right;\">\n",
       "      <th></th>\n",
       "      <th>Coefficient</th>\n",
       "    </tr>\n",
       "  </thead>\n",
       "  <tbody>\n",
       "    <tr>\n",
       "      <th>age</th>\n",
       "      <td>-0.017532</td>\n",
       "    </tr>\n",
       "    <tr>\n",
       "      <th>LGBTQ</th>\n",
       "      <td>0.164217</td>\n",
       "    </tr>\n",
       "    <tr>\n",
       "      <th>heterosexual</th>\n",
       "      <td>-0.164217</td>\n",
       "    </tr>\n",
       "    <tr>\n",
       "      <th>familysize</th>\n",
       "      <td>-0.044276</td>\n",
       "    </tr>\n",
       "    <tr>\n",
       "      <th>Male</th>\n",
       "      <td>-0.028508</td>\n",
       "    </tr>\n",
       "    <tr>\n",
       "      <th>Female</th>\n",
       "      <td>0.028508</td>\n",
       "    </tr>\n",
       "  </tbody>\n",
       "</table>\n",
       "</div>"
      ],
      "text/plain": [
       "              Coefficient\n",
       "age             -0.017532\n",
       "LGBTQ            0.164217\n",
       "heterosexual    -0.164217\n",
       "familysize      -0.044276\n",
       "Male            -0.028508\n",
       "Female           0.028508"
      ]
     },
     "execution_count": 171,
     "metadata": {},
     "output_type": "execute_result"
    }
   ],
   "source": [
    "coeff_df = pd.DataFrame(lin_reg.coef_, X_train.columns, columns=['Coefficient'])  \n",
    "coeff_df"
   ]
  },
  {
   "cell_type": "code",
   "execution_count": 172,
   "metadata": {},
   "outputs": [
    {
     "data": {
      "text/html": [
       "<div>\n",
       "<style scoped>\n",
       "    .dataframe tbody tr th:only-of-type {\n",
       "        vertical-align: middle;\n",
       "    }\n",
       "\n",
       "    .dataframe tbody tr th {\n",
       "        vertical-align: top;\n",
       "    }\n",
       "\n",
       "    .dataframe thead th {\n",
       "        text-align: right;\n",
       "    }\n",
       "</style>\n",
       "<table border=\"1\" class=\"dataframe\">\n",
       "  <thead>\n",
       "    <tr style=\"text-align: right;\">\n",
       "      <th></th>\n",
       "      <th>Actual</th>\n",
       "      <th>Predicted</th>\n",
       "    </tr>\n",
       "  </thead>\n",
       "  <tbody>\n",
       "    <tr>\n",
       "      <th>21103</th>\n",
       "      <td>5</td>\n",
       "      <td>3.337695</td>\n",
       "    </tr>\n",
       "    <tr>\n",
       "      <th>31688</th>\n",
       "      <td>3</td>\n",
       "      <td>3.319190</td>\n",
       "    </tr>\n",
       "    <tr>\n",
       "      <th>35441</th>\n",
       "      <td>3</td>\n",
       "      <td>3.068057</td>\n",
       "    </tr>\n",
       "    <tr>\n",
       "      <th>37455</th>\n",
       "      <td>5</td>\n",
       "      <td>3.327511</td>\n",
       "    </tr>\n",
       "    <tr>\n",
       "      <th>4752</th>\n",
       "      <td>5</td>\n",
       "      <td>3.422344</td>\n",
       "    </tr>\n",
       "  </tbody>\n",
       "</table>\n",
       "</div>"
      ],
      "text/plain": [
       "       Actual  Predicted\n",
       "21103       5   3.337695\n",
       "31688       3   3.319190\n",
       "35441       3   3.068057\n",
       "37455       5   3.327511\n",
       "4752        5   3.422344"
      ]
     },
     "execution_count": 172,
     "metadata": {},
     "output_type": "execute_result"
    }
   ],
   "source": [
    "def1 = pd.DataFrame({'Actual': y_test, 'Predicted': y_pred})\n",
    "def1.head()"
   ]
  },
  {
   "cell_type": "code",
   "execution_count": 173,
   "metadata": {},
   "outputs": [
    {
     "data": {
      "text/plain": [
       "<matplotlib.axes._subplots.AxesSubplot at 0x1a45442a58>"
      ]
     },
     "execution_count": 173,
     "metadata": {},
     "output_type": "execute_result"
    },
    {
     "data": {
      "image/png": "[encoded data removed]",
      "text/plain": [
       "<Figure size 1152x864 with 1 Axes>"
      ]
     },
     "metadata": {
      "needs_background": "light"
     },
     "output_type": "display_data"
    }
   ],
   "source": [
    "def11 = def1.head(50)\n",
    "def11.plot(kind='bar',figsize=(16,12))"
   ]
  },
  {
   "cell_type": "code",
   "execution_count": 174,
   "metadata": {},
   "outputs": [],
   "source": [
    "rf = RandomForestClassifier()"
   ]
  },
  {
   "cell_type": "code",
   "execution_count": 175,
   "metadata": {},
   "outputs": [
    {
     "data": {
      "text/plain": [
       "RandomForestClassifier(bootstrap=True, ccp_alpha=0.0, class_weight=None,\n",
       "                       criterion='gini', max_depth=None, max_features='auto',\n",
       "                       max_leaf_nodes=None, max_samples=None,\n",
       "                       min_impurity_decrease=0.0, min_impurity_split=None,\n",
       "                       min_samples_leaf=1, min_samples_split=2,\n",
       "                       min_weight_fraction_leaf=0.0, n_estimators=100,\n",
       "                       n_jobs=None, oob_score=False, random_state=None,\n",
       "                       verbose=0, warm_start=False)"
      ]
     },
     "execution_count": 175,
     "metadata": {},
     "output_type": "execute_result"
    }
   ],
   "source": [
    "rf.fit(X_train,y_train)"
   ]
  },
  {
   "cell_type": "code",
   "execution_count": 176,
   "metadata": {},
   "outputs": [],
   "source": [
    "y_pred2 = rf.predict(X_test)"
   ]
  },
  {
   "cell_type": "code",
   "execution_count": 177,
   "metadata": {},
   "outputs": [
    {
     "data": {
      "text/plain": [
       "5.1858891288696904"
      ]
     },
     "execution_count": 177,
     "metadata": {},
     "output_type": "execute_result"
    }
   ],
   "source": [
    "mean_squared_error(y_test,y_pred2)"
   ]
  },
  {
   "cell_type": "code",
   "execution_count": 178,
   "metadata": {},
   "outputs": [
    {
     "data": {
      "text/plain": [
       "-1.1727764122232056"
      ]
     },
     "execution_count": 178,
     "metadata": {},
     "output_type": "execute_result"
    }
   ],
   "source": [
    "r2_score(y_test,y_pred2)"
   ]
  },
  {
   "cell_type": "code",
   "execution_count": 179,
   "metadata": {},
   "outputs": [
    {
     "name": "stdout",
     "output_type": "stream",
     "text": [
      "Variable: age                  Importance: 0.68\n",
      "Variable: familysize           Importance: 0.28\n",
      "Variable: heterosexual         Importance: 0.02\n",
      "Variable: LGBTQ                Importance: 0.01\n",
      "Variable: Male                 Importance: 0.01\n",
      "Variable: Female               Importance: 0.01\n"
     ]
    }
   ],
   "source": [
    "# Get numerical feature importances\n",
    "importances = list(rf.feature_importances_)\n",
    "\n",
    "# List of tuples with variable and importance\n",
    "feature_list = list(X_train.columns)\n",
    "feature_importances = [(feature, round(importance, 2)) for feature, importance in zip(feature_list, importances)]\n",
    "\n",
    "# Sort the feature importances by most important first\n",
    "feature_importances = sorted(feature_importances, key = lambda x: x[1], reverse = True)\n",
    "\n",
    "# Print out the feature and importances \n",
    "[print('Variable: {:20} Importance: {}'.format(*pair)) for pair in feature_importances];"
   ]
  },
  {
   "cell_type": "markdown",
   "metadata": {},
   "source": [
    "### (iv) Orientation + Personality"
   ]
  },
  {
   "cell_type": "code",
   "execution_count": 180,
   "metadata": {},
   "outputs": [],
   "source": [
    "df_op = df.copy()"
   ]
  },
  {
   "cell_type": "code",
   "execution_count": 181,
   "metadata": {},
   "outputs": [],
   "source": [
    "X_train,X_test,y_train,y_test = train_test_split(df_op[['heterosexual','LGBTQ','Extroversion', \n",
    "                                                        'Agreeableness', 'Conscientiousness',\n",
    "                                                   'Emotional_stability', 'Openness_to_experience']],\n",
    "                                                df_op['depression_category'],\n",
    "                                                test_size=0.3)"
   ]
  },
  {
   "cell_type": "code",
   "execution_count": 182,
   "metadata": {},
   "outputs": [],
   "source": [
    "lin_reg = LinearRegression()"
   ]
  },
  {
   "cell_type": "code",
   "execution_count": 183,
   "metadata": {},
   "outputs": [
    {
     "data": {
      "text/plain": [
       "LinearRegression(copy_X=True, fit_intercept=True, n_jobs=None, normalize=False)"
      ]
     },
     "execution_count": 183,
     "metadata": {},
     "output_type": "execute_result"
    }
   ],
   "source": [
    "lin_reg.fit(X_train,y_train)"
   ]
  },
  {
   "cell_type": "code",
   "execution_count": 184,
   "metadata": {},
   "outputs": [],
   "source": [
    "y_pred = lin_reg.predict(X_test)"
   ]
  },
  {
   "cell_type": "code",
   "execution_count": 185,
   "metadata": {},
   "outputs": [
    {
     "data": {
      "text/plain": [
       "1.6599700719794654"
      ]
     },
     "execution_count": 185,
     "metadata": {},
     "output_type": "execute_result"
    }
   ],
   "source": [
    "mean_squared_error(y_test,y_pred)"
   ]
  },
  {
   "cell_type": "code",
   "execution_count": 186,
   "metadata": {},
   "outputs": [
    {
     "data": {
      "text/plain": [
       "0.31541839968605634"
      ]
     },
     "execution_count": 186,
     "metadata": {},
     "output_type": "execute_result"
    }
   ],
   "source": [
    "r2_score(y_test,y_pred)"
   ]
  },
  {
   "cell_type": "code",
   "execution_count": 187,
   "metadata": {},
   "outputs": [
    {
     "data": {
      "text/html": [
       "<div>\n",
       "<style scoped>\n",
       "    .dataframe tbody tr th:only-of-type {\n",
       "        vertical-align: middle;\n",
       "    }\n",
       "\n",
       "    .dataframe tbody tr th {\n",
       "        vertical-align: top;\n",
       "    }\n",
       "\n",
       "    .dataframe thead th {\n",
       "        text-align: right;\n",
       "    }\n",
       "</style>\n",
       "<table border=\"1\" class=\"dataframe\">\n",
       "  <thead>\n",
       "    <tr style=\"text-align: right;\">\n",
       "      <th></th>\n",
       "      <th>Coefficient</th>\n",
       "    </tr>\n",
       "  </thead>\n",
       "  <tbody>\n",
       "    <tr>\n",
       "      <th>heterosexual</th>\n",
       "      <td>-0.078450</td>\n",
       "    </tr>\n",
       "    <tr>\n",
       "      <th>LGBTQ</th>\n",
       "      <td>0.078450</td>\n",
       "    </tr>\n",
       "    <tr>\n",
       "      <th>Extroversion</th>\n",
       "      <td>-0.084990</td>\n",
       "    </tr>\n",
       "    <tr>\n",
       "      <th>Agreeableness</th>\n",
       "      <td>-0.028706</td>\n",
       "    </tr>\n",
       "    <tr>\n",
       "      <th>Conscientiousness</th>\n",
       "      <td>-0.068428</td>\n",
       "    </tr>\n",
       "    <tr>\n",
       "      <th>Emotional_stability</th>\n",
       "      <td>-0.216561</td>\n",
       "    </tr>\n",
       "    <tr>\n",
       "      <th>Openness_to_experience</th>\n",
       "      <td>-0.024922</td>\n",
       "    </tr>\n",
       "  </tbody>\n",
       "</table>\n",
       "</div>"
      ],
      "text/plain": [
       "                        Coefficient\n",
       "heterosexual              -0.078450\n",
       "LGBTQ                      0.078450\n",
       "Extroversion              -0.084990\n",
       "Agreeableness             -0.028706\n",
       "Conscientiousness         -0.068428\n",
       "Emotional_stability       -0.216561\n",
       "Openness_to_experience    -0.024922"
      ]
     },
     "execution_count": 187,
     "metadata": {},
     "output_type": "execute_result"
    }
   ],
   "source": [
    "coeff_df = pd.DataFrame(lin_reg.coef_, X_train.columns, columns=['Coefficient'])  \n",
    "coeff_df"
   ]
  },
  {
   "cell_type": "code",
   "execution_count": 188,
   "metadata": {},
   "outputs": [
    {
     "data": {
      "text/html": [
       "<div>\n",
       "<style scoped>\n",
       "    .dataframe tbody tr th:only-of-type {\n",
       "        vertical-align: middle;\n",
       "    }\n",
       "\n",
       "    .dataframe tbody tr th {\n",
       "        vertical-align: top;\n",
       "    }\n",
       "\n",
       "    .dataframe thead th {\n",
       "        text-align: right;\n",
       "    }\n",
       "</style>\n",
       "<table border=\"1\" class=\"dataframe\">\n",
       "  <thead>\n",
       "    <tr style=\"text-align: right;\">\n",
       "      <th></th>\n",
       "      <th>Actual</th>\n",
       "      <th>Predicted</th>\n",
       "    </tr>\n",
       "  </thead>\n",
       "  <tbody>\n",
       "    <tr>\n",
       "      <th>1136</th>\n",
       "      <td>3</td>\n",
       "      <td>3.764288</td>\n",
       "    </tr>\n",
       "    <tr>\n",
       "      <th>6883</th>\n",
       "      <td>2</td>\n",
       "      <td>3.452123</td>\n",
       "    </tr>\n",
       "    <tr>\n",
       "      <th>33581</th>\n",
       "      <td>3</td>\n",
       "      <td>3.201354</td>\n",
       "    </tr>\n",
       "    <tr>\n",
       "      <th>22230</th>\n",
       "      <td>4</td>\n",
       "      <td>3.345545</td>\n",
       "    </tr>\n",
       "    <tr>\n",
       "      <th>39353</th>\n",
       "      <td>5</td>\n",
       "      <td>4.729960</td>\n",
       "    </tr>\n",
       "  </tbody>\n",
       "</table>\n",
       "</div>"
      ],
      "text/plain": [
       "       Actual  Predicted\n",
       "1136        3   3.764288\n",
       "6883        2   3.452123\n",
       "33581       3   3.201354\n",
       "22230       4   3.345545\n",
       "39353       5   4.729960"
      ]
     },
     "execution_count": 188,
     "metadata": {},
     "output_type": "execute_result"
    }
   ],
   "source": [
    "def1 = pd.DataFrame({'Actual': y_test, 'Predicted': y_pred})\n",
    "def1.head()"
   ]
  },
  {
   "cell_type": "code",
   "execution_count": 189,
   "metadata": {},
   "outputs": [
    {
     "data": {
      "text/plain": [
       "<matplotlib.axes._subplots.AxesSubplot at 0x1a4eb3d630>"
      ]
     },
     "execution_count": 189,
     "metadata": {},
     "output_type": "execute_result"
    },
    {
     "data": {
      "image/png": "[encoded data removed]",
      "text/plain": [
       "<Figure size 1152x864 with 1 Axes>"
      ]
     },
     "metadata": {
      "needs_background": "light"
     },
     "output_type": "display_data"
    }
   ],
   "source": [
    "def11 = def1.head(50)\n",
    "def11.plot(kind='bar',figsize=(16,12))"
   ]
  },
  {
   "cell_type": "code",
   "execution_count": 190,
   "metadata": {},
   "outputs": [],
   "source": [
    "rf = RandomForestClassifier()"
   ]
  },
  {
   "cell_type": "code",
   "execution_count": 191,
   "metadata": {},
   "outputs": [
    {
     "data": {
      "text/plain": [
       "RandomForestClassifier(bootstrap=True, ccp_alpha=0.0, class_weight=None,\n",
       "                       criterion='gini', max_depth=None, max_features='auto',\n",
       "                       max_leaf_nodes=None, max_samples=None,\n",
       "                       min_impurity_decrease=0.0, min_impurity_split=None,\n",
       "                       min_samples_leaf=1, min_samples_split=2,\n",
       "                       min_weight_fraction_leaf=0.0, n_estimators=100,\n",
       "                       n_jobs=None, oob_score=False, random_state=None,\n",
       "                       verbose=0, warm_start=False)"
      ]
     },
     "execution_count": 191,
     "metadata": {},
     "output_type": "execute_result"
    }
   ],
   "source": [
    "rf.fit(X_train,y_train)"
   ]
  },
  {
   "cell_type": "code",
   "execution_count": 192,
   "metadata": {},
   "outputs": [],
   "source": [
    "y_pred2 = rf.predict(X_test)"
   ]
  },
  {
   "cell_type": "code",
   "execution_count": 193,
   "metadata": {},
   "outputs": [
    {
     "data": {
      "text/plain": [
       "2.957811375089993"
      ]
     },
     "execution_count": 193,
     "metadata": {},
     "output_type": "execute_result"
    }
   ],
   "source": [
    "mean_squared_error(y_test,y_pred2)"
   ]
  },
  {
   "cell_type": "code",
   "execution_count": 194,
   "metadata": {},
   "outputs": [
    {
     "data": {
      "text/plain": [
       "-0.2198191273239667"
      ]
     },
     "execution_count": 194,
     "metadata": {},
     "output_type": "execute_result"
    }
   ],
   "source": [
    "r2_score(y_test,y_pred2)"
   ]
  },
  {
   "cell_type": "code",
   "execution_count": 195,
   "metadata": {},
   "outputs": [
    {
     "name": "stdout",
     "output_type": "stream",
     "text": [
      "Variable: Agreeableness        Importance: 0.2\n",
      "Variable: Emotional_stability  Importance: 0.2\n",
      "Variable: Openness_to_experience Importance: 0.2\n",
      "Variable: Conscientiousness    Importance: 0.19\n",
      "Variable: Extroversion         Importance: 0.18\n",
      "Variable: heterosexual         Importance: 0.01\n",
      "Variable: LGBTQ                Importance: 0.01\n"
     ]
    }
   ],
   "source": [
    "# Get numerical feature importances\n",
    "importances = list(rf.feature_importances_)\n",
    "\n",
    "# List of tuples with variable and importance\n",
    "feature_list = list(X_train.columns)\n",
    "feature_importances = [(feature, round(importance, 2)) for feature, importance in zip(feature_list, importances)]\n",
    "\n",
    "# Sort the feature importances by most important first\n",
    "feature_importances = sorted(feature_importances, key = lambda x: x[1], reverse = True)\n",
    "\n",
    "# Print out the feature and importances \n",
    "[print('Variable: {:20} Importance: {}'.format(*pair)) for pair in feature_importances];"
   ]
  },
  {
   "cell_type": "markdown",
   "metadata": {},
   "source": [
    "### (v) Orientation + Personality + Gender "
   ]
  },
  {
   "cell_type": "code",
   "execution_count": 196,
   "metadata": {},
   "outputs": [],
   "source": [
    "df_agop = df.copy()"
   ]
  },
  {
   "cell_type": "code",
   "execution_count": 197,
   "metadata": {},
   "outputs": [],
   "source": [
    "X_train,X_test,y_train,y_test = train_test_split(df_agop[['heterosexual','LGBTQ','Extroversion', \n",
    "                                                        'Agreeableness', 'Conscientiousness',\n",
    "                                                   'Emotional_stability', 'Openness_to_experience',\n",
    "                                                         'Male','Female']],\n",
    "                                                df_agop['depression_category'],\n",
    "                                                test_size=0.3)"
   ]
  },
  {
   "cell_type": "code",
   "execution_count": 198,
   "metadata": {},
   "outputs": [],
   "source": [
    "lin_reg = LinearRegression()"
   ]
  },
  {
   "cell_type": "code",
   "execution_count": 199,
   "metadata": {},
   "outputs": [
    {
     "data": {
      "text/plain": [
       "LinearRegression(copy_X=True, fit_intercept=True, n_jobs=None, normalize=False)"
      ]
     },
     "execution_count": 199,
     "metadata": {},
     "output_type": "execute_result"
    }
   ],
   "source": [
    "lin_reg.fit(X_train,y_train)"
   ]
  },
  {
   "cell_type": "code",
   "execution_count": 200,
   "metadata": {},
   "outputs": [],
   "source": [
    "y_pred = lin_reg.predict(X_test)"
   ]
  },
  {
   "cell_type": "code",
   "execution_count": 201,
   "metadata": {},
   "outputs": [
    {
     "data": {
      "text/plain": [
       "1.6565083446264033"
      ]
     },
     "execution_count": 201,
     "metadata": {},
     "output_type": "execute_result"
    }
   ],
   "source": [
    "mean_squared_error(y_test,y_pred)"
   ]
  },
  {
   "cell_type": "code",
   "execution_count": 202,
   "metadata": {},
   "outputs": [
    {
     "data": {
      "text/plain": [
       "0.3127324518126485"
      ]
     },
     "execution_count": 202,
     "metadata": {},
     "output_type": "execute_result"
    }
   ],
   "source": [
    "r2_score(y_test,y_pred)"
   ]
  },
  {
   "cell_type": "code",
   "execution_count": 203,
   "metadata": {},
   "outputs": [
    {
     "data": {
      "text/html": [
       "<div>\n",
       "<style scoped>\n",
       "    .dataframe tbody tr th:only-of-type {\n",
       "        vertical-align: middle;\n",
       "    }\n",
       "\n",
       "    .dataframe tbody tr th {\n",
       "        vertical-align: top;\n",
       "    }\n",
       "\n",
       "    .dataframe thead th {\n",
       "        text-align: right;\n",
       "    }\n",
       "</style>\n",
       "<table border=\"1\" class=\"dataframe\">\n",
       "  <thead>\n",
       "    <tr style=\"text-align: right;\">\n",
       "      <th></th>\n",
       "      <th>Coefficient</th>\n",
       "    </tr>\n",
       "  </thead>\n",
       "  <tbody>\n",
       "    <tr>\n",
       "      <th>heterosexual</th>\n",
       "      <td>-0.081440</td>\n",
       "    </tr>\n",
       "    <tr>\n",
       "      <th>LGBTQ</th>\n",
       "      <td>0.081440</td>\n",
       "    </tr>\n",
       "    <tr>\n",
       "      <th>Extroversion</th>\n",
       "      <td>-0.086860</td>\n",
       "    </tr>\n",
       "    <tr>\n",
       "      <th>Agreeableness</th>\n",
       "      <td>-0.025077</td>\n",
       "    </tr>\n",
       "    <tr>\n",
       "      <th>Conscientiousness</th>\n",
       "      <td>-0.066763</td>\n",
       "    </tr>\n",
       "    <tr>\n",
       "      <th>Emotional_stability</th>\n",
       "      <td>-0.216624</td>\n",
       "    </tr>\n",
       "    <tr>\n",
       "      <th>Openness_to_experience</th>\n",
       "      <td>-0.029304</td>\n",
       "    </tr>\n",
       "    <tr>\n",
       "      <th>Male</th>\n",
       "      <td>0.026051</td>\n",
       "    </tr>\n",
       "    <tr>\n",
       "      <th>Female</th>\n",
       "      <td>-0.026051</td>\n",
       "    </tr>\n",
       "  </tbody>\n",
       "</table>\n",
       "</div>"
      ],
      "text/plain": [
       "                        Coefficient\n",
       "heterosexual              -0.081440\n",
       "LGBTQ                      0.081440\n",
       "Extroversion              -0.086860\n",
       "Agreeableness             -0.025077\n",
       "Conscientiousness         -0.066763\n",
       "Emotional_stability       -0.216624\n",
       "Openness_to_experience    -0.029304\n",
       "Male                       0.026051\n",
       "Female                    -0.026051"
      ]
     },
     "execution_count": 203,
     "metadata": {},
     "output_type": "execute_result"
    }
   ],
   "source": [
    "coeff_df = pd.DataFrame(lin_reg.coef_, X_train.columns, columns=['Coefficient'])  \n",
    "coeff_df"
   ]
  },
  {
   "cell_type": "code",
   "execution_count": 204,
   "metadata": {},
   "outputs": [
    {
     "data": {
      "text/html": [
       "<div>\n",
       "<style scoped>\n",
       "    .dataframe tbody tr th:only-of-type {\n",
       "        vertical-align: middle;\n",
       "    }\n",
       "\n",
       "    .dataframe tbody tr th {\n",
       "        vertical-align: top;\n",
       "    }\n",
       "\n",
       "    .dataframe thead th {\n",
       "        text-align: right;\n",
       "    }\n",
       "</style>\n",
       "<table border=\"1\" class=\"dataframe\">\n",
       "  <thead>\n",
       "    <tr style=\"text-align: right;\">\n",
       "      <th></th>\n",
       "      <th>Actual</th>\n",
       "      <th>Predicted</th>\n",
       "    </tr>\n",
       "  </thead>\n",
       "  <tbody>\n",
       "    <tr>\n",
       "      <th>22761</th>\n",
       "      <td>4</td>\n",
       "      <td>3.993015</td>\n",
       "    </tr>\n",
       "    <tr>\n",
       "      <th>26223</th>\n",
       "      <td>1</td>\n",
       "      <td>1.451226</td>\n",
       "    </tr>\n",
       "    <tr>\n",
       "      <th>25146</th>\n",
       "      <td>4</td>\n",
       "      <td>3.758733</td>\n",
       "    </tr>\n",
       "    <tr>\n",
       "      <th>25538</th>\n",
       "      <td>1</td>\n",
       "      <td>2.512880</td>\n",
       "    </tr>\n",
       "    <tr>\n",
       "      <th>1659</th>\n",
       "      <td>5</td>\n",
       "      <td>3.532850</td>\n",
       "    </tr>\n",
       "  </tbody>\n",
       "</table>\n",
       "</div>"
      ],
      "text/plain": [
       "       Actual  Predicted\n",
       "22761       4   3.993015\n",
       "26223       1   1.451226\n",
       "25146       4   3.758733\n",
       "25538       1   2.512880\n",
       "1659        5   3.532850"
      ]
     },
     "execution_count": 204,
     "metadata": {},
     "output_type": "execute_result"
    }
   ],
   "source": [
    "def1 = pd.DataFrame({'Actual': y_test, 'Predicted': y_pred})\n",
    "def1.head()"
   ]
  },
  {
   "cell_type": "code",
   "execution_count": 205,
   "metadata": {},
   "outputs": [
    {
     "data": {
      "text/plain": [
       "<matplotlib.axes._subplots.AxesSubplot at 0x1a20931b00>"
      ]
     },
     "execution_count": 205,
     "metadata": {},
     "output_type": "execute_result"
    },
    {
     "data": {
      "image/png": "[encoded data removed]",
      "text/plain": [
       "<Figure size 1152x864 with 1 Axes>"
      ]
     },
     "metadata": {
      "needs_background": "light"
     },
     "output_type": "display_data"
    }
   ],
   "source": [
    "def11 = def1.head(50)\n",
    "def11.plot(kind='bar',figsize=(16,12))"
   ]
  },
  {
   "cell_type": "code",
   "execution_count": 206,
   "metadata": {},
   "outputs": [
    {
     "name": "stdout",
     "output_type": "stream",
     "text": [
      "{'n_estimators': [100, 200, 300], 'max_features': ['auto', 'sqrt'], 'max_depth': [10, 20, 30, None], 'min_samples_split': [5, 10], 'min_samples_leaf': [1, 2], 'bootstrap': [True, False]}\n"
     ]
    }
   ],
   "source": [
    "from sklearn.model_selection import RandomizedSearchCV\n",
    "\n",
    "# Number of trees in random forest\n",
    "n_estimators = [int(x) for x in np.linspace(start = 100, stop = 300, num = 3)]\n",
    "# Number of features to consider at every split\n",
    "max_features = ['auto', 'sqrt']\n",
    "# Maximum number of levels in tree\n",
    "max_depth = [int(x) for x in np.linspace(10, 30, num = 3)]\n",
    "max_depth.append(None)\n",
    "# Minimum number of samples required to split a node\n",
    "min_samples_split = [5, 10]\n",
    "# Minimum number of samples required at each leaf node\n",
    "min_samples_leaf = [1, 2]\n",
    "# Method of selecting samples for training each tree\n",
    "bootstrap = [True, False]\n",
    "# Create the random grid\n",
    "random_grid = {'n_estimators': n_estimators,\n",
    "               'max_features': max_features,\n",
    "               'max_depth': max_depth,\n",
    "               'min_samples_split': min_samples_split,\n",
    "               'min_samples_leaf': min_samples_leaf,\n",
    "               'bootstrap': bootstrap}\n",
    "print(random_grid)"
   ]
  },
  {
   "cell_type": "code",
   "execution_count": 207,
   "metadata": {},
   "outputs": [
    {
     "name": "stdout",
     "output_type": "stream",
     "text": [
      "Fitting 3 folds for each of 100 candidates, totalling 300 fits\n"
     ]
    },
    {
     "name": "stderr",
     "output_type": "stream",
     "text": [
      "[Parallel(n_jobs=-1)]: Using backend LokyBackend with 4 concurrent workers.\n",
      "[Parallel(n_jobs=-1)]: Done  33 tasks      | elapsed:   25.6s\n",
      "[Parallel(n_jobs=-1)]: Done 154 tasks      | elapsed:  2.1min\n",
      "[Parallel(n_jobs=-1)]: Done 300 out of 300 | elapsed:  4.1min finished\n"
     ]
    },
    {
     "data": {
      "text/plain": [
       "RandomizedSearchCV(cv=3, error_score=nan,\n",
       "                   estimator=RandomForestClassifier(bootstrap=True,\n",
       "                                                    ccp_alpha=0.0,\n",
       "                                                    class_weight=None,\n",
       "                                                    criterion='gini',\n",
       "                                                    max_depth=None,\n",
       "                                                    max_features='auto',\n",
       "                                                    max_leaf_nodes=None,\n",
       "                                                    max_samples=None,\n",
       "                                                    min_impurity_decrease=0.0,\n",
       "                                                    min_impurity_split=None,\n",
       "                                                    min_samples_leaf=1,\n",
       "                                                    min_samples_split=2,\n",
       "                                                    min_weight_fraction_leaf=0.0,\n",
       "                                                    n_estimators=100,\n",
       "                                                    n_jobs...\n",
       "                                                    verbose=0,\n",
       "                                                    warm_start=False),\n",
       "                   iid='deprecated', n_iter=100, n_jobs=-1,\n",
       "                   param_distributions={'bootstrap': [True, False],\n",
       "                                        'max_depth': [10, 20, 30, None],\n",
       "                                        'max_features': ['auto', 'sqrt'],\n",
       "                                        'min_samples_leaf': [1, 2],\n",
       "                                        'min_samples_split': [5, 10],\n",
       "                                        'n_estimators': [100, 200, 300]},\n",
       "                   pre_dispatch='2*n_jobs', random_state=42, refit=True,\n",
       "                   return_train_score=False, scoring=None, verbose=2)"
      ]
     },
     "execution_count": 207,
     "metadata": {},
     "output_type": "execute_result"
    }
   ],
   "source": [
    "# Use the random grid to search for best hyperparameters\n",
    "# First create the base model to tune\n",
    "rf = RandomForestClassifier()\n",
    "\n",
    "# Random search of parameters, using 3 fold cross validation, \n",
    "# search across 100 different combinations, and use all available cores\n",
    "rf_random = RandomizedSearchCV(estimator = rf, param_distributions = random_grid, n_iter = 100, cv = 3, verbose=2, random_state=42, n_jobs = -1)\n",
    "# Fit the random search model\n",
    "rf_random.fit(X_train, y_train)"
   ]
  },
  {
   "cell_type": "code",
   "execution_count": 208,
   "metadata": {},
   "outputs": [
    {
     "data": {
      "text/plain": [
       "{'n_estimators': 200,\n",
       " 'min_samples_split': 10,\n",
       " 'min_samples_leaf': 2,\n",
       " 'max_features': 'sqrt',\n",
       " 'max_depth': 10,\n",
       " 'bootstrap': True}"
      ]
     },
     "execution_count": 208,
     "metadata": {},
     "output_type": "execute_result"
    }
   ],
   "source": [
    "rf_random.best_params_"
   ]
  },
  {
   "cell_type": "code",
   "execution_count": 209,
   "metadata": {},
   "outputs": [],
   "source": [
    "best_rf = rf_random.best_estimator_"
   ]
  },
  {
   "cell_type": "code",
   "execution_count": 210,
   "metadata": {},
   "outputs": [
    {
     "data": {
      "text/plain": [
       "RandomForestClassifier(bootstrap=True, ccp_alpha=0.0, class_weight=None,\n",
       "                       criterion='gini', max_depth=10, max_features='sqrt',\n",
       "                       max_leaf_nodes=None, max_samples=None,\n",
       "                       min_impurity_decrease=0.0, min_impurity_split=None,\n",
       "                       min_samples_leaf=2, min_samples_split=10,\n",
       "                       min_weight_fraction_leaf=0.0, n_estimators=200,\n",
       "                       n_jobs=None, oob_score=False, random_state=None,\n",
       "                       verbose=0, warm_start=False)"
      ]
     },
     "execution_count": 210,
     "metadata": {},
     "output_type": "execute_result"
    }
   ],
   "source": [
    "best_rf.fit(X_train,y_train)"
   ]
  },
  {
   "cell_type": "code",
   "execution_count": 211,
   "metadata": {},
   "outputs": [],
   "source": [
    "y_pred2 = best_rf.predict(X_test)"
   ]
  },
  {
   "cell_type": "code",
   "execution_count": 212,
   "metadata": {},
   "outputs": [
    {
     "data": {
      "text/plain": [
       "3.0175665946724264"
      ]
     },
     "execution_count": 212,
     "metadata": {},
     "output_type": "execute_result"
    }
   ],
   "source": [
    "mean_squared_error(y_test,y_pred2)"
   ]
  },
  {
   "cell_type": "code",
   "execution_count": 213,
   "metadata": {},
   "outputs": [
    {
     "data": {
      "text/plain": [
       "-0.25195602046924814"
      ]
     },
     "execution_count": 213,
     "metadata": {},
     "output_type": "execute_result"
    }
   ],
   "source": [
    "r2_score(y_test,y_pred2)"
   ]
  },
  {
   "cell_type": "code",
   "execution_count": 214,
   "metadata": {},
   "outputs": [
    {
     "name": "stdout",
     "output_type": "stream",
     "text": [
      "Variable: Emotional_stability  Importance: 0.43\n",
      "Variable: Extroversion         Importance: 0.16\n",
      "Variable: Conscientiousness    Importance: 0.14\n",
      "Variable: Openness_to_experience Importance: 0.11\n",
      "Variable: Agreeableness        Importance: 0.09\n",
      "Variable: Male                 Importance: 0.02\n",
      "Variable: Female               Importance: 0.02\n",
      "Variable: heterosexual         Importance: 0.01\n",
      "Variable: LGBTQ                Importance: 0.01\n"
     ]
    }
   ],
   "source": [
    "# Get numerical feature importances\n",
    "importances = list(best_rf.feature_importances_)\n",
    "\n",
    "# List of tuples with variable and importance\n",
    "feature_list = list(X_train.columns)\n",
    "feature_importances = [(feature, round(importance, 2)) for feature, importance in zip(feature_list, importances)]\n",
    "\n",
    "# Sort the feature importances by most important first\n",
    "feature_importances = sorted(feature_importances, key = lambda x: x[1], reverse = True)\n",
    "\n",
    "# Print out the feature and importances \n",
    "[print('Variable: {:20} Importance: {}'.format(*pair)) for pair in feature_importances];"
   ]
  },
  {
   "cell_type": "code",
   "execution_count": null,
   "metadata": {},
   "outputs": [],
   "source": []
  }
 ],
 "metadata": {
  "kernelspec": {
   "display_name": "Python 3",
   "language": "python",
   "name": "python3"
  },
  "language_info": {
   "codemirror_mode": {
    "name": "ipython",
    "version": 3
   },
   "file_extension": ".py",
   "mimetype": "text/x-python",
   "name": "python",
   "nbconvert_exporter": "python",
   "pygments_lexer": "ipython3",
   "version": "3.7.3"
  }
 },
 "nbformat": 4,
 "nbformat_minor": 2
}
